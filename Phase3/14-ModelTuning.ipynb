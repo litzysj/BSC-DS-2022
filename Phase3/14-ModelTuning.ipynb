{
 "cells": [
  {
   "cell_type": "markdown",
   "metadata": {},
   "source": [
    "# Model Tuning with Grid Search"
   ]
  },
  {
   "cell_type": "markdown",
   "metadata": {
    "hidden": true
   },
   "source": [
    "## Objectives\n",
    "\n",
    "- Explain what hyperparameters are\n",
    "- Describe the purpose of grid searching\n",
    "- Implement grid searching for the purposes of model optimization"
   ]
  },
  {
   "cell_type": "markdown",
   "metadata": {
    "hidden": true
   },
   "source": [
    "![](https://imgs.xkcd.com/comics/machine_learning.png)"
   ]
  },
  {
   "cell_type": "markdown",
   "metadata": {
    "heading_collapsed": true,
    "hidden": true
   },
   "source": [
    "## Hyperparameters"
   ]
  },
  {
   "cell_type": "markdown",
   "metadata": {
    "hidden": true
   },
   "source": [
    "Many of the models we have looked at are really *families* of models in the sense that they make use of **hyperparameters**."
   ]
  },
  {
   "cell_type": "markdown",
   "metadata": {
    "hidden": true
   },
   "source": [
    "Thus for example the $k$-nearest-neighbors algorithm allows us to make:\n",
    "\n",
    "- a 1-nearest-neighbor model\n",
    "- a 2-nearest-neighbors model\n",
    "- a 3-nearest-neighbors model\n",
    "- etc."
   ]
  },
  {
   "cell_type": "markdown",
   "metadata": {
    "hidden": true
   },
   "source": [
    "Or, for another example, the decision tree algorithm allows us to make:\n",
    "\n",
    "- a classifier that branches according to information gain\n",
    "- a classifier that branches according to Gini impurity\n",
    "- a regressor that branches according to mean squared error\n",
    "- etc."
   ]
  },
  {
   "cell_type": "markdown",
   "metadata": {
    "hidden": true
   },
   "source": [
    "Depending on the sort of problem and data at hand, it is natural to experiment with different values of these hyperparameters to try to improve model performance."
   ]
  },
  {
   "cell_type": "markdown",
   "metadata": {
    "hidden": true
   },
   "source": [
    "> We can think of these **hyperparameters** as _dials_ of the base model\n",
    "\n",
    "<img src='https://cdn.dribbble.com/users/947489/screenshots/4522230/0001-0128.gif' width=500>"
   ]
  },
  {
   "cell_type": "markdown",
   "metadata": {
    "hidden": true
   },
   "source": [
    "### Difference from Parametric / Non-Parametric Models\n",
    "\n",
    "Contrast the notion of hyperparameters with the distinction between **parametric** and **non-parametric** models.\n",
    "\n",
    "A linear regression model is parametric in the sense that we start with a given model *form* and we then search for the optimal parameters to fill in that form. But *those* parameters are not the sort we might tweak for the purposes of improving model performance! On the contrary, there is **one** best set of parameters, and the training of the model is a matter of finding those optimal values."
   ]
  },
  {
   "cell_type": "markdown",
   "metadata": {},
   "source": [
    "## Scenario: Cat in the Dat(a)\n",
    "\n",
    "Let's revisit our cat in the data kaggle competition: https://www.kaggle.com/c/cat-in-the-dat-ii"
   ]
  },
  {
   "cell_type": "code",
   "execution_count": 1,
   "metadata": {},
   "outputs": [],
   "source": [
    "# Imports\n",
    "import pandas as pd\n",
    "import numpy as np\n",
    "\n",
    "import matplotlib.pyplot as plt\n",
    "\n",
    "from sklearn.pipeline import Pipeline\n",
    "from sklearn.compose import ColumnTransformer\n",
    "from sklearn.impute import SimpleImputer\n",
    "from sklearn.preprocessing import MinMaxScaler, OneHotEncoder, StandardScaler\n",
    "from sklearn.dummy import DummyClassifier\n",
    "from sklearn.linear_model import LogisticRegression\n",
    "from sklearn.tree import DecisionTreeClassifier\n",
    "from sklearn.neighbors import KNeighborsClassifier\n",
    "from sklearn.naive_bayes import GaussianNB, MultinomialNB\n",
    "from sklearn.model_selection import train_test_split, cross_validate\n",
    "from sklearn.metrics import accuracy_score, f1_score, precision_score, recall_score\n",
    "from sklearn.metrics import roc_auc_score, plot_roc_curve, plot_precision_recall_curve\n",
    "from sklearn.metrics import confusion_matrix, plot_confusion_matrix"
   ]
  },
  {
   "cell_type": "code",
   "execution_count": 2,
   "metadata": {},
   "outputs": [],
   "source": [
    "# Grab, then explore data\n",
    "df = pd.read_csv(\"data/cat_in_the_dat2_train.csv\", index_col='id')"
   ]
  },
  {
   "cell_type": "code",
   "execution_count": 3,
   "metadata": {},
   "outputs": [],
   "source": [
    "# Define our X and y\n",
    "\n",
    "X = df.drop(columns=['target'])\n",
    "y = df['target']\n",
    "\n",
    "# and train test split - to create our val holdout set!\n",
    "X_train, X_val, y_train, y_val = train_test_split(X, y, test_size=0.1,\n",
    "                                                  random_state=0)"
   ]
  },
  {
   "cell_type": "markdown",
   "metadata": {},
   "source": [
    "### Preprocessor Pipeline\n",
    "\n",
    "Let's bring back our preprocessor pipeline we built:"
   ]
  },
  {
   "cell_type": "code",
   "execution_count": 4,
   "metadata": {},
   "outputs": [],
   "source": [
    "# First defining our overall used columns - those with less than 30 uniques\n",
    "used_cols = [col for col in X_train.columns if len(X_train[col].unique()) < 30]\n",
    "\n",
    "# Defining our object columns\n",
    "obj_cols = [col for col in used_cols if X_train[col].dtype == 'O']\n",
    "# And our object transformer\n",
    "obj_transformer = Pipeline(steps=[\n",
    "    (\"obj_imputer\", SimpleImputer(strategy = 'constant', fill_value='WHATEVER')),\n",
    "    ('ohe', OneHotEncoder(drop=['WHATEVER']*len(obj_cols)))\n",
    "])\n",
    "\n",
    "# Now defining our numeric columns\n",
    "num_cols = [col for col in used_cols if X_train[col].dtype != 'O']\n",
    "# And our numeric transformer\n",
    "num_transformer = Pipeline(steps = [\n",
    "    ('num_imputer', SimpleImputer(strategy='most_frequent')),\n",
    "    ('scaler', MinMaxScaler())\n",
    "])\n",
    "\n",
    "# Putting them together into a preprocessor\n",
    "preprocessor = ColumnTransformer(transformers=[\n",
    "    (\"num_trans\", num_transformer, num_cols),\n",
    "    ('obj_trans', obj_transformer, obj_cols)\n",
    "])"
   ]
  },
  {
   "cell_type": "code",
   "execution_count": 9,
   "metadata": {},
   "outputs": [
    {
     "data": {
      "text/plain": [
       "['bin_0', 'bin_1', 'bin_2', 'ord_0', 'day', 'month']"
      ]
     },
     "execution_count": 9,
     "metadata": {},
     "output_type": "execute_result"
    }
   ],
   "source": [
    "num_cols"
   ]
  },
  {
   "cell_type": "code",
   "execution_count": 8,
   "metadata": {},
   "outputs": [],
   "source": [
    "ohe_col_names = preprocessor.named_transformers_['obj_trans']['ohe'].get_feature_names()"
   ]
  },
  {
   "cell_type": "code",
   "execution_count": 10,
   "metadata": {},
   "outputs": [
    {
     "data": {
      "text/plain": [
       "87"
      ]
     },
     "execution_count": 10,
     "metadata": {},
     "output_type": "execute_result"
    }
   ],
   "source": [
    "output_cols = [*num_cols, *ohe_col_names]\n",
    "len(output_cols)"
   ]
  },
  {
   "cell_type": "code",
   "execution_count": 15,
   "metadata": {},
   "outputs": [
    {
     "data": {
      "text/html": [
       "<div>\n",
       "<style scoped>\n",
       "    .dataframe tbody tr th:only-of-type {\n",
       "        vertical-align: middle;\n",
       "    }\n",
       "\n",
       "    .dataframe tbody tr th {\n",
       "        vertical-align: top;\n",
       "    }\n",
       "\n",
       "    .dataframe thead th {\n",
       "        text-align: right;\n",
       "    }\n",
       "</style>\n",
       "<table border=\"1\" class=\"dataframe\">\n",
       "  <thead>\n",
       "    <tr style=\"text-align: right;\">\n",
       "      <th></th>\n",
       "      <th>bin_0</th>\n",
       "      <th>bin_1</th>\n",
       "      <th>bin_2</th>\n",
       "      <th>ord_0</th>\n",
       "      <th>day</th>\n",
       "      <th>month</th>\n",
       "      <th>x0_F</th>\n",
       "      <th>x0_T</th>\n",
       "      <th>x1_N</th>\n",
       "      <th>x1_Y</th>\n",
       "      <th>...</th>\n",
       "      <th>x10_Q</th>\n",
       "      <th>x10_R</th>\n",
       "      <th>x10_S</th>\n",
       "      <th>x10_T</th>\n",
       "      <th>x10_U</th>\n",
       "      <th>x10_V</th>\n",
       "      <th>x10_W</th>\n",
       "      <th>x10_X</th>\n",
       "      <th>x10_Y</th>\n",
       "      <th>x10_Z</th>\n",
       "    </tr>\n",
       "    <tr>\n",
       "      <th>id</th>\n",
       "      <th></th>\n",
       "      <th></th>\n",
       "      <th></th>\n",
       "      <th></th>\n",
       "      <th></th>\n",
       "      <th></th>\n",
       "      <th></th>\n",
       "      <th></th>\n",
       "      <th></th>\n",
       "      <th></th>\n",
       "      <th></th>\n",
       "      <th></th>\n",
       "      <th></th>\n",
       "      <th></th>\n",
       "      <th></th>\n",
       "      <th></th>\n",
       "      <th></th>\n",
       "      <th></th>\n",
       "      <th></th>\n",
       "      <th></th>\n",
       "      <th></th>\n",
       "    </tr>\n",
       "  </thead>\n",
       "  <tbody>\n",
       "    <tr>\n",
       "      <th>111903</th>\n",
       "      <td>0.0</td>\n",
       "      <td>0.0</td>\n",
       "      <td>0.0</td>\n",
       "      <td>1.0</td>\n",
       "      <td>0.500000</td>\n",
       "      <td>0.727273</td>\n",
       "      <td>1.0</td>\n",
       "      <td>0.0</td>\n",
       "      <td>0.0</td>\n",
       "      <td>0.0</td>\n",
       "      <td>...</td>\n",
       "      <td>0.0</td>\n",
       "      <td>0.0</td>\n",
       "      <td>0.0</td>\n",
       "      <td>0.0</td>\n",
       "      <td>0.0</td>\n",
       "      <td>0.0</td>\n",
       "      <td>0.0</td>\n",
       "      <td>0.0</td>\n",
       "      <td>0.0</td>\n",
       "      <td>0.0</td>\n",
       "    </tr>\n",
       "    <tr>\n",
       "      <th>521435</th>\n",
       "      <td>0.0</td>\n",
       "      <td>1.0</td>\n",
       "      <td>0.0</td>\n",
       "      <td>0.5</td>\n",
       "      <td>0.666667</td>\n",
       "      <td>0.000000</td>\n",
       "      <td>1.0</td>\n",
       "      <td>0.0</td>\n",
       "      <td>1.0</td>\n",
       "      <td>0.0</td>\n",
       "      <td>...</td>\n",
       "      <td>0.0</td>\n",
       "      <td>0.0</td>\n",
       "      <td>0.0</td>\n",
       "      <td>0.0</td>\n",
       "      <td>0.0</td>\n",
       "      <td>0.0</td>\n",
       "      <td>0.0</td>\n",
       "      <td>0.0</td>\n",
       "      <td>0.0</td>\n",
       "      <td>0.0</td>\n",
       "    </tr>\n",
       "    <tr>\n",
       "      <th>484488</th>\n",
       "      <td>0.0</td>\n",
       "      <td>0.0</td>\n",
       "      <td>0.0</td>\n",
       "      <td>0.5</td>\n",
       "      <td>0.166667</td>\n",
       "      <td>0.636364</td>\n",
       "      <td>1.0</td>\n",
       "      <td>0.0</td>\n",
       "      <td>1.0</td>\n",
       "      <td>0.0</td>\n",
       "      <td>...</td>\n",
       "      <td>0.0</td>\n",
       "      <td>0.0</td>\n",
       "      <td>0.0</td>\n",
       "      <td>0.0</td>\n",
       "      <td>0.0</td>\n",
       "      <td>0.0</td>\n",
       "      <td>0.0</td>\n",
       "      <td>0.0</td>\n",
       "      <td>0.0</td>\n",
       "      <td>0.0</td>\n",
       "    </tr>\n",
       "    <tr>\n",
       "      <th>529639</th>\n",
       "      <td>0.0</td>\n",
       "      <td>1.0</td>\n",
       "      <td>1.0</td>\n",
       "      <td>0.0</td>\n",
       "      <td>0.666667</td>\n",
       "      <td>0.090909</td>\n",
       "      <td>1.0</td>\n",
       "      <td>0.0</td>\n",
       "      <td>1.0</td>\n",
       "      <td>0.0</td>\n",
       "      <td>...</td>\n",
       "      <td>0.0</td>\n",
       "      <td>0.0</td>\n",
       "      <td>0.0</td>\n",
       "      <td>0.0</td>\n",
       "      <td>0.0</td>\n",
       "      <td>0.0</td>\n",
       "      <td>0.0</td>\n",
       "      <td>0.0</td>\n",
       "      <td>0.0</td>\n",
       "      <td>0.0</td>\n",
       "    </tr>\n",
       "    <tr>\n",
       "      <th>589943</th>\n",
       "      <td>0.0</td>\n",
       "      <td>0.0</td>\n",
       "      <td>0.0</td>\n",
       "      <td>0.5</td>\n",
       "      <td>0.833333</td>\n",
       "      <td>0.636364</td>\n",
       "      <td>0.0</td>\n",
       "      <td>1.0</td>\n",
       "      <td>1.0</td>\n",
       "      <td>0.0</td>\n",
       "      <td>...</td>\n",
       "      <td>0.0</td>\n",
       "      <td>0.0</td>\n",
       "      <td>0.0</td>\n",
       "      <td>0.0</td>\n",
       "      <td>0.0</td>\n",
       "      <td>0.0</td>\n",
       "      <td>0.0</td>\n",
       "      <td>0.0</td>\n",
       "      <td>0.0</td>\n",
       "      <td>0.0</td>\n",
       "    </tr>\n",
       "  </tbody>\n",
       "</table>\n",
       "<p>5 rows × 87 columns</p>\n",
       "</div>"
      ],
      "text/plain": [
       "        bin_0  bin_1  bin_2  ord_0       day     month  x0_F  x0_T  x1_N  \\\n",
       "id                                                                         \n",
       "111903    0.0    0.0    0.0    1.0  0.500000  0.727273   1.0   0.0   0.0   \n",
       "521435    0.0    1.0    0.0    0.5  0.666667  0.000000   1.0   0.0   1.0   \n",
       "484488    0.0    0.0    0.0    0.5  0.166667  0.636364   1.0   0.0   1.0   \n",
       "529639    0.0    1.0    1.0    0.0  0.666667  0.090909   1.0   0.0   1.0   \n",
       "589943    0.0    0.0    0.0    0.5  0.833333  0.636364   0.0   1.0   1.0   \n",
       "\n",
       "        x1_Y  ...  x10_Q  x10_R  x10_S  x10_T  x10_U  x10_V  x10_W  x10_X  \\\n",
       "id            ...                                                           \n",
       "111903   0.0  ...    0.0    0.0    0.0    0.0    0.0    0.0    0.0    0.0   \n",
       "521435   0.0  ...    0.0    0.0    0.0    0.0    0.0    0.0    0.0    0.0   \n",
       "484488   0.0  ...    0.0    0.0    0.0    0.0    0.0    0.0    0.0    0.0   \n",
       "529639   0.0  ...    0.0    0.0    0.0    0.0    0.0    0.0    0.0    0.0   \n",
       "589943   0.0  ...    0.0    0.0    0.0    0.0    0.0    0.0    0.0    0.0   \n",
       "\n",
       "        x10_Y  x10_Z  \n",
       "id                    \n",
       "111903    0.0    0.0  \n",
       "521435    0.0    0.0  \n",
       "484488    0.0    0.0  \n",
       "529639    0.0    0.0  \n",
       "589943    0.0    0.0  \n",
       "\n",
       "[5 rows x 87 columns]"
      ]
     },
     "execution_count": 15,
     "metadata": {},
     "output_type": "execute_result"
    }
   ],
   "source": [
    "pd.DataFrame(preprocessor.fit_transform(X_train[used_cols]).A,\n",
    "             index=X_train.index, columns=output_cols).head()"
   ]
  },
  {
   "cell_type": "markdown",
   "metadata": {
    "heading_collapsed": true,
    "hidden": true
   },
   "source": [
    "### Trying Different Models & Values\n",
    "\n",
    "Let's explore three different model types, using our preprocessor pipeline and evaluating using `cross_validate`:"
   ]
  },
  {
   "cell_type": "markdown",
   "metadata": {},
   "source": [
    "#### Logistic Regression"
   ]
  },
  {
   "cell_type": "code",
   "execution_count": 17,
   "metadata": {},
   "outputs": [],
   "source": [
    "clf_lr = Pipeline(steps=[\n",
    "    ('preprocessor', preprocessor),\n",
    "    ('logreg', LogisticRegression(random_state=713))\n",
    "])"
   ]
  },
  {
   "cell_type": "code",
   "execution_count": 18,
   "metadata": {},
   "outputs": [
    {
     "name": "stderr",
     "output_type": "stream",
     "text": [
      "/Users/litzysalazar/opt/anaconda3/envs/learn-env/lib/python3.8/site-packages/sklearn/linear_model/_logistic.py:762: ConvergenceWarning: lbfgs failed to converge (status=1):\n",
      "STOP: TOTAL NO. of ITERATIONS REACHED LIMIT.\n",
      "\n",
      "Increase the number of iterations (max_iter) or scale the data as shown in:\n",
      "    https://scikit-learn.org/stable/modules/preprocessing.html\n",
      "Please also refer to the documentation for alternative solver options:\n",
      "    https://scikit-learn.org/stable/modules/linear_model.html#logistic-regression\n",
      "  n_iter_i = _check_optimize_result(\n",
      "/Users/litzysalazar/opt/anaconda3/envs/learn-env/lib/python3.8/site-packages/sklearn/linear_model/_logistic.py:762: ConvergenceWarning: lbfgs failed to converge (status=1):\n",
      "STOP: TOTAL NO. of ITERATIONS REACHED LIMIT.\n",
      "\n",
      "Increase the number of iterations (max_iter) or scale the data as shown in:\n",
      "    https://scikit-learn.org/stable/modules/preprocessing.html\n",
      "Please also refer to the documentation for alternative solver options:\n",
      "    https://scikit-learn.org/stable/modules/linear_model.html#logistic-regression\n",
      "  n_iter_i = _check_optimize_result(\n"
     ]
    }
   ],
   "source": [
    "cv_results = cross_validate(clf_lr, X_train[used_cols], y_train,\n",
    "                            scoring=['roc_auc', 'f1'])"
   ]
  },
  {
   "cell_type": "code",
   "execution_count": 19,
   "metadata": {},
   "outputs": [
    {
     "data": {
      "text/plain": [
       "{'fit_time': array([5.44178009, 4.98794913, 5.40342498, 5.46978402, 5.36496735]),\n",
       " 'score_time': array([1.23542595, 1.21480918, 1.21470714, 1.21830416, 1.20083475]),\n",
       " 'test_roc_auc': array([0.73592695, 0.73430216, 0.73870237, 0.73259681, 0.73553261]),\n",
       " 'test_f1': array([0.16649166, 0.17204481, 0.16301652, 0.16921013, 0.17259222])}"
      ]
     },
     "execution_count": 19,
     "metadata": {},
     "output_type": "execute_result"
    }
   ],
   "source": [
    "cv_resultsts_results_results"
   ]
  },
  {
   "cell_type": "markdown",
   "metadata": {
    "heading_collapsed": true,
    "hidden": true
   },
   "source": [
    "#### Decision Tree"
   ]
  },
  {
   "cell_type": "code",
   "execution_count": 20,
   "metadata": {},
   "outputs": [],
   "source": [
    "clf_lr = Pipeline(steps=[\n",
    "    ('preprocessor', preprocessor),\n",
    "    ('tree', DecisionTreeClassifier(max_depth=7, random_state=713))\n",
    "])"
   ]
  },
  {
   "cell_type": "code",
   "execution_count": 21,
   "metadata": {},
   "outputs": [
    {
     "data": {
      "text/plain": [
       "{'fit_time': array([4.17166996, 4.09052014, 4.06305385, 4.10969496, 4.07737374]),\n",
       " 'score_time': array([1.21341419, 1.20721102, 1.22462106, 1.21202898, 1.20578599]),\n",
       " 'test_roc_auc': array([0.67141229, 0.66792007, 0.67202339, 0.66846962, 0.66986597]),\n",
       " 'test_f1': array([0.05099737, 0.04137211, 0.04184697, 0.03716586, 0.05640116])}"
      ]
     },
     "execution_count": 21,
     "metadata": {},
     "output_type": "execute_result"
    }
   ],
   "source": [
    "cv_results = cross_validate(clf_lr, X_train[used_cols], y_train,\n",
    "                            scoring=['roc_auc', 'f1'])\n",
    "cv_results"
   ]
  },
  {
   "cell_type": "markdown",
   "metadata": {},
   "source": [
    "#### Your Choice: KNN or Naive Bayes?"
   ]
  },
  {
   "cell_type": "code",
   "execution_count": 22,
   "metadata": {},
   "outputs": [],
   "source": [
    "clf_nb = Pipeline(steps=[\n",
    "    ('preprocessor', preprocessor),\n",
    "    ('bayes', MultinomialNB())\n",
    "])"
   ]
  },
  {
   "cell_type": "code",
   "execution_count": 23,
   "metadata": {},
   "outputs": [
    {
     "data": {
      "text/plain": [
       "{'fit_time': array([4.14700794, 4.07600212, 4.03238201, 4.04965591, 4.0329659 ]),\n",
       " 'score_time': array([1.2076838 , 1.20068669, 1.20609283, 1.19835114, 1.20371914]),\n",
       " 'test_roc_auc': array([0.67141229, 0.66792007, 0.67202339, 0.66846962, 0.66986597]),\n",
       " 'test_f1': array([0.05099737, 0.04137211, 0.04184697, 0.03716586, 0.05640116])}"
      ]
     },
     "execution_count": 23,
     "metadata": {},
     "output_type": "execute_result"
    }
   ],
   "source": [
    "cv_results = cross_validate(clf_lr, X_train[used_cols], y_train,\n",
    "                            scoring=['roc_auc', 'f1'])\n",
    "cv_results"
   ]
  },
  {
   "cell_type": "markdown",
   "metadata": {
    "heading_collapsed": true
   },
   "source": [
    "## Automatically Searching for Optimal Hyperparameters with Grid Search"
   ]
  },
  {
   "cell_type": "markdown",
   "metadata": {
    "hidden": true
   },
   "source": [
    "It's not a bad idea to experiment with the values of your models' hyperparameters a bit as you're getting a feel for your models' performance. But there are more systematic ways of going about the search for optimal hyperparameters. One method of hyperparameter tuning is **grid searching**. "
   ]
  },
  {
   "cell_type": "markdown",
   "metadata": {
    "hidden": true
   },
   "source": [
    "The idea is to build multiple models with different hyperparameter values and then see which one performs the best. The hyperparameters and the values to try form a sort of *grid* along which we are looking for the best performance. \n",
    "\n",
    "For example, for KNN:\n",
    "\n",
    "    n_neighbors | metric      | weights\n",
    "    ______________________________________\n",
    "    1           | 'minkowski' | 'uniform'\n",
    "    3           | 'manhattan' | 'distance'\n",
    "    5           |\n"
   ]
  },
  {
   "cell_type": "markdown",
   "metadata": {
    "hidden": true
   },
   "source": [
    "Scikit-Learn has a [`GridSearchCV`](https://scikit-learn.org/stable/modules/generated/sklearn.model_selection.GridSearchCV.html) class whose `fit()` method runs this procedure. Note that this can be quite computationally expensive since:\n",
    "\n",
    "- A model is constructed for each combination of hyperparameter values that we input; and\n",
    "- Each model is cross-validated."
   ]
  },
  {
   "cell_type": "markdown",
   "metadata": {
    "heading_collapsed": true,
    "hidden": true
   },
   "source": [
    "### `GridSearchCV`\n",
    "\n",
    "Note! When using `GridSearchCV` in SKLearn with a pipeline, you need to use the nicknames we give to tell it where these hyperparameters are being tested!\n",
    "\n",
    "Resource: https://scikit-learn.org/stable/tutorial/statistical_inference/putting_together.html"
   ]
  },
  {
   "cell_type": "code",
   "execution_count": 24,
   "metadata": {},
   "outputs": [],
   "source": [
    "# Import GridSearchCV\n",
    "from sklearn.model_selection import GridSearchCV"
   ]
  },
  {
   "cell_type": "code",
   "execution_count": 25,
   "metadata": {},
   "outputs": [],
   "source": [
    "# Choose one model type to optimize, and set up the base pipeline\n",
    "\n",
    "clf = Pipeline(steps=[\n",
    "    ('preprocessor', preprocessor),\n",
    "     ('tree', DecisionTreeClassifier(max_depth=7, random_state=713))\n",
    "])"
   ]
  },
  {
   "cell_type": "code",
   "execution_count": 28,
   "metadata": {
    "ExecuteTime": {
     "end_time": "2021-10-28T03:33:34.611150Z",
     "start_time": "2021-10-28T03:33:34.608300Z"
    },
    "hidden": true
   },
   "outputs": [],
   "source": [
    "# Define the parameter grid for one model type\n",
    "\n",
    "param_grid = {\n",
    "    \"tree__max_depth\": [5,14,22,81],\n",
    "    \"tree__min_samples_leaf\":[5,14,22]\n",
    "}"
   ]
  },
  {
   "cell_type": "markdown",
   "metadata": {
    "hidden": true
   },
   "source": [
    "**Question: How many models will we be constructing with this grid?**\n",
    "\n",
    "- 60(4*3) with cv=5"
   ]
  },
  {
   "cell_type": "code",
   "execution_count": 30,
   "metadata": {
    "ExecuteTime": {
     "end_time": "2021-10-28T03:33:35.802959Z",
     "start_time": "2021-10-28T03:33:35.800647Z"
    },
    "hidden": true
   },
   "outputs": [
    {
     "data": {
      "text/plain": [
       "GridSearchCV(cv=5,\n",
       "             estimator=Pipeline(steps=[('preprocessor',\n",
       "                                        ColumnTransformer(transformers=[('num_trans',\n",
       "                                                                         Pipeline(steps=[('num_imputer',\n",
       "                                                                                          SimpleImputer(strategy='most_frequent')),\n",
       "                                                                                         ('scaler',\n",
       "                                                                                          MinMaxScaler())]),\n",
       "                                                                         ['bin_0',\n",
       "                                                                          'bin_1',\n",
       "                                                                          'bin_2',\n",
       "                                                                          'ord_0',\n",
       "                                                                          'day',\n",
       "                                                                          'month']),\n",
       "                                                                        ('obj_trans',\n",
       "                                                                         Pipeline(steps=[('obj_imputer',\n",
       "                                                                                          SimpleImputer(fill_value='WHATEVER',\n",
       "                                                                                                        strategy='consta...\n",
       "                                                                                                              'WHATEVER',\n",
       "                                                                                                              'WHATEVER',\n",
       "                                                                                                              'WHATEVER',\n",
       "                                                                                                              'WHATEVER',\n",
       "                                                                                                              'WHATEVER',\n",
       "                                                                                                              'WHATEVER',\n",
       "                                                                                                              'WHATEVER',\n",
       "                                                                                                              'WHATEVER',\n",
       "                                                                                                              'WHATEVER']))]),\n",
       "                                                                         ['bin_3',\n",
       "                                                                          'bin_4',\n",
       "                                                                          'nom_0',\n",
       "                                                                          'nom_1',\n",
       "                                                                          'nom_2',\n",
       "                                                                          'nom_3',\n",
       "                                                                          'nom_4',\n",
       "                                                                          'ord_1',\n",
       "                                                                          'ord_2',\n",
       "                                                                          'ord_3',\n",
       "                                                                          'ord_4'])])),\n",
       "                                       ('tree',\n",
       "                                        DecisionTreeClassifier(max_depth=7,\n",
       "                                                               random_state=713))]),\n",
       "             param_grid={'tree__max_depth': [5, 14, 22, 81],\n",
       "                         'tree__min_samples_leaf': [5, 14, 22]},\n",
       "             scoring='roc_auc')"
      ]
     },
     "execution_count": 30,
     "metadata": {},
     "output_type": "execute_result"
    }
   ],
   "source": [
    "# Initialize the grid search object with five-fold cross-validation\n",
    "\n",
    "gs = GridSearchCV(clf, param_grid, cv=5, scoring='roc_auc')\n",
    "\n",
    "# Then fit it to our X_train and y_train\n",
    "gs.fit(X_train[used_cols], y_train)"
   ]
  },
  {
   "cell_type": "code",
   "execution_count": 31,
   "metadata": {
    "ExecuteTime": {
     "end_time": "2021-10-28T03:33:38.438408Z",
     "start_time": "2021-10-28T03:33:38.435309Z"
    },
    "hidden": true
   },
   "outputs": [
    {
     "data": {
      "text/plain": [
       "{'tree__max_depth': 14, 'tree__min_samples_leaf': 22}"
      ]
     },
     "execution_count": 31,
     "metadata": {},
     "output_type": "execute_result"
    }
   ],
   "source": [
    "# Check out the best parameters\n",
    "gs.best_params_"
   ]
  },
  {
   "cell_type": "code",
   "execution_count": 32,
   "metadata": {
    "ExecuteTime": {
     "end_time": "2021-10-28T03:33:38.739396Z",
     "start_time": "2021-10-28T03:33:38.736044Z"
    },
    "hidden": true
   },
   "outputs": [
    {
     "data": {
      "text/plain": [
       "0.6805734653573501"
      ]
     },
     "execution_count": 32,
     "metadata": {},
     "output_type": "execute_result"
    }
   ],
   "source": [
    "# Check out the best score\n",
    "gs.best_score_"
   ]
  },
  {
   "cell_type": "code",
   "execution_count": 33,
   "metadata": {
    "ExecuteTime": {
     "end_time": "2021-10-28T03:33:40.999187Z",
     "start_time": "2021-10-28T03:33:40.984761Z"
    },
    "hidden": true,
    "scrolled": true
   },
   "outputs": [
    {
     "data": {
      "text/plain": [
       "Pipeline(steps=[('preprocessor',\n",
       "                 ColumnTransformer(transformers=[('num_trans',\n",
       "                                                  Pipeline(steps=[('num_imputer',\n",
       "                                                                   SimpleImputer(strategy='most_frequent')),\n",
       "                                                                  ('scaler',\n",
       "                                                                   MinMaxScaler())]),\n",
       "                                                  ['bin_0', 'bin_1', 'bin_2',\n",
       "                                                   'ord_0', 'day', 'month']),\n",
       "                                                 ('obj_trans',\n",
       "                                                  Pipeline(steps=[('obj_imputer',\n",
       "                                                                   SimpleImputer(fill_value='WHATEVER',\n",
       "                                                                                 strategy='constant')),\n",
       "                                                                  ('ohe',\n",
       "                                                                   OneHotEncoder(drop=['WHATEVER',\n",
       "                                                                                       'WHATEVER',\n",
       "                                                                                       'WHATEVER',\n",
       "                                                                                       'WHATEVER',\n",
       "                                                                                       'WHATEVER',\n",
       "                                                                                       'WHATEVER',\n",
       "                                                                                       'WHATEVER',\n",
       "                                                                                       'WHATEVER',\n",
       "                                                                                       'WHATEVER',\n",
       "                                                                                       'WHATEVER',\n",
       "                                                                                       'WHATEVER']))]),\n",
       "                                                  ['bin_3', 'bin_4', 'nom_0',\n",
       "                                                   'nom_1', 'nom_2', 'nom_3',\n",
       "                                                   'nom_4', 'ord_1', 'ord_2',\n",
       "                                                   'ord_3', 'ord_4'])])),\n",
       "                ('tree',\n",
       "                 DecisionTreeClassifier(max_depth=14, min_samples_leaf=22,\n",
       "                                        random_state=713))])"
      ]
     },
     "execution_count": 33,
     "metadata": {},
     "output_type": "execute_result"
    }
   ],
   "source": [
    "# We can grab the best estimator out, as a fit model!\n",
    "gs.best_estimator_"
   ]
  },
  {
   "cell_type": "code",
   "execution_count": 34,
   "metadata": {
    "ExecuteTime": {
     "end_time": "2021-10-28T03:33:41.214030Z",
     "start_time": "2021-10-28T03:33:41.205532Z"
    },
    "hidden": true
   },
   "outputs": [
    {
     "data": {
      "text/plain": [
       "{'mean_fit_time': array([ 3.25591412,  3.22279935,  3.24336448, 15.32972002, 15.31376567,\n",
       "        14.93602076, 36.40502176, 50.27467561, 30.06150694, 45.3831984 ,\n",
       "        37.04885125, 33.75754194]),\n",
       " 'std_fit_time': array([6.27779439e-02, 1.36968860e-02, 2.32207504e-02, 1.62874816e-01,\n",
       "        8.43496103e-01, 2.49216982e-01, 2.97385813e-01, 3.64337740e+01,\n",
       "        3.16255283e-01, 3.77894098e-01, 4.30575786e-01, 1.34050638e-01]),\n",
       " 'mean_score_time': array([0.58812785, 0.58377819, 0.59238472, 0.60441079, 0.61725693,\n",
       "        0.60219927, 0.61615419, 0.63565316, 0.62558665, 0.61247072,\n",
       "        0.62455225, 0.62075624]),\n",
       " 'std_score_time': array([0.00934681, 0.00133394, 0.00641686, 0.00675473, 0.03967682,\n",
       "        0.00529775, 0.01370401, 0.04423979, 0.01375402, 0.00737139,\n",
       "        0.01560415, 0.00597591]),\n",
       " 'param_tree__max_depth': masked_array(data=[5, 5, 5, 14, 14, 14, 22, 22, 22, 81, 81, 81],\n",
       "              mask=[False, False, False, False, False, False, False, False,\n",
       "                    False, False, False, False],\n",
       "        fill_value='?',\n",
       "             dtype=object),\n",
       " 'param_tree__min_samples_leaf': masked_array(data=[5, 14, 22, 5, 14, 22, 5, 14, 22, 5, 14, 22],\n",
       "              mask=[False, False, False, False, False, False, False, False,\n",
       "                    False, False, False, False],\n",
       "        fill_value='?',\n",
       "             dtype=object),\n",
       " 'params': [{'tree__max_depth': 5, 'tree__min_samples_leaf': 5},\n",
       "  {'tree__max_depth': 5, 'tree__min_samples_leaf': 14},\n",
       "  {'tree__max_depth': 5, 'tree__min_samples_leaf': 22},\n",
       "  {'tree__max_depth': 14, 'tree__min_samples_leaf': 5},\n",
       "  {'tree__max_depth': 14, 'tree__min_samples_leaf': 14},\n",
       "  {'tree__max_depth': 14, 'tree__min_samples_leaf': 22},\n",
       "  {'tree__max_depth': 22, 'tree__min_samples_leaf': 5},\n",
       "  {'tree__max_depth': 22, 'tree__min_samples_leaf': 14},\n",
       "  {'tree__max_depth': 22, 'tree__min_samples_leaf': 22},\n",
       "  {'tree__max_depth': 81, 'tree__min_samples_leaf': 5},\n",
       "  {'tree__max_depth': 81, 'tree__min_samples_leaf': 14},\n",
       "  {'tree__max_depth': 81, 'tree__min_samples_leaf': 22}],\n",
       " 'split0_test_score': array([0.64698058, 0.64698058, 0.64698058, 0.67136491, 0.67749753,\n",
       "        0.68174412, 0.60484951, 0.64508145, 0.66119537, 0.59641294,\n",
       "        0.63902123, 0.65688128]),\n",
       " 'split1_test_score': array([0.64645104, 0.64645104, 0.64645104, 0.66934187, 0.6744461 ,\n",
       "        0.67920504, 0.60315011, 0.64401538, 0.65887619, 0.59704362,\n",
       "        0.63895793, 0.65455581]),\n",
       " 'split2_test_score': array([0.64759869, 0.64759869, 0.64759869, 0.67342712, 0.67790622,\n",
       "        0.68105529, 0.6098777 , 0.64647009, 0.66014993, 0.59840804,\n",
       "        0.63973972, 0.65407118]),\n",
       " 'split3_test_score': array([0.64670773, 0.64670773, 0.64670773, 0.66957722, 0.67493362,\n",
       "        0.67837366, 0.60526405, 0.64445536, 0.65697018, 0.5943596 ,\n",
       "        0.63848627, 0.65280396]),\n",
       " 'split4_test_score': array([0.6460171 , 0.64601836, 0.64601836, 0.67260003, 0.67917661,\n",
       "        0.68248921, 0.60374744, 0.64638266, 0.66190925, 0.59637217,\n",
       "        0.63882701, 0.65469138]),\n",
       " 'mean_test_score': array([0.64675103, 0.64675128, 0.64675128, 0.67126223, 0.67679202,\n",
       "        0.68057347, 0.60537776, 0.64528099, 0.65982019, 0.59651928,\n",
       "        0.63900643, 0.65460072]),\n",
       " 'std_test_score': array([0.00052948, 0.00052913, 0.00052913, 0.00161332, 0.00181011,\n",
       "        0.00154819, 0.00237326, 0.00099508, 0.00175372, 0.00130687,\n",
       "        0.00041062, 0.0013206 ]),\n",
       " 'rank_test_score': array([ 8,  6,  6,  3,  2,  1, 11,  9,  4, 12, 10,  5], dtype=int32)}"
      ]
     },
     "execution_count": 34,
     "metadata": {},
     "output_type": "execute_result"
    }
   ],
   "source": [
    "# A bigger picture of our results\n",
    "gs.cv_results_"
   ]
  },
  {
   "cell_type": "code",
   "execution_count": 35,
   "metadata": {
    "ExecuteTime": {
     "end_time": "2021-10-28T03:33:41.818645Z",
     "start_time": "2021-10-28T03:33:41.790982Z"
    },
    "hidden": true
   },
   "outputs": [
    {
     "data": {
      "text/html": [
       "<div>\n",
       "<style scoped>\n",
       "    .dataframe tbody tr th:only-of-type {\n",
       "        vertical-align: middle;\n",
       "    }\n",
       "\n",
       "    .dataframe tbody tr th {\n",
       "        vertical-align: top;\n",
       "    }\n",
       "\n",
       "    .dataframe thead th {\n",
       "        text-align: right;\n",
       "    }\n",
       "</style>\n",
       "<table border=\"1\" class=\"dataframe\">\n",
       "  <thead>\n",
       "    <tr style=\"text-align: right;\">\n",
       "      <th></th>\n",
       "      <th>mean_fit_time</th>\n",
       "      <th>std_fit_time</th>\n",
       "      <th>mean_score_time</th>\n",
       "      <th>std_score_time</th>\n",
       "      <th>param_tree__max_depth</th>\n",
       "      <th>param_tree__min_samples_leaf</th>\n",
       "      <th>params</th>\n",
       "      <th>split0_test_score</th>\n",
       "      <th>split1_test_score</th>\n",
       "      <th>split2_test_score</th>\n",
       "      <th>split3_test_score</th>\n",
       "      <th>split4_test_score</th>\n",
       "      <th>mean_test_score</th>\n",
       "      <th>std_test_score</th>\n",
       "      <th>rank_test_score</th>\n",
       "    </tr>\n",
       "  </thead>\n",
       "  <tbody>\n",
       "    <tr>\n",
       "      <th>0</th>\n",
       "      <td>3.255914</td>\n",
       "      <td>0.062778</td>\n",
       "      <td>0.588128</td>\n",
       "      <td>0.009347</td>\n",
       "      <td>5</td>\n",
       "      <td>5</td>\n",
       "      <td>{'tree__max_depth': 5, 'tree__min_samples_leaf...</td>\n",
       "      <td>0.646981</td>\n",
       "      <td>0.646451</td>\n",
       "      <td>0.647599</td>\n",
       "      <td>0.646708</td>\n",
       "      <td>0.646017</td>\n",
       "      <td>0.646751</td>\n",
       "      <td>0.000529</td>\n",
       "      <td>8</td>\n",
       "    </tr>\n",
       "    <tr>\n",
       "      <th>1</th>\n",
       "      <td>3.222799</td>\n",
       "      <td>0.013697</td>\n",
       "      <td>0.583778</td>\n",
       "      <td>0.001334</td>\n",
       "      <td>5</td>\n",
       "      <td>14</td>\n",
       "      <td>{'tree__max_depth': 5, 'tree__min_samples_leaf...</td>\n",
       "      <td>0.646981</td>\n",
       "      <td>0.646451</td>\n",
       "      <td>0.647599</td>\n",
       "      <td>0.646708</td>\n",
       "      <td>0.646018</td>\n",
       "      <td>0.646751</td>\n",
       "      <td>0.000529</td>\n",
       "      <td>6</td>\n",
       "    </tr>\n",
       "    <tr>\n",
       "      <th>2</th>\n",
       "      <td>3.243364</td>\n",
       "      <td>0.023221</td>\n",
       "      <td>0.592385</td>\n",
       "      <td>0.006417</td>\n",
       "      <td>5</td>\n",
       "      <td>22</td>\n",
       "      <td>{'tree__max_depth': 5, 'tree__min_samples_leaf...</td>\n",
       "      <td>0.646981</td>\n",
       "      <td>0.646451</td>\n",
       "      <td>0.647599</td>\n",
       "      <td>0.646708</td>\n",
       "      <td>0.646018</td>\n",
       "      <td>0.646751</td>\n",
       "      <td>0.000529</td>\n",
       "      <td>6</td>\n",
       "    </tr>\n",
       "    <tr>\n",
       "      <th>3</th>\n",
       "      <td>15.329720</td>\n",
       "      <td>0.162875</td>\n",
       "      <td>0.604411</td>\n",
       "      <td>0.006755</td>\n",
       "      <td>14</td>\n",
       "      <td>5</td>\n",
       "      <td>{'tree__max_depth': 14, 'tree__min_samples_lea...</td>\n",
       "      <td>0.671365</td>\n",
       "      <td>0.669342</td>\n",
       "      <td>0.673427</td>\n",
       "      <td>0.669577</td>\n",
       "      <td>0.672600</td>\n",
       "      <td>0.671262</td>\n",
       "      <td>0.001613</td>\n",
       "      <td>3</td>\n",
       "    </tr>\n",
       "    <tr>\n",
       "      <th>4</th>\n",
       "      <td>15.313766</td>\n",
       "      <td>0.843496</td>\n",
       "      <td>0.617257</td>\n",
       "      <td>0.039677</td>\n",
       "      <td>14</td>\n",
       "      <td>14</td>\n",
       "      <td>{'tree__max_depth': 14, 'tree__min_samples_lea...</td>\n",
       "      <td>0.677498</td>\n",
       "      <td>0.674446</td>\n",
       "      <td>0.677906</td>\n",
       "      <td>0.674934</td>\n",
       "      <td>0.679177</td>\n",
       "      <td>0.676792</td>\n",
       "      <td>0.001810</td>\n",
       "      <td>2</td>\n",
       "    </tr>\n",
       "    <tr>\n",
       "      <th>5</th>\n",
       "      <td>14.936021</td>\n",
       "      <td>0.249217</td>\n",
       "      <td>0.602199</td>\n",
       "      <td>0.005298</td>\n",
       "      <td>14</td>\n",
       "      <td>22</td>\n",
       "      <td>{'tree__max_depth': 14, 'tree__min_samples_lea...</td>\n",
       "      <td>0.681744</td>\n",
       "      <td>0.679205</td>\n",
       "      <td>0.681055</td>\n",
       "      <td>0.678374</td>\n",
       "      <td>0.682489</td>\n",
       "      <td>0.680573</td>\n",
       "      <td>0.001548</td>\n",
       "      <td>1</td>\n",
       "    </tr>\n",
       "    <tr>\n",
       "      <th>6</th>\n",
       "      <td>36.405022</td>\n",
       "      <td>0.297386</td>\n",
       "      <td>0.616154</td>\n",
       "      <td>0.013704</td>\n",
       "      <td>22</td>\n",
       "      <td>5</td>\n",
       "      <td>{'tree__max_depth': 22, 'tree__min_samples_lea...</td>\n",
       "      <td>0.604850</td>\n",
       "      <td>0.603150</td>\n",
       "      <td>0.609878</td>\n",
       "      <td>0.605264</td>\n",
       "      <td>0.603747</td>\n",
       "      <td>0.605378</td>\n",
       "      <td>0.002373</td>\n",
       "      <td>11</td>\n",
       "    </tr>\n",
       "    <tr>\n",
       "      <th>7</th>\n",
       "      <td>50.274676</td>\n",
       "      <td>36.433774</td>\n",
       "      <td>0.635653</td>\n",
       "      <td>0.044240</td>\n",
       "      <td>22</td>\n",
       "      <td>14</td>\n",
       "      <td>{'tree__max_depth': 22, 'tree__min_samples_lea...</td>\n",
       "      <td>0.645081</td>\n",
       "      <td>0.644015</td>\n",
       "      <td>0.646470</td>\n",
       "      <td>0.644455</td>\n",
       "      <td>0.646383</td>\n",
       "      <td>0.645281</td>\n",
       "      <td>0.000995</td>\n",
       "      <td>9</td>\n",
       "    </tr>\n",
       "    <tr>\n",
       "      <th>8</th>\n",
       "      <td>30.061507</td>\n",
       "      <td>0.316255</td>\n",
       "      <td>0.625587</td>\n",
       "      <td>0.013754</td>\n",
       "      <td>22</td>\n",
       "      <td>22</td>\n",
       "      <td>{'tree__max_depth': 22, 'tree__min_samples_lea...</td>\n",
       "      <td>0.661195</td>\n",
       "      <td>0.658876</td>\n",
       "      <td>0.660150</td>\n",
       "      <td>0.656970</td>\n",
       "      <td>0.661909</td>\n",
       "      <td>0.659820</td>\n",
       "      <td>0.001754</td>\n",
       "      <td>4</td>\n",
       "    </tr>\n",
       "    <tr>\n",
       "      <th>9</th>\n",
       "      <td>45.383198</td>\n",
       "      <td>0.377894</td>\n",
       "      <td>0.612471</td>\n",
       "      <td>0.007371</td>\n",
       "      <td>81</td>\n",
       "      <td>5</td>\n",
       "      <td>{'tree__max_depth': 81, 'tree__min_samples_lea...</td>\n",
       "      <td>0.596413</td>\n",
       "      <td>0.597044</td>\n",
       "      <td>0.598408</td>\n",
       "      <td>0.594360</td>\n",
       "      <td>0.596372</td>\n",
       "      <td>0.596519</td>\n",
       "      <td>0.001307</td>\n",
       "      <td>12</td>\n",
       "    </tr>\n",
       "    <tr>\n",
       "      <th>10</th>\n",
       "      <td>37.048851</td>\n",
       "      <td>0.430576</td>\n",
       "      <td>0.624552</td>\n",
       "      <td>0.015604</td>\n",
       "      <td>81</td>\n",
       "      <td>14</td>\n",
       "      <td>{'tree__max_depth': 81, 'tree__min_samples_lea...</td>\n",
       "      <td>0.639021</td>\n",
       "      <td>0.638958</td>\n",
       "      <td>0.639740</td>\n",
       "      <td>0.638486</td>\n",
       "      <td>0.638827</td>\n",
       "      <td>0.639006</td>\n",
       "      <td>0.000411</td>\n",
       "      <td>10</td>\n",
       "    </tr>\n",
       "    <tr>\n",
       "      <th>11</th>\n",
       "      <td>33.757542</td>\n",
       "      <td>0.134051</td>\n",
       "      <td>0.620756</td>\n",
       "      <td>0.005976</td>\n",
       "      <td>81</td>\n",
       "      <td>22</td>\n",
       "      <td>{'tree__max_depth': 81, 'tree__min_samples_lea...</td>\n",
       "      <td>0.656881</td>\n",
       "      <td>0.654556</td>\n",
       "      <td>0.654071</td>\n",
       "      <td>0.652804</td>\n",
       "      <td>0.654691</td>\n",
       "      <td>0.654601</td>\n",
       "      <td>0.001321</td>\n",
       "      <td>5</td>\n",
       "    </tr>\n",
       "  </tbody>\n",
       "</table>\n",
       "</div>"
      ],
      "text/plain": [
       "    mean_fit_time  std_fit_time  mean_score_time  std_score_time  \\\n",
       "0        3.255914      0.062778         0.588128        0.009347   \n",
       "1        3.222799      0.013697         0.583778        0.001334   \n",
       "2        3.243364      0.023221         0.592385        0.006417   \n",
       "3       15.329720      0.162875         0.604411        0.006755   \n",
       "4       15.313766      0.843496         0.617257        0.039677   \n",
       "5       14.936021      0.249217         0.602199        0.005298   \n",
       "6       36.405022      0.297386         0.616154        0.013704   \n",
       "7       50.274676     36.433774         0.635653        0.044240   \n",
       "8       30.061507      0.316255         0.625587        0.013754   \n",
       "9       45.383198      0.377894         0.612471        0.007371   \n",
       "10      37.048851      0.430576         0.624552        0.015604   \n",
       "11      33.757542      0.134051         0.620756        0.005976   \n",
       "\n",
       "   param_tree__max_depth param_tree__min_samples_leaf  \\\n",
       "0                      5                            5   \n",
       "1                      5                           14   \n",
       "2                      5                           22   \n",
       "3                     14                            5   \n",
       "4                     14                           14   \n",
       "5                     14                           22   \n",
       "6                     22                            5   \n",
       "7                     22                           14   \n",
       "8                     22                           22   \n",
       "9                     81                            5   \n",
       "10                    81                           14   \n",
       "11                    81                           22   \n",
       "\n",
       "                                               params  split0_test_score  \\\n",
       "0   {'tree__max_depth': 5, 'tree__min_samples_leaf...           0.646981   \n",
       "1   {'tree__max_depth': 5, 'tree__min_samples_leaf...           0.646981   \n",
       "2   {'tree__max_depth': 5, 'tree__min_samples_leaf...           0.646981   \n",
       "3   {'tree__max_depth': 14, 'tree__min_samples_lea...           0.671365   \n",
       "4   {'tree__max_depth': 14, 'tree__min_samples_lea...           0.677498   \n",
       "5   {'tree__max_depth': 14, 'tree__min_samples_lea...           0.681744   \n",
       "6   {'tree__max_depth': 22, 'tree__min_samples_lea...           0.604850   \n",
       "7   {'tree__max_depth': 22, 'tree__min_samples_lea...           0.645081   \n",
       "8   {'tree__max_depth': 22, 'tree__min_samples_lea...           0.661195   \n",
       "9   {'tree__max_depth': 81, 'tree__min_samples_lea...           0.596413   \n",
       "10  {'tree__max_depth': 81, 'tree__min_samples_lea...           0.639021   \n",
       "11  {'tree__max_depth': 81, 'tree__min_samples_lea...           0.656881   \n",
       "\n",
       "    split1_test_score  split2_test_score  split3_test_score  \\\n",
       "0            0.646451           0.647599           0.646708   \n",
       "1            0.646451           0.647599           0.646708   \n",
       "2            0.646451           0.647599           0.646708   \n",
       "3            0.669342           0.673427           0.669577   \n",
       "4            0.674446           0.677906           0.674934   \n",
       "5            0.679205           0.681055           0.678374   \n",
       "6            0.603150           0.609878           0.605264   \n",
       "7            0.644015           0.646470           0.644455   \n",
       "8            0.658876           0.660150           0.656970   \n",
       "9            0.597044           0.598408           0.594360   \n",
       "10           0.638958           0.639740           0.638486   \n",
       "11           0.654556           0.654071           0.652804   \n",
       "\n",
       "    split4_test_score  mean_test_score  std_test_score  rank_test_score  \n",
       "0            0.646017         0.646751        0.000529                8  \n",
       "1            0.646018         0.646751        0.000529                6  \n",
       "2            0.646018         0.646751        0.000529                6  \n",
       "3            0.672600         0.671262        0.001613                3  \n",
       "4            0.679177         0.676792        0.001810                2  \n",
       "5            0.682489         0.680573        0.001548                1  \n",
       "6            0.603747         0.605378        0.002373               11  \n",
       "7            0.646383         0.645281        0.000995                9  \n",
       "8            0.661909         0.659820        0.001754                4  \n",
       "9            0.596372         0.596519        0.001307               12  \n",
       "10           0.638827         0.639006        0.000411               10  \n",
       "11           0.654691         0.654601        0.001321                5  "
      ]
     },
     "execution_count": 35,
     "metadata": {},
     "output_type": "execute_result"
    }
   ],
   "source": [
    "# Which we can throw into a dataframe if we like\n",
    "pd.DataFrame(gs.cv_results_)"
   ]
  },
  {
   "cell_type": "markdown",
   "metadata": {
    "heading_collapsed": true,
    "hidden": true
   },
   "source": [
    "### Choice of Grid Values"
   ]
  },
  {
   "cell_type": "markdown",
   "metadata": {
    "hidden": true
   },
   "source": [
    "Which values should you pick for your grid? Intuitively, you should try both \"large\" and \"small\" values, but of course what counts as large and small will really depend on the type of hyperparameter."
   ]
  },
  {
   "cell_type": "markdown",
   "metadata": {
    "hidden": true
   },
   "source": [
    "- For a k-nearest neighbors model, 1 or 3 would be a small value for the number of neighbors and 15 or 17 would be a large value.\n",
    "- For a decision tree model, what counts as a small `max_depth` will really depend on the size of your training data. A `max_depth` of 5 would likely have little effect on a very small dataset but, at the same time, it would probably significantly decrease the variance of a model where the dataset is large.\n",
    "- For a logistic regression's regularization constant, you may want to try a set of values that are exponentially separated, like \\[1, 10, 100, 1000\\].\n",
    "- **If a grid search finds optimal values at the ends of your hyperparameter ranges, you might try another grid search with more extreme values.**"
   ]
  },
  {
   "cell_type": "markdown",
   "metadata": {
    "heading_collapsed": true,
    "hidden": true
   },
   "source": [
    "### Exercise"
   ]
  },
  {
   "cell_type": "markdown",
   "metadata": {
    "hidden": true
   },
   "source": [
    "Do a grid search on a different model type! What are the optimal values for the hyperparameters you've chosen?"
   ]
  },
  {
   "cell_type": "code",
   "execution_count": null,
   "metadata": {
    "hidden": true
   },
   "outputs": [],
   "source": [
    "# Example logistic regression param grid, with model nickname'lr'\n",
    "lr_grid - {\n",
    "    'lr__C':[.01,.1,1,10,100],\n",
    "    'lr__penalty':['l1','l2']\n",
    "}"
   ]
  },
  {
   "cell_type": "code",
   "execution_count": null,
   "metadata": {},
   "outputs": [],
   "source": []
  },
  {
   "cell_type": "code",
   "execution_count": null,
   "metadata": {},
   "outputs": [],
   "source": []
  },
  {
   "cell_type": "markdown",
   "metadata": {
    "heading_collapsed": true
   },
   "source": [
    "# Level Up: Random Searching"
   ]
  },
  {
   "cell_type": "markdown",
   "metadata": {
    "hidden": true
   },
   "source": [
    "It is also possible to search for good hyperparameter values randomly. This is a nice choice if computation time is an issue or if you are tuning over continuous hyperparameters."
   ]
  },
  {
   "cell_type": "markdown",
   "metadata": {
    "heading_collapsed": true,
    "hidden": true
   },
   "source": [
    "### `RandomizedSearchCV` with `LogisticRegression`"
   ]
  },
  {
   "cell_type": "code",
   "execution_count": null,
   "metadata": {},
   "outputs": [],
   "source": [
    "# Import\n",
    "from sklearn.model_selection import RandomizedSearchCV"
   ]
  },
  {
   "cell_type": "code",
   "execution_count": null,
   "metadata": {
    "ExecuteTime": {
     "end_time": "2021-10-28T03:34:46.731177Z",
     "start_time": "2021-10-28T03:34:46.727225Z"
    },
    "hidden": true
   },
   "outputs": [],
   "source": [
    "log_reg_grid = {'C': stats.uniform(loc=0, scale=10),\n",
    "               'l1_ratio': stats.expon(scale=0.2)}"
   ]
  },
  {
   "cell_type": "code",
   "execution_count": null,
   "metadata": {
    "ExecuteTime": {
     "end_time": "2021-10-28T03:34:49.166819Z",
     "start_time": "2021-10-28T03:34:48.678224Z"
    },
    "hidden": true
   },
   "outputs": [],
   "source": [
    "rs = RandomizedSearchCV(estimator=LogisticRegression(penalty='elasticnet',\n",
    "                                                    solver='saga',\n",
    "                                                    max_iter=1000,\n",
    "                                                    random_state=42),\n",
    "                        param_distributions=log_reg_grid,\n",
    "                        random_state=42)\n",
    "\n",
    "rs.fit(X_train, y_train)\n",
    "\n",
    "rs.best_params_"
   ]
  },
  {
   "cell_type": "markdown",
   "metadata": {
    "heading_collapsed": true
   },
   "source": [
    "# Level Up: More Grid Search Practice"
   ]
  },
  {
   "cell_type": "markdown",
   "metadata": {
    "hidden": true
   },
   "source": [
    "Use a classifier of your choice to predict the category of price range for the phones in this dataset. Try tuning some hyperparameters using a grid search, and then write up a short paragraph about your findings."
   ]
  },
  {
   "cell_type": "code",
   "execution_count": null,
   "metadata": {
    "ExecuteTime": {
     "end_time": "2021-10-28T03:34:38.974212Z",
     "start_time": "2021-10-28T03:34:38.957557Z"
    },
    "hidden": true
   },
   "outputs": [],
   "source": [
    "phones_train = pd.read_csv('data/phone-train.csv')\n",
    "phones_test = pd.read_csv('data/phone-test.csv')"
   ]
  },
  {
   "cell_type": "code",
   "execution_count": null,
   "metadata": {},
   "outputs": [],
   "source": [
    "# Your code here"
   ]
  }
 ],
 "metadata": {
  "hide_input": false,
  "kernelspec": {
   "display_name": "Python (learn-env)",
   "language": "python",
   "name": "learn-env"
  },
  "language_info": {
   "codemirror_mode": {
    "name": "ipython",
    "version": 3
   },
   "file_extension": ".py",
   "mimetype": "text/x-python",
   "name": "python",
   "nbconvert_exporter": "python",
   "pygments_lexer": "ipython3",
   "version": "3.8.5"
  },
  "latex_envs": {
   "LaTeX_envs_menu_present": true,
   "autoclose": false,
   "autocomplete": true,
   "bibliofile": "biblio.bib",
   "cite_by": "apalike",
   "current_citInitial": 1,
   "eqLabelWithNumbers": true,
   "eqNumInitial": 1,
   "hotkeys": {
    "equation": "Ctrl-E",
    "itemize": "Ctrl-I"
   },
   "labels_anchors": false,
   "latex_user_defs": false,
   "report_style_numbering": false,
   "user_envs_cfg": false
  },
  "nbTranslate": {
   "displayLangs": [
    "*"
   ],
   "hotkey": "alt-t",
   "langInMainMenu": true,
   "sourceLang": "en",
   "targetLang": "fr",
   "useGoogleTranslate": true
  },
  "toc": {
   "base_numbering": 1,
   "nav_menu": {},
   "number_sections": true,
   "sideBar": true,
   "skip_h1_title": false,
   "title_cell": "Table of Contents",
   "title_sidebar": "TOC",
   "toc_cell": true,
   "toc_position": {
    "height": "calc(100% - 180px)",
    "left": "10px",
    "top": "150px",
    "width": "232px"
   },
   "toc_section_display": true,
   "toc_window_display": false
  }
 },
 "nbformat": 4,
 "nbformat_minor": 4
}
