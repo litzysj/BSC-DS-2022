{
 "cells": [
  {
   "cell_type": "markdown",
   "metadata": {},
   "source": [
    "![pandas](https://upload.wikimedia.org/wikipedia/commons/thumb/e/ed/Pandas_logo.svg/2880px-Pandas_logo.svg.png)"
   ]
  },
  {
   "cell_type": "markdown",
   "metadata": {
    "heading_collapsed": true
   },
   "source": [
    "# Objectives"
   ]
  },
  {
   "cell_type": "markdown",
   "metadata": {
    "hidden": true
   },
   "source": [
    "- Load .csv files into `pandas` DataFrames\n",
    "- Describe and manipulate data in Series and DataFrames"
   ]
  },
  {
   "cell_type": "markdown",
   "metadata": {
    "heading_collapsed": true
   },
   "source": [
    "# What is Pandas?\n",
    "\n",
    "![I have no idea what I'm doing panda](https://cdn-images-1.medium.com/max/1600/1*oBx032ncOwLmCFX3Epo3Zg.jpeg)\n",
    "\n",
    "Just kidding - not actual literal pandas."
   ]
  },
  {
   "cell_type": "markdown",
   "metadata": {
    "hidden": true
   },
   "source": [
    "Pandas, as [the Anaconda docs](https://docs.anaconda.com/anaconda/packages/py3.7_osx-64/) tell us, offers us \"High-performance, easy-to-use data structures and data analysis tools.\" It's something like \"Excel for Python\", but it's quite a bit more powerful. The name comes from \"panel data\", a common way to describe the kind of multidimensional data we'll be working with in certain academic circles (namely, statistics and econometrics) [[Source]](https://www.dlr.de/sc/Portaldata/15/Resources/dokumente/pyhpc2011/submissions/pyhpc2011_submission_9.pdf)\n",
    "\n",
    "In order to use pandas, we'll need to import it into our notebook first."
   ]
  },
  {
   "cell_type": "code",
   "execution_count": 51,
   "metadata": {},
   "outputs": [],
   "source": [
    "# Import - using the common alias\n",
    "import pandas as pd"
   ]
  },
  {
   "cell_type": "markdown",
   "metadata": {
    "hidden": true
   },
   "source": [
    "## Accessing Data\n",
    "\n",
    "![pandas documentation image showcasing the kinds of data it can both read and write to](https://pandas.pydata.org/docs/_images/02_io_readwrite.svg)\n",
    "\n",
    "[[Image Source]](https://pandas.pydata.org/docs/getting_started/intro_tutorials/02_read_write.html)"
   ]
  },
  {
   "cell_type": "markdown",
   "metadata": {},
   "source": [
    "Pandas can access a ton of different data types, including some that should be familiar: CSVs and JSONs! That's right, no more `with` / `open` statements now that we're using pandas!\n",
    "\n",
    "Most of the time, we'll see CSVs - so let's access a 'toy' data set quickly just to familiarize ourselves with using pandas. There's a heart dataset available in the data folder on this repository - let's read that in."
   ]
  },
  {
   "cell_type": "code",
   "execution_count": 52,
   "metadata": {
    "hidden": true
   },
   "outputs": [],
   "source": [
    "# Use read_csv to read in the heart csv file\n",
    "# Need to assign it to a variable too - let's call this heart_df\n",
    "heart_df = pd.read_csv('data/heart.csv')"
   ]
  },
  {
   "cell_type": "markdown",
   "metadata": {
    "hidden": true
   },
   "source": [
    "The output of the `.read_csv()` function is a pandas *DataFrame*, which has a familiar tabaular structure of rows and columns."
   ]
  },
  {
   "cell_type": "code",
   "execution_count": 53,
   "metadata": {
    "hidden": true
   },
   "outputs": [
    {
     "data": {
      "text/html": [
       "<div>\n",
       "<style scoped>\n",
       "    .dataframe tbody tr th:only-of-type {\n",
       "        vertical-align: middle;\n",
       "    }\n",
       "\n",
       "    .dataframe tbody tr th {\n",
       "        vertical-align: top;\n",
       "    }\n",
       "\n",
       "    .dataframe thead th {\n",
       "        text-align: right;\n",
       "    }\n",
       "</style>\n",
       "<table border=\"1\" class=\"dataframe\">\n",
       "  <thead>\n",
       "    <tr style=\"text-align: right;\">\n",
       "      <th></th>\n",
       "      <th>age</th>\n",
       "      <th>sex</th>\n",
       "      <th>cp</th>\n",
       "      <th>trestbps</th>\n",
       "      <th>chol</th>\n",
       "      <th>fbs</th>\n",
       "      <th>restecg</th>\n",
       "      <th>thalach</th>\n",
       "      <th>exang</th>\n",
       "      <th>oldpeak</th>\n",
       "      <th>slope</th>\n",
       "      <th>ca</th>\n",
       "      <th>thal</th>\n",
       "      <th>target</th>\n",
       "    </tr>\n",
       "  </thead>\n",
       "  <tbody>\n",
       "    <tr>\n",
       "      <th>0</th>\n",
       "      <td>63</td>\n",
       "      <td>1</td>\n",
       "      <td>3</td>\n",
       "      <td>145</td>\n",
       "      <td>233</td>\n",
       "      <td>1</td>\n",
       "      <td>0</td>\n",
       "      <td>150</td>\n",
       "      <td>0</td>\n",
       "      <td>2.3</td>\n",
       "      <td>0</td>\n",
       "      <td>0</td>\n",
       "      <td>1</td>\n",
       "      <td>1</td>\n",
       "    </tr>\n",
       "    <tr>\n",
       "      <th>1</th>\n",
       "      <td>37</td>\n",
       "      <td>1</td>\n",
       "      <td>2</td>\n",
       "      <td>130</td>\n",
       "      <td>250</td>\n",
       "      <td>0</td>\n",
       "      <td>1</td>\n",
       "      <td>187</td>\n",
       "      <td>0</td>\n",
       "      <td>3.5</td>\n",
       "      <td>0</td>\n",
       "      <td>0</td>\n",
       "      <td>2</td>\n",
       "      <td>1</td>\n",
       "    </tr>\n",
       "    <tr>\n",
       "      <th>2</th>\n",
       "      <td>41</td>\n",
       "      <td>0</td>\n",
       "      <td>1</td>\n",
       "      <td>130</td>\n",
       "      <td>204</td>\n",
       "      <td>0</td>\n",
       "      <td>0</td>\n",
       "      <td>172</td>\n",
       "      <td>0</td>\n",
       "      <td>1.4</td>\n",
       "      <td>2</td>\n",
       "      <td>0</td>\n",
       "      <td>2</td>\n",
       "      <td>1</td>\n",
       "    </tr>\n",
       "    <tr>\n",
       "      <th>3</th>\n",
       "      <td>56</td>\n",
       "      <td>1</td>\n",
       "      <td>1</td>\n",
       "      <td>120</td>\n",
       "      <td>236</td>\n",
       "      <td>0</td>\n",
       "      <td>1</td>\n",
       "      <td>178</td>\n",
       "      <td>0</td>\n",
       "      <td>0.8</td>\n",
       "      <td>2</td>\n",
       "      <td>0</td>\n",
       "      <td>2</td>\n",
       "      <td>1</td>\n",
       "    </tr>\n",
       "    <tr>\n",
       "      <th>4</th>\n",
       "      <td>57</td>\n",
       "      <td>0</td>\n",
       "      <td>0</td>\n",
       "      <td>120</td>\n",
       "      <td>354</td>\n",
       "      <td>0</td>\n",
       "      <td>1</td>\n",
       "      <td>163</td>\n",
       "      <td>1</td>\n",
       "      <td>0.6</td>\n",
       "      <td>2</td>\n",
       "      <td>0</td>\n",
       "      <td>2</td>\n",
       "      <td>1</td>\n",
       "    </tr>\n",
       "    <tr>\n",
       "      <th>...</th>\n",
       "      <td>...</td>\n",
       "      <td>...</td>\n",
       "      <td>...</td>\n",
       "      <td>...</td>\n",
       "      <td>...</td>\n",
       "      <td>...</td>\n",
       "      <td>...</td>\n",
       "      <td>...</td>\n",
       "      <td>...</td>\n",
       "      <td>...</td>\n",
       "      <td>...</td>\n",
       "      <td>...</td>\n",
       "      <td>...</td>\n",
       "      <td>...</td>\n",
       "    </tr>\n",
       "    <tr>\n",
       "      <th>298</th>\n",
       "      <td>57</td>\n",
       "      <td>0</td>\n",
       "      <td>0</td>\n",
       "      <td>140</td>\n",
       "      <td>241</td>\n",
       "      <td>0</td>\n",
       "      <td>1</td>\n",
       "      <td>123</td>\n",
       "      <td>1</td>\n",
       "      <td>0.2</td>\n",
       "      <td>1</td>\n",
       "      <td>0</td>\n",
       "      <td>3</td>\n",
       "      <td>0</td>\n",
       "    </tr>\n",
       "    <tr>\n",
       "      <th>299</th>\n",
       "      <td>45</td>\n",
       "      <td>1</td>\n",
       "      <td>3</td>\n",
       "      <td>110</td>\n",
       "      <td>264</td>\n",
       "      <td>0</td>\n",
       "      <td>1</td>\n",
       "      <td>132</td>\n",
       "      <td>0</td>\n",
       "      <td>1.2</td>\n",
       "      <td>1</td>\n",
       "      <td>0</td>\n",
       "      <td>3</td>\n",
       "      <td>0</td>\n",
       "    </tr>\n",
       "    <tr>\n",
       "      <th>300</th>\n",
       "      <td>68</td>\n",
       "      <td>1</td>\n",
       "      <td>0</td>\n",
       "      <td>144</td>\n",
       "      <td>193</td>\n",
       "      <td>1</td>\n",
       "      <td>1</td>\n",
       "      <td>141</td>\n",
       "      <td>0</td>\n",
       "      <td>3.4</td>\n",
       "      <td>1</td>\n",
       "      <td>2</td>\n",
       "      <td>3</td>\n",
       "      <td>0</td>\n",
       "    </tr>\n",
       "    <tr>\n",
       "      <th>301</th>\n",
       "      <td>57</td>\n",
       "      <td>1</td>\n",
       "      <td>0</td>\n",
       "      <td>130</td>\n",
       "      <td>131</td>\n",
       "      <td>0</td>\n",
       "      <td>1</td>\n",
       "      <td>115</td>\n",
       "      <td>1</td>\n",
       "      <td>1.2</td>\n",
       "      <td>1</td>\n",
       "      <td>1</td>\n",
       "      <td>3</td>\n",
       "      <td>0</td>\n",
       "    </tr>\n",
       "    <tr>\n",
       "      <th>302</th>\n",
       "      <td>57</td>\n",
       "      <td>0</td>\n",
       "      <td>1</td>\n",
       "      <td>130</td>\n",
       "      <td>236</td>\n",
       "      <td>0</td>\n",
       "      <td>0</td>\n",
       "      <td>174</td>\n",
       "      <td>0</td>\n",
       "      <td>0.0</td>\n",
       "      <td>1</td>\n",
       "      <td>1</td>\n",
       "      <td>2</td>\n",
       "      <td>0</td>\n",
       "    </tr>\n",
       "  </tbody>\n",
       "</table>\n",
       "<p>303 rows × 14 columns</p>\n",
       "</div>"
      ],
      "text/plain": [
       "     age  sex  cp  trestbps  chol  fbs  restecg  thalach  exang  oldpeak  \\\n",
       "0     63    1   3       145   233    1        0      150      0      2.3   \n",
       "1     37    1   2       130   250    0        1      187      0      3.5   \n",
       "2     41    0   1       130   204    0        0      172      0      1.4   \n",
       "3     56    1   1       120   236    0        1      178      0      0.8   \n",
       "4     57    0   0       120   354    0        1      163      1      0.6   \n",
       "..   ...  ...  ..       ...   ...  ...      ...      ...    ...      ...   \n",
       "298   57    0   0       140   241    0        1      123      1      0.2   \n",
       "299   45    1   3       110   264    0        1      132      0      1.2   \n",
       "300   68    1   0       144   193    1        1      141      0      3.4   \n",
       "301   57    1   0       130   131    0        1      115      1      1.2   \n",
       "302   57    0   1       130   236    0        0      174      0      0.0   \n",
       "\n",
       "     slope  ca  thal  target  \n",
       "0        0   0     1       1  \n",
       "1        0   0     2       1  \n",
       "2        2   0     2       1  \n",
       "3        2   0     2       1  \n",
       "4        2   0     2       1  \n",
       "..     ...  ..   ...     ...  \n",
       "298      1   0     3       0  \n",
       "299      1   0     3       0  \n",
       "300      1   2     3       0  \n",
       "301      1   1     3       0  \n",
       "302      1   1     2       0  \n",
       "\n",
       "[303 rows x 14 columns]"
      ]
     },
     "execution_count": 53,
     "metadata": {},
     "output_type": "execute_result"
    }
   ],
   "source": [
    "# Let's check this variable out\n",
    "heart_df"
   ]
  },
  {
   "cell_type": "code",
   "execution_count": 54,
   "metadata": {
    "hidden": true
   },
   "outputs": [
    {
     "data": {
      "text/plain": [
       "pandas.core.frame.DataFrame"
      ]
     },
     "execution_count": 54,
     "metadata": {},
     "output_type": "execute_result"
    }
   ],
   "source": [
    "# What type is this variable?\n",
    "type(heart_df)"
   ]
  },
  {
   "cell_type": "markdown",
   "metadata": {
    "heading_collapsed": true,
    "hidden": true
   },
   "source": [
    "## DataFrames and Series"
   ]
  },
  {
   "cell_type": "markdown",
   "metadata": {
    "hidden": true
   },
   "source": [
    "Two main types of pandas objects are the DataFrame and the Series, the latter being in effect a single column of the former:"
   ]
  },
  {
   "cell_type": "code",
   "execution_count": 55,
   "metadata": {
    "hidden": true
   },
   "outputs": [],
   "source": [
    "# Let's grab just one column\n",
    "age_series = heart_df['age']"
   ]
  },
  {
   "cell_type": "markdown",
   "metadata": {
    "hidden": true
   },
   "source": [
    "Notice how we can isolate a column of our DataFrame simply by using square brackets together with the name of the column. We can also access columns as an attribute of the DataFrame - but that only works if the name of the column doesn't have any spaces or weird characters!"
   ]
  },
  {
   "cell_type": "code",
   "execution_count": 56,
   "metadata": {},
   "outputs": [
    {
     "data": {
      "text/plain": [
       "0      63\n",
       "1      37\n",
       "2      41\n",
       "3      56\n",
       "4      57\n",
       "       ..\n",
       "298    57\n",
       "299    45\n",
       "300    68\n",
       "301    57\n",
       "302    57\n",
       "Name: age, Length: 303, dtype: int64"
      ]
     },
     "execution_count": 56,
     "metadata": {},
     "output_type": "execute_result"
    }
   ],
   "source": [
    "heart_df.age"
   ]
  },
  {
   "cell_type": "code",
   "execution_count": 57,
   "metadata": {},
   "outputs": [
    {
     "data": {
      "text/plain": [
       "pandas.core.series.Series"
      ]
     },
     "execution_count": 57,
     "metadata": {},
     "output_type": "execute_result"
    }
   ],
   "source": [
    "# What type is the column?\n",
    "type(age_series)"
   ]
  },
  {
   "cell_type": "markdown",
   "metadata": {
    "hidden": true
   },
   "source": [
    "Both Series and DataFrames have an *index* as well:"
   ]
  },
  {
   "cell_type": "code",
   "execution_count": 58,
   "metadata": {
    "hidden": true
   },
   "outputs": [
    {
     "data": {
      "text/plain": [
       "RangeIndex(start=0, stop=303, step=1)"
      ]
     },
     "execution_count": 58,
     "metadata": {},
     "output_type": "execute_result"
    }
   ],
   "source": [
    "heart_df.index"
   ]
  },
  {
   "cell_type": "code",
   "execution_count": 59,
   "metadata": {
    "hidden": true
   },
   "outputs": [
    {
     "data": {
      "text/plain": [
       "RangeIndex(start=0, stop=303, step=1)"
      ]
     },
     "execution_count": 59,
     "metadata": {},
     "output_type": "execute_result"
    }
   ],
   "source": [
    "age_series.index"
   ]
  },
  {
   "cell_type": "markdown",
   "metadata": {},
   "source": [
    "DataFrames have columns - but a Series is just a single column, so it doesn't have the columns attribute."
   ]
  },
  {
   "cell_type": "code",
   "execution_count": 60,
   "metadata": {},
   "outputs": [
    {
     "data": {
      "text/plain": [
       "Index(['age', 'sex', 'cp', 'trestbps', 'chol', 'fbs', 'restecg', 'thalach',\n",
       "       'exang', 'oldpeak', 'slope', 'ca', 'thal', 'target'],\n",
       "      dtype='object')"
      ]
     },
     "execution_count": 60,
     "metadata": {},
     "output_type": "execute_result"
    }
   ],
   "source": [
    "heart_df.columns"
   ]
  },
  {
   "cell_type": "code",
   "execution_count": 61,
   "metadata": {
    "scrolled": true
   },
   "outputs": [
    {
     "ename": "AttributeError",
     "evalue": "'Series' object has no attribute 'columns'",
     "output_type": "error",
     "traceback": [
      "\u001b[0;31m---------------------------------------------------------------------------\u001b[0m",
      "\u001b[0;31mAttributeError\u001b[0m                            Traceback (most recent call last)",
      "\u001b[0;32m<ipython-input-61-d5e1920cc478>\u001b[0m in \u001b[0;36m<module>\u001b[0;34m\u001b[0m\n\u001b[0;32m----> 1\u001b[0;31m \u001b[0mage_series\u001b[0m\u001b[0;34m.\u001b[0m\u001b[0mcolumns\u001b[0m\u001b[0;34m\u001b[0m\u001b[0;34m\u001b[0m\u001b[0m\n\u001b[0m\u001b[1;32m      2\u001b[0m \u001b[0;31m# This will throw an error!\u001b[0m\u001b[0;34m\u001b[0m\u001b[0;34m\u001b[0m\u001b[0;34m\u001b[0m\u001b[0m\n\u001b[1;32m      3\u001b[0m \u001b[0;31m#single column\u001b[0m\u001b[0;34m\u001b[0m\u001b[0;34m\u001b[0m\u001b[0;34m\u001b[0m\u001b[0m\n",
      "\u001b[0;32m~/opt/anaconda3/envs/learn-env/lib/python3.8/site-packages/pandas/core/generic.py\u001b[0m in \u001b[0;36m__getattr__\u001b[0;34m(self, name)\u001b[0m\n\u001b[1;32m   5137\u001b[0m             \u001b[0;32mif\u001b[0m \u001b[0mself\u001b[0m\u001b[0;34m.\u001b[0m\u001b[0m_info_axis\u001b[0m\u001b[0;34m.\u001b[0m\u001b[0m_can_hold_identifiers_and_holds_name\u001b[0m\u001b[0;34m(\u001b[0m\u001b[0mname\u001b[0m\u001b[0;34m)\u001b[0m\u001b[0;34m:\u001b[0m\u001b[0;34m\u001b[0m\u001b[0;34m\u001b[0m\u001b[0m\n\u001b[1;32m   5138\u001b[0m                 \u001b[0;32mreturn\u001b[0m \u001b[0mself\u001b[0m\u001b[0;34m[\u001b[0m\u001b[0mname\u001b[0m\u001b[0;34m]\u001b[0m\u001b[0;34m\u001b[0m\u001b[0;34m\u001b[0m\u001b[0m\n\u001b[0;32m-> 5139\u001b[0;31m             \u001b[0;32mreturn\u001b[0m \u001b[0mobject\u001b[0m\u001b[0;34m.\u001b[0m\u001b[0m__getattribute__\u001b[0m\u001b[0;34m(\u001b[0m\u001b[0mself\u001b[0m\u001b[0;34m,\u001b[0m \u001b[0mname\u001b[0m\u001b[0;34m)\u001b[0m\u001b[0;34m\u001b[0m\u001b[0;34m\u001b[0m\u001b[0m\n\u001b[0m\u001b[1;32m   5140\u001b[0m \u001b[0;34m\u001b[0m\u001b[0m\n\u001b[1;32m   5141\u001b[0m     \u001b[0;32mdef\u001b[0m \u001b[0m__setattr__\u001b[0m\u001b[0;34m(\u001b[0m\u001b[0mself\u001b[0m\u001b[0;34m,\u001b[0m \u001b[0mname\u001b[0m\u001b[0;34m:\u001b[0m \u001b[0mstr\u001b[0m\u001b[0;34m,\u001b[0m \u001b[0mvalue\u001b[0m\u001b[0;34m)\u001b[0m \u001b[0;34m->\u001b[0m \u001b[0;32mNone\u001b[0m\u001b[0;34m:\u001b[0m\u001b[0;34m\u001b[0m\u001b[0;34m\u001b[0m\u001b[0m\n",
      "\u001b[0;31mAttributeError\u001b[0m: 'Series' object has no attribute 'columns'"
     ]
    }
   ],
   "source": [
    "age_series.columns\n",
    "# This will throw an error!\n",
    "#single column "
   ]
  },
  {
   "cell_type": "markdown",
   "metadata": {
    "hidden": true
   },
   "source": [
    "Pandas is built on top of NumPy, and we can always access the NumPy array underlying a DataFrame using `.values`."
   ]
  },
  {
   "cell_type": "code",
   "execution_count": null,
   "metadata": {
    "hidden": true,
    "scrolled": true
   },
   "outputs": [],
   "source": [
    "heart_df.values"
   ]
  },
  {
   "cell_type": "markdown",
   "metadata": {
    "heading_collapsed": true,
    "hidden": true
   },
   "source": [
    "## Basic DataFrame Attributes and Methods"
   ]
  },
  {
   "cell_type": "markdown",
   "metadata": {
    "heading_collapsed": true,
    "hidden": true
   },
   "source": [
    "### `.head()` : first 5 rows"
   ]
  },
  {
   "cell_type": "code",
   "execution_count": null,
   "metadata": {
    "hidden": true
   },
   "outputs": [],
   "source": [
    "heart_df.head()"
   ]
  },
  {
   "cell_type": "markdown",
   "metadata": {
    "heading_collapsed": true,
    "hidden": true
   },
   "source": [
    "### `.tail()` : last 5 rows"
   ]
  },
  {
   "cell_type": "code",
   "execution_count": null,
   "metadata": {
    "hidden": true
   },
   "outputs": [],
   "source": [
    "heart_df.tail()\n",
    "#last 5 "
   ]
  },
  {
   "cell_type": "markdown",
   "metadata": {
    "heading_collapsed": true,
    "hidden": true
   },
   "source": [
    "### `.info()` : information about the columns, including about nulls in those columns"
   ]
  },
  {
   "cell_type": "code",
   "execution_count": null,
   "metadata": {
    "hidden": true
   },
   "outputs": [],
   "source": [
    "heart_df.info()\n",
    "#info about columns \n",
    "#non-null = no blank entries"
   ]
  },
  {
   "cell_type": "markdown",
   "metadata": {
    "heading_collapsed": true,
    "hidden": true
   },
   "source": [
    "### `.describe()` : statistics about the data"
   ]
  },
  {
   "cell_type": "code",
   "execution_count": null,
   "metadata": {
    "hidden": true,
    "scrolled": true
   },
   "outputs": [],
   "source": [
    "heart_df.describe()"
   ]
  },
  {
   "cell_type": "markdown",
   "metadata": {
    "heading_collapsed": true,
    "hidden": true
   },
   "source": [
    "### `.dtypes` : data types of each column"
   ]
  },
  {
   "cell_type": "code",
   "execution_count": null,
   "metadata": {
    "hidden": true
   },
   "outputs": [],
   "source": [
    "heart_df.dtypes"
   ]
  },
  {
   "cell_type": "markdown",
   "metadata": {
    "heading_collapsed": true,
    "hidden": true
   },
   "source": [
    "### `.shape` : number of rows and columns"
   ]
  },
  {
   "cell_type": "code",
   "execution_count": null,
   "metadata": {
    "hidden": true,
    "scrolled": true
   },
   "outputs": [],
   "source": [
    "heart_df.shape"
   ]
  },
  {
   "cell_type": "code",
   "execution_count": null,
   "metadata": {},
   "outputs": [],
   "source": [
    "#attribute = a piece of it / like cell above \n",
    "#method = something we do to it "
   ]
  },
  {
   "cell_type": "markdown",
   "metadata": {},
   "source": [
    "### Statistics\n",
    "\n",
    "We saw them above, in the `.describe`, but we can also calculate statistics by calling them individually."
   ]
  },
  {
   "cell_type": "code",
   "execution_count": null,
   "metadata": {},
   "outputs": [],
   "source": [
    "# Calculate the mean - for the whole dataframe!\n",
    "heart_df.mean()"
   ]
  },
  {
   "cell_type": "code",
   "execution_count": null,
   "metadata": {},
   "outputs": [],
   "source": [
    "# Now min\n",
    "heart_df.min()"
   ]
  },
  {
   "cell_type": "code",
   "execution_count": null,
   "metadata": {},
   "outputs": [],
   "source": [
    "# And max\n",
    "heart_df.max()"
   ]
  },
  {
   "cell_type": "markdown",
   "metadata": {},
   "source": [
    "## Enough With The Small Stuff - Bring On Real Data!\n",
    "\n",
    "Let's access an open data portal and get some real live data!"
   ]
  },
  {
   "cell_type": "markdown",
   "metadata": {},
   "source": [
    "Austin Animal Center Intake Data: https://data.austintexas.gov/Health-and-Community-Services/Austin-Animal-Center-Intakes/wter-evkm/"
   ]
  },
  {
   "cell_type": "code",
   "execution_count": null,
   "metadata": {},
   "outputs": [],
   "source": [
    "# Accessing a CSV from a url\n",
    "intakes_url = pd.read_csv('https://data.austintexas.gov/resource/wter-evkm.csv')\n",
    "intakes_url.head()"
   ]
  },
  {
   "cell_type": "code",
   "execution_count": null,
   "metadata": {},
   "outputs": [],
   "source": [
    "# Same as the JSON output from this API endpoint, but different levels of detail for dates!\n",
    "pd.read_json('https://data.austintexas.gov/resource/wter-evkm.json').head()"
   ]
  },
  {
   "cell_type": "code",
   "execution_count": null,
   "metadata": {},
   "outputs": [],
   "source": [
    "# But this is only 1000 rows... website says there's 136K rows!\n",
    "intakes_url.shape"
   ]
  },
  {
   "cell_type": "code",
   "execution_count": null,
   "metadata": {},
   "outputs": [],
   "source": [
    "!ls data/"
   ]
  },
  {
   "cell_type": "code",
   "execution_count": null,
   "metadata": {},
   "outputs": [],
   "source": [
    "# It's a limitation of the API - let's just download the data instead\n",
    "# It's in the data folder\n",
    "df = pd.read_csv('data/Austin_Animal_Center_Intakes-clean-year.csv')"
   ]
  },
  {
   "cell_type": "code",
   "execution_count": null,
   "metadata": {},
   "outputs": [],
   "source": [
    "# Now let's explore those earlier attributes and methods on this dataset!\n",
    "# Check the first 5 rows\n",
    "df.head()"
   ]
  },
  {
   "cell_type": "code",
   "execution_count": null,
   "metadata": {},
   "outputs": [],
   "source": [
    "# Check the last 5 rows\n",
    "df.tail()"
   ]
  },
  {
   "cell_type": "code",
   "execution_count": null,
   "metadata": {},
   "outputs": [],
   "source": [
    "# Check the shape\n",
    "#attribute\n",
    "df.shape"
   ]
  },
  {
   "cell_type": "code",
   "execution_count": null,
   "metadata": {},
   "outputs": [],
   "source": [
    "# Check the datatypes\n",
    "df.dtypes"
   ]
  },
  {
   "cell_type": "code",
   "execution_count": null,
   "metadata": {},
   "outputs": [],
   "source": [
    "# Check more general information on the dataframe\n",
    "df.info()"
   ]
  },
  {
   "cell_type": "code",
   "execution_count": null,
   "metadata": {
    "scrolled": true
   },
   "outputs": [],
   "source": [
    "# Check summary/descriptive statistics on the dataframe\n",
    "#looks at numeric data. In this example there is only one numeric column\n",
    "df.describe()"
   ]
  },
  {
   "cell_type": "markdown",
   "metadata": {},
   "source": [
    "#### Any Observations?\n",
    "\n",
    " - describe only works on numeric data by default \n"
   ]
  },
  {
   "cell_type": "code",
   "execution_count": null,
   "metadata": {
    "scrolled": true
   },
   "outputs": [],
   "source": [
    "# We can run describe on just the string columns! Gives a different kind of output\n",
    "#shift+tab list arguments that we can pass or just google \"pandas describe\"\n",
    "df.describe(include=[object])"
   ]
  },
  {
   "cell_type": "markdown",
   "metadata": {},
   "source": [
    "#### Any Observations?\n",
    "\n",
    "- \n"
   ]
  },
  {
   "cell_type": "markdown",
   "metadata": {
    "heading_collapsed": true
   },
   "source": [
    "## Adding to a DataFrame"
   ]
  },
  {
   "cell_type": "markdown",
   "metadata": {
    "heading_collapsed": true,
    "hidden": true
   },
   "source": [
    "### Adding Rows"
   ]
  },
  {
   "cell_type": "markdown",
   "metadata": {
    "hidden": true
   },
   "source": [
    "We have a new animal coming in, captured here in a Python dictionary:"
   ]
  },
  {
   "cell_type": "code",
   "execution_count": null,
   "metadata": {
    "hidden": true
   },
   "outputs": [],
   "source": [
    "# Dictionary, where keys match the column names and values are the row values\n",
    "# Note that the values are list-like - you could easily add more rows by adding to the lists!\n",
    "next_row = {\n",
    "    'Animal ID': ['A851755'],\n",
    "    'Name': [\"T'Challa\"],\n",
    "    'DateTime': ['2/28/2022 11:25:00 AM'],\n",
    "    'Year': [2022],\n",
    "    'Found Location': ['Houston (TX)'],\n",
    "    'Intake Type': ['Public Assist'],\n",
    "    'Intake Condition': ['Normal'],\n",
    "    'Animal Type': ['Cat'],\n",
    "    'Sex upon Intake': ['Neutered Male'],\n",
    "    'Age upon Intake': ['4 years'],\n",
    "    'Breed': ['Domestic Shorthair'],\n",
    "    'Color': ['Black']\n",
    "}\n",
    "next_row"
   ]
  },
  {
   "cell_type": "markdown",
   "metadata": {
    "hidden": true
   },
   "source": [
    "How can we add this to the bottom of our dataset?"
   ]
  },
  {
   "cell_type": "code",
   "execution_count": null,
   "metadata": {
    "hidden": true
   },
   "outputs": [],
   "source": [
    "# Let's first turn this into a DataFrame.\n",
    "# We can use the .from_dict() method. (do not need it in order for it to run)\n",
    "\n",
    "new_animal = pd.DataFrame.from_dict(next_row)\n",
    "new_animal"
   ]
  },
  {
   "cell_type": "code",
   "execution_count": null,
   "metadata": {
    "hidden": true
   },
   "outputs": [],
   "source": [
    "# Now we just need to concatenate the two DataFrames together.\n",
    "# Note the `ignore_index` parameter! We'll set that to True.\n",
    "#index values do not need to be unique but it helps if they are \n",
    "df_augmented = pd.concat([df, new_animal],\n",
    "                         ignore_index=True)"
   ]
  },
  {
   "cell_type": "code",
   "execution_count": null,
   "metadata": {
    "hidden": true
   },
   "outputs": [],
   "source": [
    "# Let's check the end to make sure we were successful!\n",
    "df_augmented.tail()"
   ]
  },
  {
   "cell_type": "markdown",
   "metadata": {
    "heading_collapsed": true,
    "hidden": true
   },
   "source": [
    "### Adding (and Deleting) Columns"
   ]
  },
  {
   "cell_type": "markdown",
   "metadata": {
    "hidden": true
   },
   "source": [
    "Adding a column is very easy in `pandas`. Let's add a new column to our dataset called \"test\", and set all of its values to 0."
   ]
  },
  {
   "cell_type": "code",
   "execution_count": null,
   "metadata": {
    "hidden": true
   },
   "outputs": [],
   "source": [
    "# Create a new column, 'test', where every value in the col is 0\n",
    "df['test'] = 0"
   ]
  },
  {
   "cell_type": "code",
   "execution_count": 44,
   "metadata": {
    "hidden": true
   },
   "outputs": [
    {
     "data": {
      "text/html": [
       "<div>\n",
       "<style scoped>\n",
       "    .dataframe tbody tr th:only-of-type {\n",
       "        vertical-align: middle;\n",
       "    }\n",
       "\n",
       "    .dataframe tbody tr th {\n",
       "        vertical-align: top;\n",
       "    }\n",
       "\n",
       "    .dataframe thead th {\n",
       "        text-align: right;\n",
       "    }\n",
       "</style>\n",
       "<table border=\"1\" class=\"dataframe\">\n",
       "  <thead>\n",
       "    <tr style=\"text-align: right;\">\n",
       "      <th></th>\n",
       "      <th>Animal ID</th>\n",
       "      <th>Name</th>\n",
       "      <th>DateTime</th>\n",
       "      <th>Year</th>\n",
       "      <th>Found Location</th>\n",
       "      <th>Intake Type</th>\n",
       "      <th>Intake Condition</th>\n",
       "      <th>Animal Type</th>\n",
       "      <th>Sex upon Intake</th>\n",
       "      <th>Age upon Intake</th>\n",
       "      <th>Breed</th>\n",
       "      <th>Color</th>\n",
       "      <th>test</th>\n",
       "    </tr>\n",
       "  </thead>\n",
       "  <tbody>\n",
       "    <tr>\n",
       "      <th>0</th>\n",
       "      <td>A786884</td>\n",
       "      <td>*Brock</td>\n",
       "      <td>2019-01-03 16:19:00</td>\n",
       "      <td>2019</td>\n",
       "      <td>2501 Magin Meadow Dr in Austin (TX)</td>\n",
       "      <td>Stray</td>\n",
       "      <td>Normal</td>\n",
       "      <td>Dog</td>\n",
       "      <td>Neutered Male</td>\n",
       "      <td>2 years</td>\n",
       "      <td>Beagle Mix</td>\n",
       "      <td>Tricolor</td>\n",
       "      <td>0</td>\n",
       "    </tr>\n",
       "    <tr>\n",
       "      <th>1</th>\n",
       "      <td>A706918</td>\n",
       "      <td>Belle</td>\n",
       "      <td>2015-07-05 12:59:00</td>\n",
       "      <td>2015</td>\n",
       "      <td>9409 Bluegrass Dr in Austin (TX)</td>\n",
       "      <td>Stray</td>\n",
       "      <td>Normal</td>\n",
       "      <td>Dog</td>\n",
       "      <td>Spayed Female</td>\n",
       "      <td>8 years</td>\n",
       "      <td>English Springer Spaniel</td>\n",
       "      <td>White/Liver</td>\n",
       "      <td>0</td>\n",
       "    </tr>\n",
       "    <tr>\n",
       "      <th>2</th>\n",
       "      <td>A724273</td>\n",
       "      <td>Runster</td>\n",
       "      <td>2016-04-14 18:43:00</td>\n",
       "      <td>2016</td>\n",
       "      <td>2818 Palomino Trail in Austin (TX)</td>\n",
       "      <td>Stray</td>\n",
       "      <td>Normal</td>\n",
       "      <td>Dog</td>\n",
       "      <td>Intact Male</td>\n",
       "      <td>11 months</td>\n",
       "      <td>Basenji Mix</td>\n",
       "      <td>Sable/White</td>\n",
       "      <td>0</td>\n",
       "    </tr>\n",
       "    <tr>\n",
       "      <th>3</th>\n",
       "      <td>A665644</td>\n",
       "      <td>NaN</td>\n",
       "      <td>2013-10-21 07:59:00</td>\n",
       "      <td>2013</td>\n",
       "      <td>Austin (TX)</td>\n",
       "      <td>Stray</td>\n",
       "      <td>Sick</td>\n",
       "      <td>Cat</td>\n",
       "      <td>Intact Female</td>\n",
       "      <td>4 weeks</td>\n",
       "      <td>Domestic Shorthair Mix</td>\n",
       "      <td>Calico</td>\n",
       "      <td>0</td>\n",
       "    </tr>\n",
       "    <tr>\n",
       "      <th>4</th>\n",
       "      <td>A682524</td>\n",
       "      <td>Rio</td>\n",
       "      <td>2014-06-29 10:38:00</td>\n",
       "      <td>2014</td>\n",
       "      <td>800 Grove Blvd in Austin (TX)</td>\n",
       "      <td>Stray</td>\n",
       "      <td>Normal</td>\n",
       "      <td>Dog</td>\n",
       "      <td>Neutered Male</td>\n",
       "      <td>4 years</td>\n",
       "      <td>Doberman Pinsch/Australian Cattle Dog</td>\n",
       "      <td>Tan/Gray</td>\n",
       "      <td>0</td>\n",
       "    </tr>\n",
       "  </tbody>\n",
       "</table>\n",
       "</div>"
      ],
      "text/plain": [
       "  Animal ID     Name             DateTime  Year  \\\n",
       "0   A786884   *Brock  2019-01-03 16:19:00  2019   \n",
       "1   A706918    Belle  2015-07-05 12:59:00  2015   \n",
       "2   A724273  Runster  2016-04-14 18:43:00  2016   \n",
       "3   A665644      NaN  2013-10-21 07:59:00  2013   \n",
       "4   A682524      Rio  2014-06-29 10:38:00  2014   \n",
       "\n",
       "                        Found Location Intake Type Intake Condition  \\\n",
       "0  2501 Magin Meadow Dr in Austin (TX)       Stray           Normal   \n",
       "1     9409 Bluegrass Dr in Austin (TX)       Stray           Normal   \n",
       "2   2818 Palomino Trail in Austin (TX)       Stray           Normal   \n",
       "3                          Austin (TX)       Stray             Sick   \n",
       "4        800 Grove Blvd in Austin (TX)       Stray           Normal   \n",
       "\n",
       "  Animal Type Sex upon Intake Age upon Intake  \\\n",
       "0         Dog   Neutered Male         2 years   \n",
       "1         Dog   Spayed Female         8 years   \n",
       "2         Dog     Intact Male       11 months   \n",
       "3         Cat   Intact Female         4 weeks   \n",
       "4         Dog   Neutered Male         4 years   \n",
       "\n",
       "                                   Breed        Color  test  \n",
       "0                             Beagle Mix     Tricolor     0  \n",
       "1               English Springer Spaniel  White/Liver     0  \n",
       "2                            Basenji Mix  Sable/White     0  \n",
       "3                 Domestic Shorthair Mix       Calico     0  \n",
       "4  Doberman Pinsch/Australian Cattle Dog     Tan/Gray     0  "
      ]
     },
     "execution_count": 44,
     "metadata": {},
     "output_type": "execute_result"
    }
   ],
   "source": [
    "# Sanity check\n",
    "#new column created with the value of 0\n",
    "df.head()"
   ]
  },
  {
   "cell_type": "markdown",
   "metadata": {},
   "source": [
    "But we don't need that - let's drop that column."
   ]
  },
  {
   "cell_type": "code",
   "execution_count": 62,
   "metadata": {},
   "outputs": [
    {
     "ename": "KeyError",
     "evalue": "\"['test'] not found in axis\"",
     "output_type": "error",
     "traceback": [
      "\u001b[0;31m---------------------------------------------------------------------------\u001b[0m",
      "\u001b[0;31mKeyError\u001b[0m                                  Traceback (most recent call last)",
      "\u001b[0;32m<ipython-input-62-03c38d14ebae>\u001b[0m in \u001b[0;36m<module>\u001b[0;34m\u001b[0m\n\u001b[1;32m      1\u001b[0m \u001b[0;31m# Drop that test column\u001b[0m\u001b[0;34m\u001b[0m\u001b[0;34m\u001b[0m\u001b[0;34m\u001b[0m\u001b[0m\n\u001b[1;32m      2\u001b[0m \u001b[0;31m#axis 0 = rows; axis 1 = columns\u001b[0m\u001b[0;34m\u001b[0m\u001b[0;34m\u001b[0m\u001b[0;34m\u001b[0m\u001b[0m\n\u001b[0;32m----> 3\u001b[0;31m \u001b[0mdf\u001b[0m\u001b[0;34m.\u001b[0m\u001b[0mdrop\u001b[0m\u001b[0;34m(\u001b[0m\u001b[0mcolumns\u001b[0m\u001b[0;34m=\u001b[0m\u001b[0;34m'test'\u001b[0m\u001b[0;34m,\u001b[0m \u001b[0minplace\u001b[0m \u001b[0;34m=\u001b[0m \u001b[0;32mTrue\u001b[0m\u001b[0;34m)\u001b[0m\u001b[0;34m\u001b[0m\u001b[0;34m\u001b[0m\u001b[0m\n\u001b[0m\u001b[1;32m      4\u001b[0m \u001b[0;31m# Same as\u001b[0m\u001b[0;34m\u001b[0m\u001b[0;34m\u001b[0m\u001b[0;34m\u001b[0m\u001b[0m\n\u001b[1;32m      5\u001b[0m \u001b[0;31m#df = df.drop(columns='test')\u001b[0m\u001b[0;34m\u001b[0m\u001b[0;34m\u001b[0m\u001b[0;34m\u001b[0m\u001b[0m\n",
      "\u001b[0;32m~/opt/anaconda3/envs/learn-env/lib/python3.8/site-packages/pandas/core/frame.py\u001b[0m in \u001b[0;36mdrop\u001b[0;34m(self, labels, axis, index, columns, level, inplace, errors)\u001b[0m\n\u001b[1;32m   4161\u001b[0m                 \u001b[0mweight\u001b[0m  \u001b[0;36m1.0\u001b[0m     \u001b[0;36m0.8\u001b[0m\u001b[0;34m\u001b[0m\u001b[0;34m\u001b[0m\u001b[0m\n\u001b[1;32m   4162\u001b[0m         \"\"\"\n\u001b[0;32m-> 4163\u001b[0;31m         return super().drop(\n\u001b[0m\u001b[1;32m   4164\u001b[0m             \u001b[0mlabels\u001b[0m\u001b[0;34m=\u001b[0m\u001b[0mlabels\u001b[0m\u001b[0;34m,\u001b[0m\u001b[0;34m\u001b[0m\u001b[0;34m\u001b[0m\u001b[0m\n\u001b[1;32m   4165\u001b[0m             \u001b[0maxis\u001b[0m\u001b[0;34m=\u001b[0m\u001b[0maxis\u001b[0m\u001b[0;34m,\u001b[0m\u001b[0;34m\u001b[0m\u001b[0;34m\u001b[0m\u001b[0m\n",
      "\u001b[0;32m~/opt/anaconda3/envs/learn-env/lib/python3.8/site-packages/pandas/core/generic.py\u001b[0m in \u001b[0;36mdrop\u001b[0;34m(self, labels, axis, index, columns, level, inplace, errors)\u001b[0m\n\u001b[1;32m   3885\u001b[0m         \u001b[0;32mfor\u001b[0m \u001b[0maxis\u001b[0m\u001b[0;34m,\u001b[0m \u001b[0mlabels\u001b[0m \u001b[0;32min\u001b[0m \u001b[0maxes\u001b[0m\u001b[0;34m.\u001b[0m\u001b[0mitems\u001b[0m\u001b[0;34m(\u001b[0m\u001b[0;34m)\u001b[0m\u001b[0;34m:\u001b[0m\u001b[0;34m\u001b[0m\u001b[0;34m\u001b[0m\u001b[0m\n\u001b[1;32m   3886\u001b[0m             \u001b[0;32mif\u001b[0m \u001b[0mlabels\u001b[0m \u001b[0;32mis\u001b[0m \u001b[0;32mnot\u001b[0m \u001b[0;32mNone\u001b[0m\u001b[0;34m:\u001b[0m\u001b[0;34m\u001b[0m\u001b[0;34m\u001b[0m\u001b[0m\n\u001b[0;32m-> 3887\u001b[0;31m                 \u001b[0mobj\u001b[0m \u001b[0;34m=\u001b[0m \u001b[0mobj\u001b[0m\u001b[0;34m.\u001b[0m\u001b[0m_drop_axis\u001b[0m\u001b[0;34m(\u001b[0m\u001b[0mlabels\u001b[0m\u001b[0;34m,\u001b[0m \u001b[0maxis\u001b[0m\u001b[0;34m,\u001b[0m \u001b[0mlevel\u001b[0m\u001b[0;34m=\u001b[0m\u001b[0mlevel\u001b[0m\u001b[0;34m,\u001b[0m \u001b[0merrors\u001b[0m\u001b[0;34m=\u001b[0m\u001b[0merrors\u001b[0m\u001b[0;34m)\u001b[0m\u001b[0;34m\u001b[0m\u001b[0;34m\u001b[0m\u001b[0m\n\u001b[0m\u001b[1;32m   3888\u001b[0m \u001b[0;34m\u001b[0m\u001b[0m\n\u001b[1;32m   3889\u001b[0m         \u001b[0;32mif\u001b[0m \u001b[0minplace\u001b[0m\u001b[0;34m:\u001b[0m\u001b[0;34m\u001b[0m\u001b[0;34m\u001b[0m\u001b[0m\n",
      "\u001b[0;32m~/opt/anaconda3/envs/learn-env/lib/python3.8/site-packages/pandas/core/generic.py\u001b[0m in \u001b[0;36m_drop_axis\u001b[0;34m(self, labels, axis, level, errors)\u001b[0m\n\u001b[1;32m   3919\u001b[0m                 \u001b[0mnew_axis\u001b[0m \u001b[0;34m=\u001b[0m \u001b[0maxis\u001b[0m\u001b[0;34m.\u001b[0m\u001b[0mdrop\u001b[0m\u001b[0;34m(\u001b[0m\u001b[0mlabels\u001b[0m\u001b[0;34m,\u001b[0m \u001b[0mlevel\u001b[0m\u001b[0;34m=\u001b[0m\u001b[0mlevel\u001b[0m\u001b[0;34m,\u001b[0m \u001b[0merrors\u001b[0m\u001b[0;34m=\u001b[0m\u001b[0merrors\u001b[0m\u001b[0;34m)\u001b[0m\u001b[0;34m\u001b[0m\u001b[0;34m\u001b[0m\u001b[0m\n\u001b[1;32m   3920\u001b[0m             \u001b[0;32melse\u001b[0m\u001b[0;34m:\u001b[0m\u001b[0;34m\u001b[0m\u001b[0;34m\u001b[0m\u001b[0m\n\u001b[0;32m-> 3921\u001b[0;31m                 \u001b[0mnew_axis\u001b[0m \u001b[0;34m=\u001b[0m \u001b[0maxis\u001b[0m\u001b[0;34m.\u001b[0m\u001b[0mdrop\u001b[0m\u001b[0;34m(\u001b[0m\u001b[0mlabels\u001b[0m\u001b[0;34m,\u001b[0m \u001b[0merrors\u001b[0m\u001b[0;34m=\u001b[0m\u001b[0merrors\u001b[0m\u001b[0;34m)\u001b[0m\u001b[0;34m\u001b[0m\u001b[0;34m\u001b[0m\u001b[0m\n\u001b[0m\u001b[1;32m   3922\u001b[0m             \u001b[0mresult\u001b[0m \u001b[0;34m=\u001b[0m \u001b[0mself\u001b[0m\u001b[0;34m.\u001b[0m\u001b[0mreindex\u001b[0m\u001b[0;34m(\u001b[0m\u001b[0;34m**\u001b[0m\u001b[0;34m{\u001b[0m\u001b[0maxis_name\u001b[0m\u001b[0;34m:\u001b[0m \u001b[0mnew_axis\u001b[0m\u001b[0;34m}\u001b[0m\u001b[0;34m)\u001b[0m\u001b[0;34m\u001b[0m\u001b[0;34m\u001b[0m\u001b[0m\n\u001b[1;32m   3923\u001b[0m \u001b[0;34m\u001b[0m\u001b[0m\n",
      "\u001b[0;32m~/opt/anaconda3/envs/learn-env/lib/python3.8/site-packages/pandas/core/indexes/base.py\u001b[0m in \u001b[0;36mdrop\u001b[0;34m(self, labels, errors)\u001b[0m\n\u001b[1;32m   5280\u001b[0m         \u001b[0;32mif\u001b[0m \u001b[0mmask\u001b[0m\u001b[0;34m.\u001b[0m\u001b[0many\u001b[0m\u001b[0;34m(\u001b[0m\u001b[0;34m)\u001b[0m\u001b[0;34m:\u001b[0m\u001b[0;34m\u001b[0m\u001b[0;34m\u001b[0m\u001b[0m\n\u001b[1;32m   5281\u001b[0m             \u001b[0;32mif\u001b[0m \u001b[0merrors\u001b[0m \u001b[0;34m!=\u001b[0m \u001b[0;34m\"ignore\"\u001b[0m\u001b[0;34m:\u001b[0m\u001b[0;34m\u001b[0m\u001b[0;34m\u001b[0m\u001b[0m\n\u001b[0;32m-> 5282\u001b[0;31m                 \u001b[0;32mraise\u001b[0m \u001b[0mKeyError\u001b[0m\u001b[0;34m(\u001b[0m\u001b[0;34mf\"{labels[mask]} not found in axis\"\u001b[0m\u001b[0;34m)\u001b[0m\u001b[0;34m\u001b[0m\u001b[0;34m\u001b[0m\u001b[0m\n\u001b[0m\u001b[1;32m   5283\u001b[0m             \u001b[0mindexer\u001b[0m \u001b[0;34m=\u001b[0m \u001b[0mindexer\u001b[0m\u001b[0;34m[\u001b[0m\u001b[0;34m~\u001b[0m\u001b[0mmask\u001b[0m\u001b[0;34m]\u001b[0m\u001b[0;34m\u001b[0m\u001b[0;34m\u001b[0m\u001b[0m\n\u001b[1;32m   5284\u001b[0m         \u001b[0;32mreturn\u001b[0m \u001b[0mself\u001b[0m\u001b[0;34m.\u001b[0m\u001b[0mdelete\u001b[0m\u001b[0;34m(\u001b[0m\u001b[0mindexer\u001b[0m\u001b[0;34m)\u001b[0m\u001b[0;34m\u001b[0m\u001b[0;34m\u001b[0m\u001b[0m\n",
      "\u001b[0;31mKeyError\u001b[0m: \"['test'] not found in axis\""
     ]
    }
   ],
   "source": [
    "# Drop that test column\n",
    "#axis 0 = rows; axis 1 = columns\n",
    "df.drop(columns='test', inplace = True)\n",
    "# Same as \n",
    "#df = df.drop(columns='test')"
   ]
  },
  {
   "cell_type": "code",
   "execution_count": 68,
   "metadata": {
    "scrolled": true
   },
   "outputs": [
    {
     "data": {
      "text/html": [
       "<div>\n",
       "<style scoped>\n",
       "    .dataframe tbody tr th:only-of-type {\n",
       "        vertical-align: middle;\n",
       "    }\n",
       "\n",
       "    .dataframe tbody tr th {\n",
       "        vertical-align: top;\n",
       "    }\n",
       "\n",
       "    .dataframe thead th {\n",
       "        text-align: right;\n",
       "    }\n",
       "</style>\n",
       "<table border=\"1\" class=\"dataframe\">\n",
       "  <thead>\n",
       "    <tr style=\"text-align: right;\">\n",
       "      <th></th>\n",
       "      <th>Animal ID</th>\n",
       "      <th>Name</th>\n",
       "      <th>DateTime</th>\n",
       "      <th>Year</th>\n",
       "      <th>Found Location</th>\n",
       "      <th>Intake Type</th>\n",
       "      <th>Intake Condition</th>\n",
       "      <th>Animal Type</th>\n",
       "      <th>Sex upon Intake</th>\n",
       "      <th>Age upon Intake</th>\n",
       "      <th>Breed</th>\n",
       "      <th>Color</th>\n",
       "    </tr>\n",
       "  </thead>\n",
       "  <tbody>\n",
       "    <tr>\n",
       "      <th>0</th>\n",
       "      <td>A786884</td>\n",
       "      <td>*Brock</td>\n",
       "      <td>2019-01-03 16:19:00</td>\n",
       "      <td>2019</td>\n",
       "      <td>2501 Magin Meadow Dr in Austin (TX)</td>\n",
       "      <td>Stray</td>\n",
       "      <td>Normal</td>\n",
       "      <td>Dog</td>\n",
       "      <td>Neutered Male</td>\n",
       "      <td>2 years</td>\n",
       "      <td>Beagle Mix</td>\n",
       "      <td>Tricolor</td>\n",
       "    </tr>\n",
       "    <tr>\n",
       "      <th>1</th>\n",
       "      <td>A706918</td>\n",
       "      <td>Belle</td>\n",
       "      <td>2015-07-05 12:59:00</td>\n",
       "      <td>2015</td>\n",
       "      <td>9409 Bluegrass Dr in Austin (TX)</td>\n",
       "      <td>Stray</td>\n",
       "      <td>Normal</td>\n",
       "      <td>Dog</td>\n",
       "      <td>Spayed Female</td>\n",
       "      <td>8 years</td>\n",
       "      <td>English Springer Spaniel</td>\n",
       "      <td>White/Liver</td>\n",
       "    </tr>\n",
       "    <tr>\n",
       "      <th>2</th>\n",
       "      <td>A724273</td>\n",
       "      <td>Runster</td>\n",
       "      <td>2016-04-14 18:43:00</td>\n",
       "      <td>2016</td>\n",
       "      <td>2818 Palomino Trail in Austin (TX)</td>\n",
       "      <td>Stray</td>\n",
       "      <td>Normal</td>\n",
       "      <td>Dog</td>\n",
       "      <td>Intact Male</td>\n",
       "      <td>11 months</td>\n",
       "      <td>Basenji Mix</td>\n",
       "      <td>Sable/White</td>\n",
       "    </tr>\n",
       "    <tr>\n",
       "      <th>3</th>\n",
       "      <td>A665644</td>\n",
       "      <td>NaN</td>\n",
       "      <td>2013-10-21 07:59:00</td>\n",
       "      <td>2013</td>\n",
       "      <td>Austin (TX)</td>\n",
       "      <td>Stray</td>\n",
       "      <td>Sick</td>\n",
       "      <td>Cat</td>\n",
       "      <td>Intact Female</td>\n",
       "      <td>4 weeks</td>\n",
       "      <td>Domestic Shorthair Mix</td>\n",
       "      <td>Calico</td>\n",
       "    </tr>\n",
       "    <tr>\n",
       "      <th>4</th>\n",
       "      <td>A682524</td>\n",
       "      <td>Rio</td>\n",
       "      <td>2014-06-29 10:38:00</td>\n",
       "      <td>2014</td>\n",
       "      <td>800 Grove Blvd in Austin (TX)</td>\n",
       "      <td>Stray</td>\n",
       "      <td>Normal</td>\n",
       "      <td>Dog</td>\n",
       "      <td>Neutered Male</td>\n",
       "      <td>4 years</td>\n",
       "      <td>Doberman Pinsch/Australian Cattle Dog</td>\n",
       "      <td>Tan/Gray</td>\n",
       "    </tr>\n",
       "  </tbody>\n",
       "</table>\n",
       "</div>"
      ],
      "text/plain": [
       "  Animal ID     Name             DateTime  Year  \\\n",
       "0   A786884   *Brock  2019-01-03 16:19:00  2019   \n",
       "1   A706918    Belle  2015-07-05 12:59:00  2015   \n",
       "2   A724273  Runster  2016-04-14 18:43:00  2016   \n",
       "3   A665644      NaN  2013-10-21 07:59:00  2013   \n",
       "4   A682524      Rio  2014-06-29 10:38:00  2014   \n",
       "\n",
       "                        Found Location Intake Type Intake Condition  \\\n",
       "0  2501 Magin Meadow Dr in Austin (TX)       Stray           Normal   \n",
       "1     9409 Bluegrass Dr in Austin (TX)       Stray           Normal   \n",
       "2   2818 Palomino Trail in Austin (TX)       Stray           Normal   \n",
       "3                          Austin (TX)       Stray             Sick   \n",
       "4        800 Grove Blvd in Austin (TX)       Stray           Normal   \n",
       "\n",
       "  Animal Type Sex upon Intake Age upon Intake  \\\n",
       "0         Dog   Neutered Male         2 years   \n",
       "1         Dog   Spayed Female         8 years   \n",
       "2         Dog     Intact Male       11 months   \n",
       "3         Cat   Intact Female         4 weeks   \n",
       "4         Dog   Neutered Male         4 years   \n",
       "\n",
       "                                   Breed        Color  \n",
       "0                             Beagle Mix     Tricolor  \n",
       "1               English Springer Spaniel  White/Liver  \n",
       "2                            Basenji Mix  Sable/White  \n",
       "3                 Domestic Shorthair Mix       Calico  \n",
       "4  Doberman Pinsch/Australian Cattle Dog     Tan/Gray  "
      ]
     },
     "execution_count": 68,
     "metadata": {},
     "output_type": "execute_result"
    }
   ],
   "source": [
    "# Sanity check = checking to see that what we just did actually works \n",
    "df.head()"
   ]
  },
  {
   "cell_type": "markdown",
   "metadata": {
    "hidden": true
   },
   "source": [
    "We can also do math with columns, or use mathematical notation to combine columns even when they aren't numerical!\n",
    "\n",
    "We don't have any numeric data in this current dataset. But we can still create a combined \"Type\" column that combines the values of our Intake Type and Animal Type columns."
   ]
  },
  {
   "cell_type": "code",
   "execution_count": 70,
   "metadata": {
    "hidden": true
   },
   "outputs": [],
   "source": [
    "# Create a new column, 'Type', from the two 'Type' columns\n",
    "# Have to use brackets because they is a space in between\n",
    "df['Type'] = df['Intake Type'] + \"\" + df['Animal Type']"
   ]
  },
  {
   "cell_type": "code",
   "execution_count": 71,
   "metadata": {
    "hidden": true
   },
   "outputs": [
    {
     "data": {
      "text/html": [
       "<div>\n",
       "<style scoped>\n",
       "    .dataframe tbody tr th:only-of-type {\n",
       "        vertical-align: middle;\n",
       "    }\n",
       "\n",
       "    .dataframe tbody tr th {\n",
       "        vertical-align: top;\n",
       "    }\n",
       "\n",
       "    .dataframe thead th {\n",
       "        text-align: right;\n",
       "    }\n",
       "</style>\n",
       "<table border=\"1\" class=\"dataframe\">\n",
       "  <thead>\n",
       "    <tr style=\"text-align: right;\">\n",
       "      <th></th>\n",
       "      <th>Animal ID</th>\n",
       "      <th>Name</th>\n",
       "      <th>DateTime</th>\n",
       "      <th>Year</th>\n",
       "      <th>Found Location</th>\n",
       "      <th>Intake Type</th>\n",
       "      <th>Intake Condition</th>\n",
       "      <th>Animal Type</th>\n",
       "      <th>Sex upon Intake</th>\n",
       "      <th>Age upon Intake</th>\n",
       "      <th>Breed</th>\n",
       "      <th>Color</th>\n",
       "      <th>Type</th>\n",
       "    </tr>\n",
       "  </thead>\n",
       "  <tbody>\n",
       "    <tr>\n",
       "      <th>0</th>\n",
       "      <td>A786884</td>\n",
       "      <td>*Brock</td>\n",
       "      <td>2019-01-03 16:19:00</td>\n",
       "      <td>2019</td>\n",
       "      <td>2501 Magin Meadow Dr in Austin (TX)</td>\n",
       "      <td>Stray</td>\n",
       "      <td>Normal</td>\n",
       "      <td>Dog</td>\n",
       "      <td>Neutered Male</td>\n",
       "      <td>2 years</td>\n",
       "      <td>Beagle Mix</td>\n",
       "      <td>Tricolor</td>\n",
       "      <td>StrayDog</td>\n",
       "    </tr>\n",
       "    <tr>\n",
       "      <th>1</th>\n",
       "      <td>A706918</td>\n",
       "      <td>Belle</td>\n",
       "      <td>2015-07-05 12:59:00</td>\n",
       "      <td>2015</td>\n",
       "      <td>9409 Bluegrass Dr in Austin (TX)</td>\n",
       "      <td>Stray</td>\n",
       "      <td>Normal</td>\n",
       "      <td>Dog</td>\n",
       "      <td>Spayed Female</td>\n",
       "      <td>8 years</td>\n",
       "      <td>English Springer Spaniel</td>\n",
       "      <td>White/Liver</td>\n",
       "      <td>StrayDog</td>\n",
       "    </tr>\n",
       "    <tr>\n",
       "      <th>2</th>\n",
       "      <td>A724273</td>\n",
       "      <td>Runster</td>\n",
       "      <td>2016-04-14 18:43:00</td>\n",
       "      <td>2016</td>\n",
       "      <td>2818 Palomino Trail in Austin (TX)</td>\n",
       "      <td>Stray</td>\n",
       "      <td>Normal</td>\n",
       "      <td>Dog</td>\n",
       "      <td>Intact Male</td>\n",
       "      <td>11 months</td>\n",
       "      <td>Basenji Mix</td>\n",
       "      <td>Sable/White</td>\n",
       "      <td>StrayDog</td>\n",
       "    </tr>\n",
       "    <tr>\n",
       "      <th>3</th>\n",
       "      <td>A665644</td>\n",
       "      <td>NaN</td>\n",
       "      <td>2013-10-21 07:59:00</td>\n",
       "      <td>2013</td>\n",
       "      <td>Austin (TX)</td>\n",
       "      <td>Stray</td>\n",
       "      <td>Sick</td>\n",
       "      <td>Cat</td>\n",
       "      <td>Intact Female</td>\n",
       "      <td>4 weeks</td>\n",
       "      <td>Domestic Shorthair Mix</td>\n",
       "      <td>Calico</td>\n",
       "      <td>StrayCat</td>\n",
       "    </tr>\n",
       "    <tr>\n",
       "      <th>4</th>\n",
       "      <td>A682524</td>\n",
       "      <td>Rio</td>\n",
       "      <td>2014-06-29 10:38:00</td>\n",
       "      <td>2014</td>\n",
       "      <td>800 Grove Blvd in Austin (TX)</td>\n",
       "      <td>Stray</td>\n",
       "      <td>Normal</td>\n",
       "      <td>Dog</td>\n",
       "      <td>Neutered Male</td>\n",
       "      <td>4 years</td>\n",
       "      <td>Doberman Pinsch/Australian Cattle Dog</td>\n",
       "      <td>Tan/Gray</td>\n",
       "      <td>StrayDog</td>\n",
       "    </tr>\n",
       "  </tbody>\n",
       "</table>\n",
       "</div>"
      ],
      "text/plain": [
       "  Animal ID     Name             DateTime  Year  \\\n",
       "0   A786884   *Brock  2019-01-03 16:19:00  2019   \n",
       "1   A706918    Belle  2015-07-05 12:59:00  2015   \n",
       "2   A724273  Runster  2016-04-14 18:43:00  2016   \n",
       "3   A665644      NaN  2013-10-21 07:59:00  2013   \n",
       "4   A682524      Rio  2014-06-29 10:38:00  2014   \n",
       "\n",
       "                        Found Location Intake Type Intake Condition  \\\n",
       "0  2501 Magin Meadow Dr in Austin (TX)       Stray           Normal   \n",
       "1     9409 Bluegrass Dr in Austin (TX)       Stray           Normal   \n",
       "2   2818 Palomino Trail in Austin (TX)       Stray           Normal   \n",
       "3                          Austin (TX)       Stray             Sick   \n",
       "4        800 Grove Blvd in Austin (TX)       Stray           Normal   \n",
       "\n",
       "  Animal Type Sex upon Intake Age upon Intake  \\\n",
       "0         Dog   Neutered Male         2 years   \n",
       "1         Dog   Spayed Female         8 years   \n",
       "2         Dog     Intact Male       11 months   \n",
       "3         Cat   Intact Female         4 weeks   \n",
       "4         Dog   Neutered Male         4 years   \n",
       "\n",
       "                                   Breed        Color      Type  \n",
       "0                             Beagle Mix     Tricolor  StrayDog  \n",
       "1               English Springer Spaniel  White/Liver  StrayDog  \n",
       "2                            Basenji Mix  Sable/White  StrayDog  \n",
       "3                 Domestic Shorthair Mix       Calico  StrayCat  \n",
       "4  Doberman Pinsch/Australian Cattle Dog     Tan/Gray  StrayDog  "
      ]
     },
     "execution_count": 71,
     "metadata": {},
     "output_type": "execute_result"
    }
   ],
   "source": [
    "# Sanity check\n",
    "df.head()"
   ]
  },
  {
   "cell_type": "markdown",
   "metadata": {
    "heading_collapsed": true
   },
   "source": [
    "## Filtering"
   ]
  },
  {
   "cell_type": "markdown",
   "metadata": {
    "hidden": true
   },
   "source": [
    "We can use filtering techniques to see only certain rows of our data. Let's look at only animals taken into the center during or after 2020:"
   ]
  },
  {
   "cell_type": "code",
   "execution_count": 74,
   "metadata": {},
   "outputs": [
    {
     "data": {
      "text/plain": [
       "0         False\n",
       "1         False\n",
       "2         False\n",
       "3         False\n",
       "4         False\n",
       "          ...  \n",
       "136758     True\n",
       "136759     True\n",
       "136760     True\n",
       "136761     True\n",
       "136762     True\n",
       "Name: Year, Length: 136763, dtype: bool"
      ]
     },
     "execution_count": 74,
     "metadata": {},
     "output_type": "execute_result"
    }
   ],
   "source": [
    "# Check which rows have an intake year greater than or equal to 2020\n",
    "df['Year'] >= 2020"
   ]
  },
  {
   "cell_type": "code",
   "execution_count": 75,
   "metadata": {
    "hidden": true
   },
   "outputs": [
    {
     "data": {
      "text/plain": [
       "23269"
      ]
     },
     "execution_count": 75,
     "metadata": {},
     "output_type": "execute_result"
    }
   ],
   "source": [
    "# Let's explore an interesting property of boolean columns...\n",
    "# Find out the total sum of animals taken in during or after 2020\n",
    "sum(df['Year'] >= 2020)"
   ]
  },
  {
   "cell_type": "markdown",
   "metadata": {},
   "source": [
    "But this only gives us True/False outputs... what if we want to really filter?"
   ]
  },
  {
   "cell_type": "markdown",
   "metadata": {
    "heading_collapsed": true,
    "hidden": true
   },
   "source": [
    "### `.loc` "
   ]
  },
  {
   "cell_type": "markdown",
   "metadata": {
    "hidden": true
   },
   "source": [
    "We can locate and segment down to only rows where some condition is true using `.loc`. This takes in a condition, and only outputs the rows where that condition is True! \n",
    "\n",
    "> **Note:** locate (`.loc`) uses square brackets, not parentheses! Often, square brackets denote location-focused actions, like this one.\n",
    "\n",
    "Let's try this first with the condition we just built, and locate all animals taken in during or after 2020."
   ]
  },
  {
   "cell_type": "code",
   "execution_count": 77,
   "metadata": {
    "hidden": true
   },
   "outputs": [],
   "source": [
    "# Create a subset dataframe of animals taken in during or after 2020\n",
    "# functions take parentheses / .loc uses []\n",
    "df_2020 = df.loc[df['Year'] >= 2020]"
   ]
  },
  {
   "cell_type": "code",
   "execution_count": 78,
   "metadata": {},
   "outputs": [
    {
     "data": {
      "text/html": [
       "<div>\n",
       "<style scoped>\n",
       "    .dataframe tbody tr th:only-of-type {\n",
       "        vertical-align: middle;\n",
       "    }\n",
       "\n",
       "    .dataframe tbody tr th {\n",
       "        vertical-align: top;\n",
       "    }\n",
       "\n",
       "    .dataframe thead th {\n",
       "        text-align: right;\n",
       "    }\n",
       "</style>\n",
       "<table border=\"1\" class=\"dataframe\">\n",
       "  <thead>\n",
       "    <tr style=\"text-align: right;\">\n",
       "      <th></th>\n",
       "      <th>Animal ID</th>\n",
       "      <th>Name</th>\n",
       "      <th>DateTime</th>\n",
       "      <th>Year</th>\n",
       "      <th>Found Location</th>\n",
       "      <th>Intake Type</th>\n",
       "      <th>Intake Condition</th>\n",
       "      <th>Animal Type</th>\n",
       "      <th>Sex upon Intake</th>\n",
       "      <th>Age upon Intake</th>\n",
       "      <th>Breed</th>\n",
       "      <th>Color</th>\n",
       "      <th>Type</th>\n",
       "    </tr>\n",
       "  </thead>\n",
       "  <tbody>\n",
       "    <tr>\n",
       "      <th>7</th>\n",
       "      <td>A844350</td>\n",
       "      <td>*Ella</td>\n",
       "      <td>2021-10-15 11:40:00</td>\n",
       "      <td>2021</td>\n",
       "      <td>2112 East William Cannon Drive in Austin (TX)</td>\n",
       "      <td>Stray</td>\n",
       "      <td>Normal</td>\n",
       "      <td>Cat</td>\n",
       "      <td>Intact Female</td>\n",
       "      <td>6 months</td>\n",
       "      <td>Domestic Shorthair</td>\n",
       "      <td>Brown Tabby</td>\n",
       "      <td>StrayCat</td>\n",
       "    </tr>\n",
       "    <tr>\n",
       "      <th>9</th>\n",
       "      <td>A818975</td>\n",
       "      <td>NaN</td>\n",
       "      <td>2020-06-18 14:53:00</td>\n",
       "      <td>2020</td>\n",
       "      <td>Braker Lane And Metric in Travis (TX)</td>\n",
       "      <td>Stray</td>\n",
       "      <td>Normal</td>\n",
       "      <td>Cat</td>\n",
       "      <td>Intact Male</td>\n",
       "      <td>4 weeks</td>\n",
       "      <td>Domestic Shorthair</td>\n",
       "      <td>Cream Tabby</td>\n",
       "      <td>StrayCat</td>\n",
       "    </tr>\n",
       "    <tr>\n",
       "      <th>22</th>\n",
       "      <td>A831808</td>\n",
       "      <td>NaN</td>\n",
       "      <td>2021-04-02 11:16:00</td>\n",
       "      <td>2021</td>\n",
       "      <td>Austin (TX)</td>\n",
       "      <td>Owner Surrender</td>\n",
       "      <td>Normal</td>\n",
       "      <td>Cat</td>\n",
       "      <td>Intact Female</td>\n",
       "      <td>1 month</td>\n",
       "      <td>Domestic Shorthair Mix</td>\n",
       "      <td>Tortie</td>\n",
       "      <td>Owner SurrenderCat</td>\n",
       "    </tr>\n",
       "  </tbody>\n",
       "</table>\n",
       "</div>"
      ],
      "text/plain": [
       "   Animal ID   Name             DateTime  Year  \\\n",
       "7    A844350  *Ella  2021-10-15 11:40:00  2021   \n",
       "9    A818975    NaN  2020-06-18 14:53:00  2020   \n",
       "22   A831808    NaN  2021-04-02 11:16:00  2021   \n",
       "\n",
       "                                   Found Location      Intake Type  \\\n",
       "7   2112 East William Cannon Drive in Austin (TX)            Stray   \n",
       "9           Braker Lane And Metric in Travis (TX)            Stray   \n",
       "22                                    Austin (TX)  Owner Surrender   \n",
       "\n",
       "   Intake Condition Animal Type Sex upon Intake Age upon Intake  \\\n",
       "7            Normal         Cat   Intact Female        6 months   \n",
       "9            Normal         Cat     Intact Male         4 weeks   \n",
       "22           Normal         Cat   Intact Female         1 month   \n",
       "\n",
       "                     Breed        Color                Type  \n",
       "7       Domestic Shorthair  Brown Tabby            StrayCat  \n",
       "9       Domestic Shorthair  Cream Tabby            StrayCat  \n",
       "22  Domestic Shorthair Mix       Tortie  Owner SurrenderCat  "
      ]
     },
     "execution_count": 78,
     "metadata": {},
     "output_type": "execute_result"
    }
   ],
   "source": [
    "# Check it\n",
    "df_2020.head(3)"
   ]
  },
  {
   "cell_type": "markdown",
   "metadata": {},
   "source": [
    "We can return only certain columns when we do this, by adding an argument after the condition:"
   ]
  },
  {
   "cell_type": "code",
   "execution_count": 81,
   "metadata": {
    "hidden": true
   },
   "outputs": [
    {
     "data": {
      "text/html": [
       "<div>\n",
       "<style scoped>\n",
       "    .dataframe tbody tr th:only-of-type {\n",
       "        vertical-align: middle;\n",
       "    }\n",
       "\n",
       "    .dataframe tbody tr th {\n",
       "        vertical-align: top;\n",
       "    }\n",
       "\n",
       "    .dataframe thead th {\n",
       "        text-align: right;\n",
       "    }\n",
       "</style>\n",
       "<table border=\"1\" class=\"dataframe\">\n",
       "  <thead>\n",
       "    <tr style=\"text-align: right;\">\n",
       "      <th></th>\n",
       "      <th>Animal ID</th>\n",
       "      <th>DateTime</th>\n",
       "      <th>Type</th>\n",
       "    </tr>\n",
       "  </thead>\n",
       "  <tbody>\n",
       "    <tr>\n",
       "      <th>7</th>\n",
       "      <td>A844350</td>\n",
       "      <td>2021-10-15 11:40:00</td>\n",
       "      <td>StrayCat</td>\n",
       "    </tr>\n",
       "    <tr>\n",
       "      <th>9</th>\n",
       "      <td>A818975</td>\n",
       "      <td>2020-06-18 14:53:00</td>\n",
       "      <td>StrayCat</td>\n",
       "    </tr>\n",
       "    <tr>\n",
       "      <th>22</th>\n",
       "      <td>A831808</td>\n",
       "      <td>2021-04-02 11:16:00</td>\n",
       "      <td>Owner SurrenderCat</td>\n",
       "    </tr>\n",
       "    <tr>\n",
       "      <th>24</th>\n",
       "      <td>A836850</td>\n",
       "      <td>2021-06-15 12:37:00</td>\n",
       "      <td>Public AssistDog</td>\n",
       "    </tr>\n",
       "    <tr>\n",
       "      <th>26</th>\n",
       "      <td>A815227</td>\n",
       "      <td>2020-03-12 13:52:00</td>\n",
       "      <td>StrayDog</td>\n",
       "    </tr>\n",
       "  </tbody>\n",
       "</table>\n",
       "</div>"
      ],
      "text/plain": [
       "   Animal ID             DateTime                Type\n",
       "7    A844350  2021-10-15 11:40:00            StrayCat\n",
       "9    A818975  2020-06-18 14:53:00            StrayCat\n",
       "22   A831808  2021-04-02 11:16:00  Owner SurrenderCat\n",
       "24   A836850  2021-06-15 12:37:00    Public AssistDog\n",
       "26   A815227  2020-03-12 13:52:00            StrayDog"
      ]
     },
     "execution_count": 81,
     "metadata": {},
     "output_type": "execute_result"
    }
   ],
   "source": [
    "#works for data frames \n",
    "# Let's return just the 'Animal ID', 'DateTime' and 'Type' columns\n",
    "df.loc[df['Year'] >= 2020, ['Animal ID', 'DateTime', 'Type']].head()"
   ]
  },
  {
   "cell_type": "code",
   "execution_count": 82,
   "metadata": {},
   "outputs": [
    {
     "data": {
      "text/html": [
       "<div>\n",
       "<style scoped>\n",
       "    .dataframe tbody tr th:only-of-type {\n",
       "        vertical-align: middle;\n",
       "    }\n",
       "\n",
       "    .dataframe tbody tr th {\n",
       "        vertical-align: top;\n",
       "    }\n",
       "\n",
       "    .dataframe thead th {\n",
       "        text-align: right;\n",
       "    }\n",
       "</style>\n",
       "<table border=\"1\" class=\"dataframe\">\n",
       "  <thead>\n",
       "    <tr style=\"text-align: right;\">\n",
       "      <th></th>\n",
       "      <th>Animal ID</th>\n",
       "      <th>DateTime</th>\n",
       "      <th>Type</th>\n",
       "    </tr>\n",
       "  </thead>\n",
       "  <tbody>\n",
       "    <tr>\n",
       "      <th>7</th>\n",
       "      <td>A844350</td>\n",
       "      <td>2021-10-15 11:40:00</td>\n",
       "      <td>StrayCat</td>\n",
       "    </tr>\n",
       "    <tr>\n",
       "      <th>9</th>\n",
       "      <td>A818975</td>\n",
       "      <td>2020-06-18 14:53:00</td>\n",
       "      <td>StrayCat</td>\n",
       "    </tr>\n",
       "    <tr>\n",
       "      <th>22</th>\n",
       "      <td>A831808</td>\n",
       "      <td>2021-04-02 11:16:00</td>\n",
       "      <td>Owner SurrenderCat</td>\n",
       "    </tr>\n",
       "    <tr>\n",
       "      <th>24</th>\n",
       "      <td>A836850</td>\n",
       "      <td>2021-06-15 12:37:00</td>\n",
       "      <td>Public AssistDog</td>\n",
       "    </tr>\n",
       "    <tr>\n",
       "      <th>26</th>\n",
       "      <td>A815227</td>\n",
       "      <td>2020-03-12 13:52:00</td>\n",
       "      <td>StrayDog</td>\n",
       "    </tr>\n",
       "    <tr>\n",
       "      <th>...</th>\n",
       "      <td>...</td>\n",
       "      <td>...</td>\n",
       "      <td>...</td>\n",
       "    </tr>\n",
       "    <tr>\n",
       "      <th>136758</th>\n",
       "      <td>A852238</td>\n",
       "      <td>2022-02-28 14:02:00</td>\n",
       "      <td>StrayDog</td>\n",
       "    </tr>\n",
       "    <tr>\n",
       "      <th>136759</th>\n",
       "      <td>A852221</td>\n",
       "      <td>2022-02-28 11:05:00</td>\n",
       "      <td>StrayDog</td>\n",
       "    </tr>\n",
       "    <tr>\n",
       "      <th>136760</th>\n",
       "      <td>A851977</td>\n",
       "      <td>2022-02-22 13:34:00</td>\n",
       "      <td>StrayDog</td>\n",
       "    </tr>\n",
       "    <tr>\n",
       "      <th>136761</th>\n",
       "      <td>A852127</td>\n",
       "      <td>2022-02-25 13:05:00</td>\n",
       "      <td>StrayDog</td>\n",
       "    </tr>\n",
       "    <tr>\n",
       "      <th>136762</th>\n",
       "      <td>A852194</td>\n",
       "      <td>2022-02-27 13:44:00</td>\n",
       "      <td>StrayDog</td>\n",
       "    </tr>\n",
       "  </tbody>\n",
       "</table>\n",
       "<p>23269 rows × 3 columns</p>\n",
       "</div>"
      ],
      "text/plain": [
       "       Animal ID             DateTime                Type\n",
       "7        A844350  2021-10-15 11:40:00            StrayCat\n",
       "9        A818975  2020-06-18 14:53:00            StrayCat\n",
       "22       A831808  2021-04-02 11:16:00  Owner SurrenderCat\n",
       "24       A836850  2021-06-15 12:37:00    Public AssistDog\n",
       "26       A815227  2020-03-12 13:52:00            StrayDog\n",
       "...          ...                  ...                 ...\n",
       "136758   A852238  2022-02-28 14:02:00            StrayDog\n",
       "136759   A852221  2022-02-28 11:05:00            StrayDog\n",
       "136760   A851977  2022-02-22 13:34:00            StrayDog\n",
       "136761   A852127  2022-02-25 13:05:00            StrayDog\n",
       "136762   A852194  2022-02-27 13:44:00            StrayDog\n",
       "\n",
       "[23269 rows x 3 columns]"
      ]
     },
     "execution_count": 82,
     "metadata": {},
     "output_type": "execute_result"
    }
   ],
   "source": [
    "# Same as:\n",
    "#only works for .loc\n",
    "df.loc[df['Year'] >= 2020][['Animal ID', 'DateTime', 'Type']]"
   ]
  },
  {
   "cell_type": "markdown",
   "metadata": {
    "hidden": true
   },
   "source": [
    "What if I want to segment using multiple conditions? Use `&` for \"and\" and `|` for \"or\" - and use parentheses around individual conditions!"
   ]
  },
  {
   "cell_type": "code",
   "execution_count": 85,
   "metadata": {},
   "outputs": [
    {
     "data": {
      "text/html": [
       "<div>\n",
       "<style scoped>\n",
       "    .dataframe tbody tr th:only-of-type {\n",
       "        vertical-align: middle;\n",
       "    }\n",
       "\n",
       "    .dataframe tbody tr th {\n",
       "        vertical-align: top;\n",
       "    }\n",
       "\n",
       "    .dataframe thead th {\n",
       "        text-align: right;\n",
       "    }\n",
       "</style>\n",
       "<table border=\"1\" class=\"dataframe\">\n",
       "  <thead>\n",
       "    <tr style=\"text-align: right;\">\n",
       "      <th></th>\n",
       "      <th>Animal ID</th>\n",
       "      <th>Name</th>\n",
       "      <th>DateTime</th>\n",
       "      <th>Year</th>\n",
       "      <th>Found Location</th>\n",
       "      <th>Intake Type</th>\n",
       "      <th>Intake Condition</th>\n",
       "      <th>Animal Type</th>\n",
       "      <th>Sex upon Intake</th>\n",
       "      <th>Age upon Intake</th>\n",
       "      <th>Breed</th>\n",
       "      <th>Color</th>\n",
       "      <th>Type</th>\n",
       "    </tr>\n",
       "  </thead>\n",
       "  <tbody>\n",
       "    <tr>\n",
       "      <th>0</th>\n",
       "      <td>A786884</td>\n",
       "      <td>*Brock</td>\n",
       "      <td>2019-01-03 16:19:00</td>\n",
       "      <td>2019</td>\n",
       "      <td>2501 Magin Meadow Dr in Austin (TX)</td>\n",
       "      <td>Stray</td>\n",
       "      <td>Normal</td>\n",
       "      <td>Dog</td>\n",
       "      <td>Neutered Male</td>\n",
       "      <td>2 years</td>\n",
       "      <td>Beagle Mix</td>\n",
       "      <td>Tricolor</td>\n",
       "      <td>StrayDog</td>\n",
       "    </tr>\n",
       "    <tr>\n",
       "      <th>1</th>\n",
       "      <td>A706918</td>\n",
       "      <td>Belle</td>\n",
       "      <td>2015-07-05 12:59:00</td>\n",
       "      <td>2015</td>\n",
       "      <td>9409 Bluegrass Dr in Austin (TX)</td>\n",
       "      <td>Stray</td>\n",
       "      <td>Normal</td>\n",
       "      <td>Dog</td>\n",
       "      <td>Spayed Female</td>\n",
       "      <td>8 years</td>\n",
       "      <td>English Springer Spaniel</td>\n",
       "      <td>White/Liver</td>\n",
       "      <td>StrayDog</td>\n",
       "    </tr>\n",
       "    <tr>\n",
       "      <th>2</th>\n",
       "      <td>A724273</td>\n",
       "      <td>Runster</td>\n",
       "      <td>2016-04-14 18:43:00</td>\n",
       "      <td>2016</td>\n",
       "      <td>2818 Palomino Trail in Austin (TX)</td>\n",
       "      <td>Stray</td>\n",
       "      <td>Normal</td>\n",
       "      <td>Dog</td>\n",
       "      <td>Intact Male</td>\n",
       "      <td>11 months</td>\n",
       "      <td>Basenji Mix</td>\n",
       "      <td>Sable/White</td>\n",
       "      <td>StrayDog</td>\n",
       "    </tr>\n",
       "    <tr>\n",
       "      <th>3</th>\n",
       "      <td>A665644</td>\n",
       "      <td>NaN</td>\n",
       "      <td>2013-10-21 07:59:00</td>\n",
       "      <td>2013</td>\n",
       "      <td>Austin (TX)</td>\n",
       "      <td>Stray</td>\n",
       "      <td>Sick</td>\n",
       "      <td>Cat</td>\n",
       "      <td>Intact Female</td>\n",
       "      <td>4 weeks</td>\n",
       "      <td>Domestic Shorthair Mix</td>\n",
       "      <td>Calico</td>\n",
       "      <td>StrayCat</td>\n",
       "    </tr>\n",
       "    <tr>\n",
       "      <th>4</th>\n",
       "      <td>A682524</td>\n",
       "      <td>Rio</td>\n",
       "      <td>2014-06-29 10:38:00</td>\n",
       "      <td>2014</td>\n",
       "      <td>800 Grove Blvd in Austin (TX)</td>\n",
       "      <td>Stray</td>\n",
       "      <td>Normal</td>\n",
       "      <td>Dog</td>\n",
       "      <td>Neutered Male</td>\n",
       "      <td>4 years</td>\n",
       "      <td>Doberman Pinsch/Australian Cattle Dog</td>\n",
       "      <td>Tan/Gray</td>\n",
       "      <td>StrayDog</td>\n",
       "    </tr>\n",
       "    <tr>\n",
       "      <th>...</th>\n",
       "      <td>...</td>\n",
       "      <td>...</td>\n",
       "      <td>...</td>\n",
       "      <td>...</td>\n",
       "      <td>...</td>\n",
       "      <td>...</td>\n",
       "      <td>...</td>\n",
       "      <td>...</td>\n",
       "      <td>...</td>\n",
       "      <td>...</td>\n",
       "      <td>...</td>\n",
       "      <td>...</td>\n",
       "      <td>...</td>\n",
       "    </tr>\n",
       "    <tr>\n",
       "      <th>136758</th>\n",
       "      <td>A852238</td>\n",
       "      <td>A852238</td>\n",
       "      <td>2022-02-28 14:02:00</td>\n",
       "      <td>2022</td>\n",
       "      <td>Cameron And Crosspark Drive in Austin (TX)</td>\n",
       "      <td>Stray</td>\n",
       "      <td>Normal</td>\n",
       "      <td>Dog</td>\n",
       "      <td>Intact Female</td>\n",
       "      <td>6 months</td>\n",
       "      <td>Labrador Retriever Mix</td>\n",
       "      <td>Black/White</td>\n",
       "      <td>StrayDog</td>\n",
       "    </tr>\n",
       "    <tr>\n",
       "      <th>136759</th>\n",
       "      <td>A852221</td>\n",
       "      <td>Coco</td>\n",
       "      <td>2022-02-28 11:05:00</td>\n",
       "      <td>2022</td>\n",
       "      <td>45 And 183 in Travis (TX)</td>\n",
       "      <td>Stray</td>\n",
       "      <td>Normal</td>\n",
       "      <td>Dog</td>\n",
       "      <td>Intact Male</td>\n",
       "      <td>3 years</td>\n",
       "      <td>Great Pyrenees</td>\n",
       "      <td>White</td>\n",
       "      <td>StrayDog</td>\n",
       "    </tr>\n",
       "    <tr>\n",
       "      <th>136760</th>\n",
       "      <td>A851977</td>\n",
       "      <td>*Jack</td>\n",
       "      <td>2022-02-22 13:34:00</td>\n",
       "      <td>2022</td>\n",
       "      <td>1200 Montopolis Drive in Austin (TX)</td>\n",
       "      <td>Stray</td>\n",
       "      <td>Normal</td>\n",
       "      <td>Dog</td>\n",
       "      <td>Intact Male</td>\n",
       "      <td>2 years</td>\n",
       "      <td>Chihuahua Shorthair/Dachshund</td>\n",
       "      <td>Black/White</td>\n",
       "      <td>StrayDog</td>\n",
       "    </tr>\n",
       "    <tr>\n",
       "      <th>136761</th>\n",
       "      <td>A852127</td>\n",
       "      <td>Sonic</td>\n",
       "      <td>2022-02-25 13:05:00</td>\n",
       "      <td>2022</td>\n",
       "      <td>7601 Daffan Ln Unit 424 in Austin (TX)</td>\n",
       "      <td>Stray</td>\n",
       "      <td>Normal</td>\n",
       "      <td>Dog</td>\n",
       "      <td>Intact Male</td>\n",
       "      <td>2 years</td>\n",
       "      <td>Pit Bull Mix</td>\n",
       "      <td>White/Yellow</td>\n",
       "      <td>StrayDog</td>\n",
       "    </tr>\n",
       "    <tr>\n",
       "      <th>136762</th>\n",
       "      <td>A852194</td>\n",
       "      <td>Queen</td>\n",
       "      <td>2022-02-27 13:44:00</td>\n",
       "      <td>2022</td>\n",
       "      <td>8071 N Lamar Blvd in Austin (TX)</td>\n",
       "      <td>Stray</td>\n",
       "      <td>Normal</td>\n",
       "      <td>Dog</td>\n",
       "      <td>Intact Female</td>\n",
       "      <td>4 months</td>\n",
       "      <td>Cane Corso</td>\n",
       "      <td>Blue Cream</td>\n",
       "      <td>StrayDog</td>\n",
       "    </tr>\n",
       "  </tbody>\n",
       "</table>\n",
       "<p>136763 rows × 13 columns</p>\n",
       "</div>"
      ],
      "text/plain": [
       "       Animal ID     Name             DateTime  Year  \\\n",
       "0        A786884   *Brock  2019-01-03 16:19:00  2019   \n",
       "1        A706918    Belle  2015-07-05 12:59:00  2015   \n",
       "2        A724273  Runster  2016-04-14 18:43:00  2016   \n",
       "3        A665644      NaN  2013-10-21 07:59:00  2013   \n",
       "4        A682524      Rio  2014-06-29 10:38:00  2014   \n",
       "...          ...      ...                  ...   ...   \n",
       "136758   A852238  A852238  2022-02-28 14:02:00  2022   \n",
       "136759   A852221     Coco  2022-02-28 11:05:00  2022   \n",
       "136760   A851977    *Jack  2022-02-22 13:34:00  2022   \n",
       "136761   A852127    Sonic  2022-02-25 13:05:00  2022   \n",
       "136762   A852194    Queen  2022-02-27 13:44:00  2022   \n",
       "\n",
       "                                    Found Location Intake Type  \\\n",
       "0              2501 Magin Meadow Dr in Austin (TX)       Stray   \n",
       "1                 9409 Bluegrass Dr in Austin (TX)       Stray   \n",
       "2               2818 Palomino Trail in Austin (TX)       Stray   \n",
       "3                                      Austin (TX)       Stray   \n",
       "4                    800 Grove Blvd in Austin (TX)       Stray   \n",
       "...                                            ...         ...   \n",
       "136758  Cameron And Crosspark Drive in Austin (TX)       Stray   \n",
       "136759                   45 And 183 in Travis (TX)       Stray   \n",
       "136760        1200 Montopolis Drive in Austin (TX)       Stray   \n",
       "136761      7601 Daffan Ln Unit 424 in Austin (TX)       Stray   \n",
       "136762            8071 N Lamar Blvd in Austin (TX)       Stray   \n",
       "\n",
       "       Intake Condition Animal Type Sex upon Intake Age upon Intake  \\\n",
       "0                Normal         Dog   Neutered Male         2 years   \n",
       "1                Normal         Dog   Spayed Female         8 years   \n",
       "2                Normal         Dog     Intact Male       11 months   \n",
       "3                  Sick         Cat   Intact Female         4 weeks   \n",
       "4                Normal         Dog   Neutered Male         4 years   \n",
       "...                 ...         ...             ...             ...   \n",
       "136758           Normal         Dog   Intact Female        6 months   \n",
       "136759           Normal         Dog     Intact Male         3 years   \n",
       "136760           Normal         Dog     Intact Male         2 years   \n",
       "136761           Normal         Dog     Intact Male         2 years   \n",
       "136762           Normal         Dog   Intact Female        4 months   \n",
       "\n",
       "                                        Breed         Color      Type  \n",
       "0                                  Beagle Mix      Tricolor  StrayDog  \n",
       "1                    English Springer Spaniel   White/Liver  StrayDog  \n",
       "2                                 Basenji Mix   Sable/White  StrayDog  \n",
       "3                      Domestic Shorthair Mix        Calico  StrayCat  \n",
       "4       Doberman Pinsch/Australian Cattle Dog      Tan/Gray  StrayDog  \n",
       "...                                       ...           ...       ...  \n",
       "136758                 Labrador Retriever Mix   Black/White  StrayDog  \n",
       "136759                         Great Pyrenees         White  StrayDog  \n",
       "136760          Chihuahua Shorthair/Dachshund   Black/White  StrayDog  \n",
       "136761                           Pit Bull Mix  White/Yellow  StrayDog  \n",
       "136762                             Cane Corso    Blue Cream  StrayDog  \n",
       "\n",
       "[136763 rows x 13 columns]"
      ]
     },
     "execution_count": 85,
     "metadata": {},
     "output_type": "execute_result"
    }
   ],
   "source": [
    "df"
   ]
  },
  {
   "cell_type": "code",
   "execution_count": 87,
   "metadata": {},
   "outputs": [
    {
     "data": {
      "text/html": [
       "<div>\n",
       "<style scoped>\n",
       "    .dataframe tbody tr th:only-of-type {\n",
       "        vertical-align: middle;\n",
       "    }\n",
       "\n",
       "    .dataframe tbody tr th {\n",
       "        vertical-align: top;\n",
       "    }\n",
       "\n",
       "    .dataframe thead th {\n",
       "        text-align: right;\n",
       "    }\n",
       "</style>\n",
       "<table border=\"1\" class=\"dataframe\">\n",
       "  <thead>\n",
       "    <tr style=\"text-align: right;\">\n",
       "      <th></th>\n",
       "      <th>Animal ID</th>\n",
       "      <th>Name</th>\n",
       "      <th>DateTime</th>\n",
       "      <th>Year</th>\n",
       "      <th>Found Location</th>\n",
       "      <th>Intake Type</th>\n",
       "      <th>Intake Condition</th>\n",
       "      <th>Animal Type</th>\n",
       "      <th>Sex upon Intake</th>\n",
       "      <th>Age upon Intake</th>\n",
       "      <th>Breed</th>\n",
       "      <th>Color</th>\n",
       "      <th>Type</th>\n",
       "    </tr>\n",
       "  </thead>\n",
       "  <tbody>\n",
       "    <tr>\n",
       "      <th>7</th>\n",
       "      <td>A844350</td>\n",
       "      <td>*Ella</td>\n",
       "      <td>2021-10-15 11:40:00</td>\n",
       "      <td>2021</td>\n",
       "      <td>2112 East William Cannon Drive in Austin (TX)</td>\n",
       "      <td>Stray</td>\n",
       "      <td>Normal</td>\n",
       "      <td>Cat</td>\n",
       "      <td>Intact Female</td>\n",
       "      <td>6 months</td>\n",
       "      <td>Domestic Shorthair</td>\n",
       "      <td>Brown Tabby</td>\n",
       "      <td>StrayCat</td>\n",
       "    </tr>\n",
       "    <tr>\n",
       "      <th>9</th>\n",
       "      <td>A818975</td>\n",
       "      <td>NaN</td>\n",
       "      <td>2020-06-18 14:53:00</td>\n",
       "      <td>2020</td>\n",
       "      <td>Braker Lane And Metric in Travis (TX)</td>\n",
       "      <td>Stray</td>\n",
       "      <td>Normal</td>\n",
       "      <td>Cat</td>\n",
       "      <td>Intact Male</td>\n",
       "      <td>4 weeks</td>\n",
       "      <td>Domestic Shorthair</td>\n",
       "      <td>Cream Tabby</td>\n",
       "      <td>StrayCat</td>\n",
       "    </tr>\n",
       "    <tr>\n",
       "      <th>44</th>\n",
       "      <td>A821389</td>\n",
       "      <td>*Dim Sum</td>\n",
       "      <td>2020-08-10 14:10:00</td>\n",
       "      <td>2020</td>\n",
       "      <td>7800 San Felipe Boulevard in Austin (TX)</td>\n",
       "      <td>Stray</td>\n",
       "      <td>Normal</td>\n",
       "      <td>Cat</td>\n",
       "      <td>Intact Male</td>\n",
       "      <td>4 weeks</td>\n",
       "      <td>Domestic Shorthair</td>\n",
       "      <td>Brown Tabby</td>\n",
       "      <td>StrayCat</td>\n",
       "    </tr>\n",
       "    <tr>\n",
       "      <th>123</th>\n",
       "      <td>A816185</td>\n",
       "      <td>NaN</td>\n",
       "      <td>2020-04-09 07:49:00</td>\n",
       "      <td>2020</td>\n",
       "      <td>1830 W Rundberg in Austin (TX)</td>\n",
       "      <td>Stray</td>\n",
       "      <td>Normal</td>\n",
       "      <td>Cat</td>\n",
       "      <td>Intact Male</td>\n",
       "      <td>1 week</td>\n",
       "      <td>Domestic Shorthair</td>\n",
       "      <td>Gray Tabby</td>\n",
       "      <td>StrayCat</td>\n",
       "    </tr>\n",
       "    <tr>\n",
       "      <th>128</th>\n",
       "      <td>A834412</td>\n",
       "      <td>Montie</td>\n",
       "      <td>2021-05-13 13:58:00</td>\n",
       "      <td>2021</td>\n",
       "      <td>1601 East Slaughter Lane in Austin (TX)</td>\n",
       "      <td>Stray</td>\n",
       "      <td>Sick</td>\n",
       "      <td>Cat</td>\n",
       "      <td>Neutered Male</td>\n",
       "      <td>5 years</td>\n",
       "      <td>Domestic Shorthair</td>\n",
       "      <td>Brown Tabby</td>\n",
       "      <td>StrayCat</td>\n",
       "    </tr>\n",
       "    <tr>\n",
       "      <th>...</th>\n",
       "      <td>...</td>\n",
       "      <td>...</td>\n",
       "      <td>...</td>\n",
       "      <td>...</td>\n",
       "      <td>...</td>\n",
       "      <td>...</td>\n",
       "      <td>...</td>\n",
       "      <td>...</td>\n",
       "      <td>...</td>\n",
       "      <td>...</td>\n",
       "      <td>...</td>\n",
       "      <td>...</td>\n",
       "      <td>...</td>\n",
       "    </tr>\n",
       "    <tr>\n",
       "      <th>136734</th>\n",
       "      <td>A852021</td>\n",
       "      <td>*Luna</td>\n",
       "      <td>2022-02-23 11:57:00</td>\n",
       "      <td>2022</td>\n",
       "      <td>Austin (TX)</td>\n",
       "      <td>Stray</td>\n",
       "      <td>Normal</td>\n",
       "      <td>Cat</td>\n",
       "      <td>Intact Female</td>\n",
       "      <td>3 months</td>\n",
       "      <td>Domestic Shorthair Mix</td>\n",
       "      <td>Brown Tabby</td>\n",
       "      <td>StrayCat</td>\n",
       "    </tr>\n",
       "    <tr>\n",
       "      <th>136746</th>\n",
       "      <td>A850166</td>\n",
       "      <td>Rainey</td>\n",
       "      <td>2022-01-19 12:39:00</td>\n",
       "      <td>2022</td>\n",
       "      <td>South First in Austin (TX)</td>\n",
       "      <td>Stray</td>\n",
       "      <td>Normal</td>\n",
       "      <td>Cat</td>\n",
       "      <td>Intact Male</td>\n",
       "      <td>1 month</td>\n",
       "      <td>Siamese</td>\n",
       "      <td>Seal Point</td>\n",
       "      <td>StrayCat</td>\n",
       "    </tr>\n",
       "    <tr>\n",
       "      <th>136750</th>\n",
       "      <td>A852230</td>\n",
       "      <td>NaN</td>\n",
       "      <td>2022-02-28 12:15:00</td>\n",
       "      <td>2022</td>\n",
       "      <td>Austin (TX)</td>\n",
       "      <td>Stray</td>\n",
       "      <td>Normal</td>\n",
       "      <td>Cat</td>\n",
       "      <td>Unknown</td>\n",
       "      <td>5 months</td>\n",
       "      <td>Domestic Shorthair</td>\n",
       "      <td>Brown Tabby</td>\n",
       "      <td>StrayCat</td>\n",
       "    </tr>\n",
       "    <tr>\n",
       "      <th>136754</th>\n",
       "      <td>A852234</td>\n",
       "      <td>NaN</td>\n",
       "      <td>2022-02-28 12:33:00</td>\n",
       "      <td>2022</td>\n",
       "      <td>305 E Lola Lane in Austin (TX)</td>\n",
       "      <td>Stray</td>\n",
       "      <td>Injured</td>\n",
       "      <td>Cat</td>\n",
       "      <td>Intact Female</td>\n",
       "      <td>2 years</td>\n",
       "      <td>Domestic Shorthair</td>\n",
       "      <td>Calico</td>\n",
       "      <td>StrayCat</td>\n",
       "    </tr>\n",
       "    <tr>\n",
       "      <th>136757</th>\n",
       "      <td>A852216</td>\n",
       "      <td>NaN</td>\n",
       "      <td>2022-02-28 10:50:00</td>\n",
       "      <td>2022</td>\n",
       "      <td>Outside Jurisdiction</td>\n",
       "      <td>Stray</td>\n",
       "      <td>Normal</td>\n",
       "      <td>Cat</td>\n",
       "      <td>Intact Female</td>\n",
       "      <td>6 months</td>\n",
       "      <td>Domestic Shorthair</td>\n",
       "      <td>Black/White</td>\n",
       "      <td>StrayCat</td>\n",
       "    </tr>\n",
       "  </tbody>\n",
       "</table>\n",
       "<p>6204 rows × 13 columns</p>\n",
       "</div>"
      ],
      "text/plain": [
       "       Animal ID      Name             DateTime  Year  \\\n",
       "7        A844350     *Ella  2021-10-15 11:40:00  2021   \n",
       "9        A818975       NaN  2020-06-18 14:53:00  2020   \n",
       "44       A821389  *Dim Sum  2020-08-10 14:10:00  2020   \n",
       "123      A816185       NaN  2020-04-09 07:49:00  2020   \n",
       "128      A834412    Montie  2021-05-13 13:58:00  2021   \n",
       "...          ...       ...                  ...   ...   \n",
       "136734   A852021     *Luna  2022-02-23 11:57:00  2022   \n",
       "136746   A850166    Rainey  2022-01-19 12:39:00  2022   \n",
       "136750   A852230       NaN  2022-02-28 12:15:00  2022   \n",
       "136754   A852234       NaN  2022-02-28 12:33:00  2022   \n",
       "136757   A852216       NaN  2022-02-28 10:50:00  2022   \n",
       "\n",
       "                                       Found Location Intake Type  \\\n",
       "7       2112 East William Cannon Drive in Austin (TX)       Stray   \n",
       "9               Braker Lane And Metric in Travis (TX)       Stray   \n",
       "44           7800 San Felipe Boulevard in Austin (TX)       Stray   \n",
       "123                    1830 W Rundberg in Austin (TX)       Stray   \n",
       "128           1601 East Slaughter Lane in Austin (TX)       Stray   \n",
       "...                                               ...         ...   \n",
       "136734                                    Austin (TX)       Stray   \n",
       "136746                     South First in Austin (TX)       Stray   \n",
       "136750                                    Austin (TX)       Stray   \n",
       "136754                 305 E Lola Lane in Austin (TX)       Stray   \n",
       "136757                           Outside Jurisdiction       Stray   \n",
       "\n",
       "       Intake Condition Animal Type Sex upon Intake Age upon Intake  \\\n",
       "7                Normal         Cat   Intact Female        6 months   \n",
       "9                Normal         Cat     Intact Male         4 weeks   \n",
       "44               Normal         Cat     Intact Male         4 weeks   \n",
       "123              Normal         Cat     Intact Male          1 week   \n",
       "128                Sick         Cat   Neutered Male         5 years   \n",
       "...                 ...         ...             ...             ...   \n",
       "136734           Normal         Cat   Intact Female        3 months   \n",
       "136746           Normal         Cat     Intact Male         1 month   \n",
       "136750           Normal         Cat         Unknown        5 months   \n",
       "136754          Injured         Cat   Intact Female         2 years   \n",
       "136757           Normal         Cat   Intact Female        6 months   \n",
       "\n",
       "                         Breed        Color      Type  \n",
       "7           Domestic Shorthair  Brown Tabby  StrayCat  \n",
       "9           Domestic Shorthair  Cream Tabby  StrayCat  \n",
       "44          Domestic Shorthair  Brown Tabby  StrayCat  \n",
       "123         Domestic Shorthair   Gray Tabby  StrayCat  \n",
       "128         Domestic Shorthair  Brown Tabby  StrayCat  \n",
       "...                        ...          ...       ...  \n",
       "136734  Domestic Shorthair Mix  Brown Tabby  StrayCat  \n",
       "136746                 Siamese   Seal Point  StrayCat  \n",
       "136750      Domestic Shorthair  Brown Tabby  StrayCat  \n",
       "136754      Domestic Shorthair       Calico  StrayCat  \n",
       "136757      Domestic Shorthair  Black/White  StrayCat  \n",
       "\n",
       "[6204 rows x 13 columns]"
      ]
     },
     "execution_count": 87,
     "metadata": {},
     "output_type": "execute_result"
    }
   ],
   "source": [
    "# Find all the Stray Cats taken in during or after 2020\n",
    "df.loc[(df['Year'] >= 2020) & (df['Type'] == 'StrayCat')]"
   ]
  },
  {
   "cell_type": "markdown",
   "metadata": {},
   "source": [
    "## Your turn!"
   ]
  },
  {
   "cell_type": "markdown",
   "metadata": {},
   "source": [
    "### Exercise 1\n",
    "\n",
    "You need to find dogs that need extra attention - How would you find all dogs where the intake condition is NOT normal?"
   ]
  },
  {
   "cell_type": "code",
   "execution_count": 104,
   "metadata": {},
   "outputs": [
    {
     "data": {
      "text/html": [
       "<div>\n",
       "<style scoped>\n",
       "    .dataframe tbody tr th:only-of-type {\n",
       "        vertical-align: middle;\n",
       "    }\n",
       "\n",
       "    .dataframe tbody tr th {\n",
       "        vertical-align: top;\n",
       "    }\n",
       "\n",
       "    .dataframe thead th {\n",
       "        text-align: right;\n",
       "    }\n",
       "</style>\n",
       "<table border=\"1\" class=\"dataframe\">\n",
       "  <thead>\n",
       "    <tr style=\"text-align: right;\">\n",
       "      <th></th>\n",
       "      <th>Animal ID</th>\n",
       "      <th>Name</th>\n",
       "      <th>DateTime</th>\n",
       "      <th>Year</th>\n",
       "      <th>Found Location</th>\n",
       "      <th>Intake Type</th>\n",
       "      <th>Intake Condition</th>\n",
       "      <th>Animal Type</th>\n",
       "      <th>Sex upon Intake</th>\n",
       "      <th>Age upon Intake</th>\n",
       "      <th>Breed</th>\n",
       "      <th>Color</th>\n",
       "      <th>Type</th>\n",
       "    </tr>\n",
       "  </thead>\n",
       "  <tbody>\n",
       "    <tr>\n",
       "      <th>38</th>\n",
       "      <td>A794334</td>\n",
       "      <td>Pearl</td>\n",
       "      <td>2019-09-02 11:52:00</td>\n",
       "      <td>2019</td>\n",
       "      <td>Outside Jurisdiction</td>\n",
       "      <td>Owner Surrender</td>\n",
       "      <td>Sick</td>\n",
       "      <td>Dog</td>\n",
       "      <td>Spayed Female</td>\n",
       "      <td>3 years</td>\n",
       "      <td>Boxer Mix</td>\n",
       "      <td>White</td>\n",
       "      <td>Owner SurrenderDog</td>\n",
       "    </tr>\n",
       "    <tr>\n",
       "      <th>134</th>\n",
       "      <td>A818382</td>\n",
       "      <td>Cookie</td>\n",
       "      <td>2020-06-08 08:35:00</td>\n",
       "      <td>2020</td>\n",
       "      <td>4434 Frontier Trail in Austin (TX)</td>\n",
       "      <td>Owner Surrender</td>\n",
       "      <td>Sick</td>\n",
       "      <td>Dog</td>\n",
       "      <td>Intact Male</td>\n",
       "      <td>1 month</td>\n",
       "      <td>Boxer</td>\n",
       "      <td>Brown/Black</td>\n",
       "      <td>Owner SurrenderDog</td>\n",
       "    </tr>\n",
       "    <tr>\n",
       "      <th>188</th>\n",
       "      <td>A797883</td>\n",
       "      <td>NaN</td>\n",
       "      <td>2019-06-19 07:34:00</td>\n",
       "      <td>2019</td>\n",
       "      <td>Parmer Lane in Austin (TX)</td>\n",
       "      <td>Stray</td>\n",
       "      <td>Sick</td>\n",
       "      <td>Dog</td>\n",
       "      <td>Intact Female</td>\n",
       "      <td>9 months</td>\n",
       "      <td>Standard Schnauzer</td>\n",
       "      <td>Gray/White</td>\n",
       "      <td>StrayDog</td>\n",
       "    </tr>\n",
       "    <tr>\n",
       "      <th>199</th>\n",
       "      <td>A687473</td>\n",
       "      <td>NaN</td>\n",
       "      <td>2014-09-05 10:00:00</td>\n",
       "      <td>2014</td>\n",
       "      <td>16403 Summit in Travis (TX)</td>\n",
       "      <td>Stray</td>\n",
       "      <td>Sick</td>\n",
       "      <td>Dog</td>\n",
       "      <td>Intact Male</td>\n",
       "      <td>1 month</td>\n",
       "      <td>Pit Bull Mix</td>\n",
       "      <td>Black</td>\n",
       "      <td>StrayDog</td>\n",
       "    </tr>\n",
       "    <tr>\n",
       "      <th>447</th>\n",
       "      <td>A768957</td>\n",
       "      <td>Sandy</td>\n",
       "      <td>2018-03-28 07:10:00</td>\n",
       "      <td>2018</td>\n",
       "      <td>W St Elmo in Austin (TX)</td>\n",
       "      <td>Public Assist</td>\n",
       "      <td>Sick</td>\n",
       "      <td>Dog</td>\n",
       "      <td>Intact Female</td>\n",
       "      <td>1 year</td>\n",
       "      <td>Pit Bull Mix</td>\n",
       "      <td>Tan/White</td>\n",
       "      <td>Public AssistDog</td>\n",
       "    </tr>\n",
       "    <tr>\n",
       "      <th>...</th>\n",
       "      <td>...</td>\n",
       "      <td>...</td>\n",
       "      <td>...</td>\n",
       "      <td>...</td>\n",
       "      <td>...</td>\n",
       "      <td>...</td>\n",
       "      <td>...</td>\n",
       "      <td>...</td>\n",
       "      <td>...</td>\n",
       "      <td>...</td>\n",
       "      <td>...</td>\n",
       "      <td>...</td>\n",
       "      <td>...</td>\n",
       "    </tr>\n",
       "    <tr>\n",
       "      <th>136479</th>\n",
       "      <td>A851902</td>\n",
       "      <td>NaN</td>\n",
       "      <td>2022-02-21 12:21:00</td>\n",
       "      <td>2022</td>\n",
       "      <td>North Lamar in Austin (TX)</td>\n",
       "      <td>Stray</td>\n",
       "      <td>Sick</td>\n",
       "      <td>Dog</td>\n",
       "      <td>Intact Male</td>\n",
       "      <td>2 months</td>\n",
       "      <td>Border Terrier Mix</td>\n",
       "      <td>Sable</td>\n",
       "      <td>StrayDog</td>\n",
       "    </tr>\n",
       "    <tr>\n",
       "      <th>136501</th>\n",
       "      <td>A847280</td>\n",
       "      <td>Dottie</td>\n",
       "      <td>2022-02-22 12:30:00</td>\n",
       "      <td>2022</td>\n",
       "      <td>Austin (TX)</td>\n",
       "      <td>Owner Surrender</td>\n",
       "      <td>Sick</td>\n",
       "      <td>Dog</td>\n",
       "      <td>Spayed Female</td>\n",
       "      <td>10 months</td>\n",
       "      <td>Pit Bull Mix</td>\n",
       "      <td>Black/White</td>\n",
       "      <td>Owner SurrenderDog</td>\n",
       "    </tr>\n",
       "    <tr>\n",
       "      <th>136526</th>\n",
       "      <td>A851765</td>\n",
       "      <td>*Darla</td>\n",
       "      <td>2022-02-18 12:14:00</td>\n",
       "      <td>2022</td>\n",
       "      <td>14100 Klaus Ln in Travis (TX)</td>\n",
       "      <td>Stray</td>\n",
       "      <td>Sick</td>\n",
       "      <td>Dog</td>\n",
       "      <td>Intact Female</td>\n",
       "      <td>4 years</td>\n",
       "      <td>Treeing Tennesse Brindle Mix</td>\n",
       "      <td>Black/Brown</td>\n",
       "      <td>StrayDog</td>\n",
       "    </tr>\n",
       "    <tr>\n",
       "      <th>136578</th>\n",
       "      <td>A843312</td>\n",
       "      <td>Harry</td>\n",
       "      <td>2022-02-09 12:16:00</td>\n",
       "      <td>2022</td>\n",
       "      <td>8602 N Lamar in Austin (TX)</td>\n",
       "      <td>Public Assist</td>\n",
       "      <td>Sick</td>\n",
       "      <td>Dog</td>\n",
       "      <td>Neutered Male</td>\n",
       "      <td>4 years</td>\n",
       "      <td>Chow Chow/Alaskan Husky</td>\n",
       "      <td>Red</td>\n",
       "      <td>Public AssistDog</td>\n",
       "    </tr>\n",
       "    <tr>\n",
       "      <th>136615</th>\n",
       "      <td>A852121</td>\n",
       "      <td>NaN</td>\n",
       "      <td>2022-02-25 11:01:00</td>\n",
       "      <td>2022</td>\n",
       "      <td>11717 Mcangus Road in Travis (TX)</td>\n",
       "      <td>Stray</td>\n",
       "      <td>Sick</td>\n",
       "      <td>Dog</td>\n",
       "      <td>Intact Female</td>\n",
       "      <td>2 months</td>\n",
       "      <td>Pit Bull</td>\n",
       "      <td>White/Blue</td>\n",
       "      <td>StrayDog</td>\n",
       "    </tr>\n",
       "  </tbody>\n",
       "</table>\n",
       "<p>1960 rows × 13 columns</p>\n",
       "</div>"
      ],
      "text/plain": [
       "       Animal ID    Name             DateTime  Year  \\\n",
       "38       A794334   Pearl  2019-09-02 11:52:00  2019   \n",
       "134      A818382  Cookie  2020-06-08 08:35:00  2020   \n",
       "188      A797883     NaN  2019-06-19 07:34:00  2019   \n",
       "199      A687473     NaN  2014-09-05 10:00:00  2014   \n",
       "447      A768957   Sandy  2018-03-28 07:10:00  2018   \n",
       "...          ...     ...                  ...   ...   \n",
       "136479   A851902     NaN  2022-02-21 12:21:00  2022   \n",
       "136501   A847280  Dottie  2022-02-22 12:30:00  2022   \n",
       "136526   A851765  *Darla  2022-02-18 12:14:00  2022   \n",
       "136578   A843312   Harry  2022-02-09 12:16:00  2022   \n",
       "136615   A852121     NaN  2022-02-25 11:01:00  2022   \n",
       "\n",
       "                            Found Location      Intake Type Intake Condition  \\\n",
       "38                    Outside Jurisdiction  Owner Surrender             Sick   \n",
       "134     4434 Frontier Trail in Austin (TX)  Owner Surrender             Sick   \n",
       "188             Parmer Lane in Austin (TX)            Stray             Sick   \n",
       "199            16403 Summit in Travis (TX)            Stray             Sick   \n",
       "447               W St Elmo in Austin (TX)    Public Assist             Sick   \n",
       "...                                    ...              ...              ...   \n",
       "136479          North Lamar in Austin (TX)            Stray             Sick   \n",
       "136501                         Austin (TX)  Owner Surrender             Sick   \n",
       "136526       14100 Klaus Ln in Travis (TX)            Stray             Sick   \n",
       "136578         8602 N Lamar in Austin (TX)    Public Assist             Sick   \n",
       "136615   11717 Mcangus Road in Travis (TX)            Stray             Sick   \n",
       "\n",
       "       Animal Type Sex upon Intake Age upon Intake  \\\n",
       "38             Dog   Spayed Female         3 years   \n",
       "134            Dog     Intact Male         1 month   \n",
       "188            Dog   Intact Female        9 months   \n",
       "199            Dog     Intact Male         1 month   \n",
       "447            Dog   Intact Female          1 year   \n",
       "...            ...             ...             ...   \n",
       "136479         Dog     Intact Male        2 months   \n",
       "136501         Dog   Spayed Female       10 months   \n",
       "136526         Dog   Intact Female         4 years   \n",
       "136578         Dog   Neutered Male         4 years   \n",
       "136615         Dog   Intact Female        2 months   \n",
       "\n",
       "                               Breed        Color                Type  \n",
       "38                         Boxer Mix        White  Owner SurrenderDog  \n",
       "134                            Boxer  Brown/Black  Owner SurrenderDog  \n",
       "188               Standard Schnauzer   Gray/White            StrayDog  \n",
       "199                     Pit Bull Mix        Black            StrayDog  \n",
       "447                     Pit Bull Mix    Tan/White    Public AssistDog  \n",
       "...                              ...          ...                 ...  \n",
       "136479            Border Terrier Mix        Sable            StrayDog  \n",
       "136501                  Pit Bull Mix  Black/White  Owner SurrenderDog  \n",
       "136526  Treeing Tennesse Brindle Mix  Black/Brown            StrayDog  \n",
       "136578       Chow Chow/Alaskan Husky          Red    Public AssistDog  \n",
       "136615                      Pit Bull   White/Blue            StrayDog  \n",
       "\n",
       "[1960 rows x 13 columns]"
      ]
     },
     "execution_count": 104,
     "metadata": {},
     "output_type": "execute_result"
    }
   ],
   "source": [
    "# Your code here\n",
    "df.loc[(df['Intake Condition'] == 'Sick') & (df['Animal Type'] == 'Dog')]"
   ]
  },
  {
   "cell_type": "markdown",
   "metadata": {},
   "source": [
    "### Exercise 2\n",
    "\n",
    "You need to find animals that might need to be fixed - How would you find all animals that are either Intact Male or Intact Female?"
   ]
  },
  {
   "cell_type": "code",
   "execution_count": 112,
   "metadata": {},
   "outputs": [
    {
     "ename": "SyntaxError",
     "evalue": "unexpected EOF while parsing (<ipython-input-112-9bd7b5249cd1>, line 2)",
     "output_type": "error",
     "traceback": [
      "\u001b[0;36m  File \u001b[0;32m\"<ipython-input-112-9bd7b5249cd1>\"\u001b[0;36m, line \u001b[0;32m2\u001b[0m\n\u001b[0;31m    df.loc[(df['Sex upon Intake'] == 'Intact Male') | (df['Sex upon Intake'] == 'Intact Female')\u001b[0m\n\u001b[0m                                                                                                ^\u001b[0m\n\u001b[0;31mSyntaxError\u001b[0m\u001b[0;31m:\u001b[0m unexpected EOF while parsing\n"
     ]
    }
   ],
   "source": [
    "# Your code here\n",
    "df.loc[(df['Sex upon Intake'] == 'Intact Male') | (df['Sex upon Intake'] == 'Intact Female')"
   ]
  },
  {
   "cell_type": "code",
   "execution_count": null,
   "metadata": {},
   "outputs": [],
   "source": []
  },
  {
   "cell_type": "markdown",
   "metadata": {},
   "source": [
    "### `.iloc`"
   ]
  },
  {
   "cell_type": "code",
   "execution_count": null,
   "metadata": {},
   "outputs": [],
   "source": [
    "# .iloc = index location "
   ]
  },
  {
   "cell_type": "markdown",
   "metadata": {
    "hidden": true
   },
   "source": [
    "`.iloc` is used for integer-location based indexing, aka locate by number. It can take in lists of numbers, python slices, or specific numbers - but sometimes it can be a bit tricky!"
   ]
  },
  {
   "cell_type": "code",
   "execution_count": 88,
   "metadata": {},
   "outputs": [
    {
     "data": {
      "text/html": [
       "<div>\n",
       "<style scoped>\n",
       "    .dataframe tbody tr th:only-of-type {\n",
       "        vertical-align: middle;\n",
       "    }\n",
       "\n",
       "    .dataframe tbody tr th {\n",
       "        vertical-align: top;\n",
       "    }\n",
       "\n",
       "    .dataframe thead th {\n",
       "        text-align: right;\n",
       "    }\n",
       "</style>\n",
       "<table border=\"1\" class=\"dataframe\">\n",
       "  <thead>\n",
       "    <tr style=\"text-align: right;\">\n",
       "      <th></th>\n",
       "      <th>Animal ID</th>\n",
       "      <th>Name</th>\n",
       "      <th>DateTime</th>\n",
       "      <th>Year</th>\n",
       "      <th>Found Location</th>\n",
       "      <th>Intake Type</th>\n",
       "      <th>Intake Condition</th>\n",
       "      <th>Animal Type</th>\n",
       "      <th>Sex upon Intake</th>\n",
       "      <th>Age upon Intake</th>\n",
       "      <th>Breed</th>\n",
       "      <th>Color</th>\n",
       "      <th>Type</th>\n",
       "    </tr>\n",
       "  </thead>\n",
       "  <tbody>\n",
       "    <tr>\n",
       "      <th>0</th>\n",
       "      <td>A786884</td>\n",
       "      <td>*Brock</td>\n",
       "      <td>2019-01-03 16:19:00</td>\n",
       "      <td>2019</td>\n",
       "      <td>2501 Magin Meadow Dr in Austin (TX)</td>\n",
       "      <td>Stray</td>\n",
       "      <td>Normal</td>\n",
       "      <td>Dog</td>\n",
       "      <td>Neutered Male</td>\n",
       "      <td>2 years</td>\n",
       "      <td>Beagle Mix</td>\n",
       "      <td>Tricolor</td>\n",
       "      <td>StrayDog</td>\n",
       "    </tr>\n",
       "    <tr>\n",
       "      <th>1</th>\n",
       "      <td>A706918</td>\n",
       "      <td>Belle</td>\n",
       "      <td>2015-07-05 12:59:00</td>\n",
       "      <td>2015</td>\n",
       "      <td>9409 Bluegrass Dr in Austin (TX)</td>\n",
       "      <td>Stray</td>\n",
       "      <td>Normal</td>\n",
       "      <td>Dog</td>\n",
       "      <td>Spayed Female</td>\n",
       "      <td>8 years</td>\n",
       "      <td>English Springer Spaniel</td>\n",
       "      <td>White/Liver</td>\n",
       "      <td>StrayDog</td>\n",
       "    </tr>\n",
       "    <tr>\n",
       "      <th>2</th>\n",
       "      <td>A724273</td>\n",
       "      <td>Runster</td>\n",
       "      <td>2016-04-14 18:43:00</td>\n",
       "      <td>2016</td>\n",
       "      <td>2818 Palomino Trail in Austin (TX)</td>\n",
       "      <td>Stray</td>\n",
       "      <td>Normal</td>\n",
       "      <td>Dog</td>\n",
       "      <td>Intact Male</td>\n",
       "      <td>11 months</td>\n",
       "      <td>Basenji Mix</td>\n",
       "      <td>Sable/White</td>\n",
       "      <td>StrayDog</td>\n",
       "    </tr>\n",
       "  </tbody>\n",
       "</table>\n",
       "</div>"
      ],
      "text/plain": [
       "  Animal ID     Name             DateTime  Year  \\\n",
       "0   A786884   *Brock  2019-01-03 16:19:00  2019   \n",
       "1   A706918    Belle  2015-07-05 12:59:00  2015   \n",
       "2   A724273  Runster  2016-04-14 18:43:00  2016   \n",
       "\n",
       "                        Found Location Intake Type Intake Condition  \\\n",
       "0  2501 Magin Meadow Dr in Austin (TX)       Stray           Normal   \n",
       "1     9409 Bluegrass Dr in Austin (TX)       Stray           Normal   \n",
       "2   2818 Palomino Trail in Austin (TX)       Stray           Normal   \n",
       "\n",
       "  Animal Type Sex upon Intake Age upon Intake                     Breed  \\\n",
       "0         Dog   Neutered Male         2 years                Beagle Mix   \n",
       "1         Dog   Spayed Female         8 years  English Springer Spaniel   \n",
       "2         Dog     Intact Male       11 months               Basenji Mix   \n",
       "\n",
       "         Color      Type  \n",
       "0     Tricolor  StrayDog  \n",
       "1  White/Liver  StrayDog  \n",
       "2  Sable/White  StrayDog  "
      ]
     },
     "execution_count": 88,
     "metadata": {},
     "output_type": "execute_result"
    }
   ],
   "source": [
    "df.iloc[:3]"
   ]
  },
  {
   "cell_type": "code",
   "execution_count": 89,
   "metadata": {},
   "outputs": [
    {
     "data": {
      "text/html": [
       "<div>\n",
       "<style scoped>\n",
       "    .dataframe tbody tr th:only-of-type {\n",
       "        vertical-align: middle;\n",
       "    }\n",
       "\n",
       "    .dataframe tbody tr th {\n",
       "        vertical-align: top;\n",
       "    }\n",
       "\n",
       "    .dataframe thead th {\n",
       "        text-align: right;\n",
       "    }\n",
       "</style>\n",
       "<table border=\"1\" class=\"dataframe\">\n",
       "  <thead>\n",
       "    <tr style=\"text-align: right;\">\n",
       "      <th></th>\n",
       "      <th>Animal ID</th>\n",
       "      <th>Name</th>\n",
       "      <th>DateTime</th>\n",
       "      <th>Year</th>\n",
       "      <th>Found Location</th>\n",
       "      <th>Intake Type</th>\n",
       "      <th>Intake Condition</th>\n",
       "      <th>Animal Type</th>\n",
       "      <th>Sex upon Intake</th>\n",
       "      <th>Age upon Intake</th>\n",
       "      <th>Breed</th>\n",
       "      <th>Color</th>\n",
       "      <th>Type</th>\n",
       "    </tr>\n",
       "  </thead>\n",
       "  <tbody>\n",
       "    <tr>\n",
       "      <th>136762</th>\n",
       "      <td>A852194</td>\n",
       "      <td>Queen</td>\n",
       "      <td>2022-02-27 13:44:00</td>\n",
       "      <td>2022</td>\n",
       "      <td>8071 N Lamar Blvd in Austin (TX)</td>\n",
       "      <td>Stray</td>\n",
       "      <td>Normal</td>\n",
       "      <td>Dog</td>\n",
       "      <td>Intact Female</td>\n",
       "      <td>4 months</td>\n",
       "      <td>Cane Corso</td>\n",
       "      <td>Blue Cream</td>\n",
       "      <td>StrayDog</td>\n",
       "    </tr>\n",
       "    <tr>\n",
       "      <th>136761</th>\n",
       "      <td>A852127</td>\n",
       "      <td>Sonic</td>\n",
       "      <td>2022-02-25 13:05:00</td>\n",
       "      <td>2022</td>\n",
       "      <td>7601 Daffan Ln Unit 424 in Austin (TX)</td>\n",
       "      <td>Stray</td>\n",
       "      <td>Normal</td>\n",
       "      <td>Dog</td>\n",
       "      <td>Intact Male</td>\n",
       "      <td>2 years</td>\n",
       "      <td>Pit Bull Mix</td>\n",
       "      <td>White/Yellow</td>\n",
       "      <td>StrayDog</td>\n",
       "    </tr>\n",
       "    <tr>\n",
       "      <th>136760</th>\n",
       "      <td>A851977</td>\n",
       "      <td>*Jack</td>\n",
       "      <td>2022-02-22 13:34:00</td>\n",
       "      <td>2022</td>\n",
       "      <td>1200 Montopolis Drive in Austin (TX)</td>\n",
       "      <td>Stray</td>\n",
       "      <td>Normal</td>\n",
       "      <td>Dog</td>\n",
       "      <td>Intact Male</td>\n",
       "      <td>2 years</td>\n",
       "      <td>Chihuahua Shorthair/Dachshund</td>\n",
       "      <td>Black/White</td>\n",
       "      <td>StrayDog</td>\n",
       "    </tr>\n",
       "    <tr>\n",
       "      <th>136759</th>\n",
       "      <td>A852221</td>\n",
       "      <td>Coco</td>\n",
       "      <td>2022-02-28 11:05:00</td>\n",
       "      <td>2022</td>\n",
       "      <td>45 And 183 in Travis (TX)</td>\n",
       "      <td>Stray</td>\n",
       "      <td>Normal</td>\n",
       "      <td>Dog</td>\n",
       "      <td>Intact Male</td>\n",
       "      <td>3 years</td>\n",
       "      <td>Great Pyrenees</td>\n",
       "      <td>White</td>\n",
       "      <td>StrayDog</td>\n",
       "    </tr>\n",
       "    <tr>\n",
       "      <th>136758</th>\n",
       "      <td>A852238</td>\n",
       "      <td>A852238</td>\n",
       "      <td>2022-02-28 14:02:00</td>\n",
       "      <td>2022</td>\n",
       "      <td>Cameron And Crosspark Drive in Austin (TX)</td>\n",
       "      <td>Stray</td>\n",
       "      <td>Normal</td>\n",
       "      <td>Dog</td>\n",
       "      <td>Intact Female</td>\n",
       "      <td>6 months</td>\n",
       "      <td>Labrador Retriever Mix</td>\n",
       "      <td>Black/White</td>\n",
       "      <td>StrayDog</td>\n",
       "    </tr>\n",
       "    <tr>\n",
       "      <th>...</th>\n",
       "      <td>...</td>\n",
       "      <td>...</td>\n",
       "      <td>...</td>\n",
       "      <td>...</td>\n",
       "      <td>...</td>\n",
       "      <td>...</td>\n",
       "      <td>...</td>\n",
       "      <td>...</td>\n",
       "      <td>...</td>\n",
       "      <td>...</td>\n",
       "      <td>...</td>\n",
       "      <td>...</td>\n",
       "      <td>...</td>\n",
       "    </tr>\n",
       "    <tr>\n",
       "      <th>4</th>\n",
       "      <td>A682524</td>\n",
       "      <td>Rio</td>\n",
       "      <td>2014-06-29 10:38:00</td>\n",
       "      <td>2014</td>\n",
       "      <td>800 Grove Blvd in Austin (TX)</td>\n",
       "      <td>Stray</td>\n",
       "      <td>Normal</td>\n",
       "      <td>Dog</td>\n",
       "      <td>Neutered Male</td>\n",
       "      <td>4 years</td>\n",
       "      <td>Doberman Pinsch/Australian Cattle Dog</td>\n",
       "      <td>Tan/Gray</td>\n",
       "      <td>StrayDog</td>\n",
       "    </tr>\n",
       "    <tr>\n",
       "      <th>3</th>\n",
       "      <td>A665644</td>\n",
       "      <td>NaN</td>\n",
       "      <td>2013-10-21 07:59:00</td>\n",
       "      <td>2013</td>\n",
       "      <td>Austin (TX)</td>\n",
       "      <td>Stray</td>\n",
       "      <td>Sick</td>\n",
       "      <td>Cat</td>\n",
       "      <td>Intact Female</td>\n",
       "      <td>4 weeks</td>\n",
       "      <td>Domestic Shorthair Mix</td>\n",
       "      <td>Calico</td>\n",
       "      <td>StrayCat</td>\n",
       "    </tr>\n",
       "    <tr>\n",
       "      <th>2</th>\n",
       "      <td>A724273</td>\n",
       "      <td>Runster</td>\n",
       "      <td>2016-04-14 18:43:00</td>\n",
       "      <td>2016</td>\n",
       "      <td>2818 Palomino Trail in Austin (TX)</td>\n",
       "      <td>Stray</td>\n",
       "      <td>Normal</td>\n",
       "      <td>Dog</td>\n",
       "      <td>Intact Male</td>\n",
       "      <td>11 months</td>\n",
       "      <td>Basenji Mix</td>\n",
       "      <td>Sable/White</td>\n",
       "      <td>StrayDog</td>\n",
       "    </tr>\n",
       "    <tr>\n",
       "      <th>1</th>\n",
       "      <td>A706918</td>\n",
       "      <td>Belle</td>\n",
       "      <td>2015-07-05 12:59:00</td>\n",
       "      <td>2015</td>\n",
       "      <td>9409 Bluegrass Dr in Austin (TX)</td>\n",
       "      <td>Stray</td>\n",
       "      <td>Normal</td>\n",
       "      <td>Dog</td>\n",
       "      <td>Spayed Female</td>\n",
       "      <td>8 years</td>\n",
       "      <td>English Springer Spaniel</td>\n",
       "      <td>White/Liver</td>\n",
       "      <td>StrayDog</td>\n",
       "    </tr>\n",
       "    <tr>\n",
       "      <th>0</th>\n",
       "      <td>A786884</td>\n",
       "      <td>*Brock</td>\n",
       "      <td>2019-01-03 16:19:00</td>\n",
       "      <td>2019</td>\n",
       "      <td>2501 Magin Meadow Dr in Austin (TX)</td>\n",
       "      <td>Stray</td>\n",
       "      <td>Normal</td>\n",
       "      <td>Dog</td>\n",
       "      <td>Neutered Male</td>\n",
       "      <td>2 years</td>\n",
       "      <td>Beagle Mix</td>\n",
       "      <td>Tricolor</td>\n",
       "      <td>StrayDog</td>\n",
       "    </tr>\n",
       "  </tbody>\n",
       "</table>\n",
       "<p>136763 rows × 13 columns</p>\n",
       "</div>"
      ],
      "text/plain": [
       "       Animal ID     Name             DateTime  Year  \\\n",
       "136762   A852194    Queen  2022-02-27 13:44:00  2022   \n",
       "136761   A852127    Sonic  2022-02-25 13:05:00  2022   \n",
       "136760   A851977    *Jack  2022-02-22 13:34:00  2022   \n",
       "136759   A852221     Coco  2022-02-28 11:05:00  2022   \n",
       "136758   A852238  A852238  2022-02-28 14:02:00  2022   \n",
       "...          ...      ...                  ...   ...   \n",
       "4        A682524      Rio  2014-06-29 10:38:00  2014   \n",
       "3        A665644      NaN  2013-10-21 07:59:00  2013   \n",
       "2        A724273  Runster  2016-04-14 18:43:00  2016   \n",
       "1        A706918    Belle  2015-07-05 12:59:00  2015   \n",
       "0        A786884   *Brock  2019-01-03 16:19:00  2019   \n",
       "\n",
       "                                    Found Location Intake Type  \\\n",
       "136762            8071 N Lamar Blvd in Austin (TX)       Stray   \n",
       "136761      7601 Daffan Ln Unit 424 in Austin (TX)       Stray   \n",
       "136760        1200 Montopolis Drive in Austin (TX)       Stray   \n",
       "136759                   45 And 183 in Travis (TX)       Stray   \n",
       "136758  Cameron And Crosspark Drive in Austin (TX)       Stray   \n",
       "...                                            ...         ...   \n",
       "4                    800 Grove Blvd in Austin (TX)       Stray   \n",
       "3                                      Austin (TX)       Stray   \n",
       "2               2818 Palomino Trail in Austin (TX)       Stray   \n",
       "1                 9409 Bluegrass Dr in Austin (TX)       Stray   \n",
       "0              2501 Magin Meadow Dr in Austin (TX)       Stray   \n",
       "\n",
       "       Intake Condition Animal Type Sex upon Intake Age upon Intake  \\\n",
       "136762           Normal         Dog   Intact Female        4 months   \n",
       "136761           Normal         Dog     Intact Male         2 years   \n",
       "136760           Normal         Dog     Intact Male         2 years   \n",
       "136759           Normal         Dog     Intact Male         3 years   \n",
       "136758           Normal         Dog   Intact Female        6 months   \n",
       "...                 ...         ...             ...             ...   \n",
       "4                Normal         Dog   Neutered Male         4 years   \n",
       "3                  Sick         Cat   Intact Female         4 weeks   \n",
       "2                Normal         Dog     Intact Male       11 months   \n",
       "1                Normal         Dog   Spayed Female         8 years   \n",
       "0                Normal         Dog   Neutered Male         2 years   \n",
       "\n",
       "                                        Breed         Color      Type  \n",
       "136762                             Cane Corso    Blue Cream  StrayDog  \n",
       "136761                           Pit Bull Mix  White/Yellow  StrayDog  \n",
       "136760          Chihuahua Shorthair/Dachshund   Black/White  StrayDog  \n",
       "136759                         Great Pyrenees         White  StrayDog  \n",
       "136758                 Labrador Retriever Mix   Black/White  StrayDog  \n",
       "...                                       ...           ...       ...  \n",
       "4       Doberman Pinsch/Australian Cattle Dog      Tan/Gray  StrayDog  \n",
       "3                      Domestic Shorthair Mix        Calico  StrayCat  \n",
       "2                                 Basenji Mix   Sable/White  StrayDog  \n",
       "1                    English Springer Spaniel   White/Liver  StrayDog  \n",
       "0                                  Beagle Mix      Tricolor  StrayDog  \n",
       "\n",
       "[136763 rows x 13 columns]"
      ]
     },
     "execution_count": 89,
     "metadata": {},
     "output_type": "execute_result"
    }
   ],
   "source": [
    "df.iloc[::-1]"
   ]
  },
  {
   "cell_type": "code",
   "execution_count": 90,
   "metadata": {
    "hidden": true
   },
   "outputs": [
    {
     "data": {
      "text/html": [
       "<div>\n",
       "<style scoped>\n",
       "    .dataframe tbody tr th:only-of-type {\n",
       "        vertical-align: middle;\n",
       "    }\n",
       "\n",
       "    .dataframe tbody tr th {\n",
       "        vertical-align: top;\n",
       "    }\n",
       "\n",
       "    .dataframe thead th {\n",
       "        text-align: right;\n",
       "    }\n",
       "</style>\n",
       "<table border=\"1\" class=\"dataframe\">\n",
       "  <thead>\n",
       "    <tr style=\"text-align: right;\">\n",
       "      <th></th>\n",
       "      <th>Animal ID</th>\n",
       "      <th>Name</th>\n",
       "      <th>DateTime</th>\n",
       "      <th>Year</th>\n",
       "      <th>Found Location</th>\n",
       "      <th>Intake Type</th>\n",
       "      <th>Intake Condition</th>\n",
       "      <th>Animal Type</th>\n",
       "      <th>Sex upon Intake</th>\n",
       "      <th>Age upon Intake</th>\n",
       "      <th>Breed</th>\n",
       "      <th>Color</th>\n",
       "    </tr>\n",
       "  </thead>\n",
       "  <tbody>\n",
       "    <tr>\n",
       "      <th>0</th>\n",
       "      <td>A786884</td>\n",
       "      <td>*Brock</td>\n",
       "      <td>2019-01-03 16:19:00</td>\n",
       "      <td>2019</td>\n",
       "      <td>2501 Magin Meadow Dr in Austin (TX)</td>\n",
       "      <td>Stray</td>\n",
       "      <td>Normal</td>\n",
       "      <td>Dog</td>\n",
       "      <td>Neutered Male</td>\n",
       "      <td>2 years</td>\n",
       "      <td>Beagle Mix</td>\n",
       "      <td>Tricolor</td>\n",
       "    </tr>\n",
       "    <tr>\n",
       "      <th>1</th>\n",
       "      <td>A706918</td>\n",
       "      <td>Belle</td>\n",
       "      <td>2015-07-05 12:59:00</td>\n",
       "      <td>2015</td>\n",
       "      <td>9409 Bluegrass Dr in Austin (TX)</td>\n",
       "      <td>Stray</td>\n",
       "      <td>Normal</td>\n",
       "      <td>Dog</td>\n",
       "      <td>Spayed Female</td>\n",
       "      <td>8 years</td>\n",
       "      <td>English Springer Spaniel</td>\n",
       "      <td>White/Liver</td>\n",
       "    </tr>\n",
       "    <tr>\n",
       "      <th>2</th>\n",
       "      <td>A724273</td>\n",
       "      <td>Runster</td>\n",
       "      <td>2016-04-14 18:43:00</td>\n",
       "      <td>2016</td>\n",
       "      <td>2818 Palomino Trail in Austin (TX)</td>\n",
       "      <td>Stray</td>\n",
       "      <td>Normal</td>\n",
       "      <td>Dog</td>\n",
       "      <td>Intact Male</td>\n",
       "      <td>11 months</td>\n",
       "      <td>Basenji Mix</td>\n",
       "      <td>Sable/White</td>\n",
       "    </tr>\n",
       "  </tbody>\n",
       "</table>\n",
       "</div>"
      ],
      "text/plain": [
       "  Animal ID     Name             DateTime  Year  \\\n",
       "0   A786884   *Brock  2019-01-03 16:19:00  2019   \n",
       "1   A706918    Belle  2015-07-05 12:59:00  2015   \n",
       "2   A724273  Runster  2016-04-14 18:43:00  2016   \n",
       "\n",
       "                        Found Location Intake Type Intake Condition  \\\n",
       "0  2501 Magin Meadow Dr in Austin (TX)       Stray           Normal   \n",
       "1     9409 Bluegrass Dr in Austin (TX)       Stray           Normal   \n",
       "2   2818 Palomino Trail in Austin (TX)       Stray           Normal   \n",
       "\n",
       "  Animal Type Sex upon Intake Age upon Intake                     Breed  \\\n",
       "0         Dog   Neutered Male         2 years                Beagle Mix   \n",
       "1         Dog   Spayed Female         8 years  English Springer Spaniel   \n",
       "2         Dog     Intact Male       11 months               Basenji Mix   \n",
       "\n",
       "         Color  \n",
       "0     Tricolor  \n",
       "1  White/Liver  \n",
       "2  Sable/White  "
      ]
     },
     "execution_count": 90,
     "metadata": {},
     "output_type": "execute_result"
    }
   ],
   "source": [
    "# Find the first 3 rows\n",
    "# .loc \n",
    "# .iloc = index slicing\n",
    "df_augmented.iloc[:3]"
   ]
  },
  {
   "cell_type": "code",
   "execution_count": 91,
   "metadata": {
    "hidden": true
   },
   "outputs": [
    {
     "data": {
      "text/html": [
       "<div>\n",
       "<style scoped>\n",
       "    .dataframe tbody tr th:only-of-type {\n",
       "        vertical-align: middle;\n",
       "    }\n",
       "\n",
       "    .dataframe tbody tr th {\n",
       "        vertical-align: top;\n",
       "    }\n",
       "\n",
       "    .dataframe thead th {\n",
       "        text-align: right;\n",
       "    }\n",
       "</style>\n",
       "<table border=\"1\" class=\"dataframe\">\n",
       "  <thead>\n",
       "    <tr style=\"text-align: right;\">\n",
       "      <th></th>\n",
       "      <th>Animal ID</th>\n",
       "      <th>Name</th>\n",
       "      <th>DateTime</th>\n",
       "      <th>Year</th>\n",
       "      <th>Found Location</th>\n",
       "      <th>Intake Type</th>\n",
       "      <th>Intake Condition</th>\n",
       "      <th>Animal Type</th>\n",
       "      <th>Sex upon Intake</th>\n",
       "      <th>Age upon Intake</th>\n",
       "      <th>Breed</th>\n",
       "      <th>Color</th>\n",
       "    </tr>\n",
       "  </thead>\n",
       "  <tbody>\n",
       "    <tr>\n",
       "      <th>0</th>\n",
       "      <td>A786884</td>\n",
       "      <td>*Brock</td>\n",
       "      <td>2019-01-03 16:19:00</td>\n",
       "      <td>2019</td>\n",
       "      <td>2501 Magin Meadow Dr in Austin (TX)</td>\n",
       "      <td>Stray</td>\n",
       "      <td>Normal</td>\n",
       "      <td>Dog</td>\n",
       "      <td>Neutered Male</td>\n",
       "      <td>2 years</td>\n",
       "      <td>Beagle Mix</td>\n",
       "      <td>Tricolor</td>\n",
       "    </tr>\n",
       "    <tr>\n",
       "      <th>1</th>\n",
       "      <td>A706918</td>\n",
       "      <td>Belle</td>\n",
       "      <td>2015-07-05 12:59:00</td>\n",
       "      <td>2015</td>\n",
       "      <td>9409 Bluegrass Dr in Austin (TX)</td>\n",
       "      <td>Stray</td>\n",
       "      <td>Normal</td>\n",
       "      <td>Dog</td>\n",
       "      <td>Spayed Female</td>\n",
       "      <td>8 years</td>\n",
       "      <td>English Springer Spaniel</td>\n",
       "      <td>White/Liver</td>\n",
       "    </tr>\n",
       "    <tr>\n",
       "      <th>2</th>\n",
       "      <td>A724273</td>\n",
       "      <td>Runster</td>\n",
       "      <td>2016-04-14 18:43:00</td>\n",
       "      <td>2016</td>\n",
       "      <td>2818 Palomino Trail in Austin (TX)</td>\n",
       "      <td>Stray</td>\n",
       "      <td>Normal</td>\n",
       "      <td>Dog</td>\n",
       "      <td>Intact Male</td>\n",
       "      <td>11 months</td>\n",
       "      <td>Basenji Mix</td>\n",
       "      <td>Sable/White</td>\n",
       "    </tr>\n",
       "  </tbody>\n",
       "</table>\n",
       "</div>"
      ],
      "text/plain": [
       "  Animal ID     Name             DateTime  Year  \\\n",
       "0   A786884   *Brock  2019-01-03 16:19:00  2019   \n",
       "1   A706918    Belle  2015-07-05 12:59:00  2015   \n",
       "2   A724273  Runster  2016-04-14 18:43:00  2016   \n",
       "\n",
       "                        Found Location Intake Type Intake Condition  \\\n",
       "0  2501 Magin Meadow Dr in Austin (TX)       Stray           Normal   \n",
       "1     9409 Bluegrass Dr in Austin (TX)       Stray           Normal   \n",
       "2   2818 Palomino Trail in Austin (TX)       Stray           Normal   \n",
       "\n",
       "  Animal Type Sex upon Intake Age upon Intake                     Breed  \\\n",
       "0         Dog   Neutered Male         2 years                Beagle Mix   \n",
       "1         Dog   Spayed Female         8 years  English Springer Spaniel   \n",
       "2         Dog     Intact Male       11 months               Basenji Mix   \n",
       "\n",
       "         Color  \n",
       "0     Tricolor  \n",
       "1  White/Liver  \n",
       "2  Sable/White  "
      ]
     },
     "execution_count": 91,
     "metadata": {},
     "output_type": "execute_result"
    }
   ],
   "source": [
    "# Same as using head(3)\n",
    "df_augmented.head(3)"
   ]
  },
  {
   "cell_type": "code",
   "execution_count": 92,
   "metadata": {},
   "outputs": [
    {
     "data": {
      "text/plain": [
       "Animal ID                                       A786884\n",
       "Name                                             *Brock\n",
       "DateTime                            2019-01-03 16:19:00\n",
       "Year                                               2019\n",
       "Found Location      2501 Magin Meadow Dr in Austin (TX)\n",
       "Intake Type                                       Stray\n",
       "Intake Condition                                 Normal\n",
       "Animal Type                                         Dog\n",
       "Sex upon Intake                           Neutered Male\n",
       "Age upon Intake                                 2 years\n",
       "Breed                                        Beagle Mix\n",
       "Color                                          Tricolor\n",
       "Name: 0, dtype: object"
      ]
     },
     "execution_count": 92,
     "metadata": {},
     "output_type": "execute_result"
    }
   ],
   "source": [
    "# Can look exactly where the 0 index is\n",
    "df_augmented.iloc[0]"
   ]
  },
  {
   "cell_type": "code",
   "execution_count": 93,
   "metadata": {},
   "outputs": [
    {
     "data": {
      "text/html": [
       "<div>\n",
       "<style scoped>\n",
       "    .dataframe tbody tr th:only-of-type {\n",
       "        vertical-align: middle;\n",
       "    }\n",
       "\n",
       "    .dataframe tbody tr th {\n",
       "        vertical-align: top;\n",
       "    }\n",
       "\n",
       "    .dataframe thead th {\n",
       "        text-align: right;\n",
       "    }\n",
       "</style>\n",
       "<table border=\"1\" class=\"dataframe\">\n",
       "  <thead>\n",
       "    <tr style=\"text-align: right;\">\n",
       "      <th></th>\n",
       "      <th>Animal ID</th>\n",
       "      <th>Name</th>\n",
       "      <th>DateTime</th>\n",
       "      <th>Year</th>\n",
       "      <th>Found Location</th>\n",
       "      <th>Intake Type</th>\n",
       "      <th>Intake Condition</th>\n",
       "      <th>Animal Type</th>\n",
       "      <th>Sex upon Intake</th>\n",
       "      <th>Age upon Intake</th>\n",
       "      <th>Breed</th>\n",
       "      <th>Color</th>\n",
       "      <th>Type</th>\n",
       "    </tr>\n",
       "  </thead>\n",
       "  <tbody>\n",
       "    <tr>\n",
       "      <th>7</th>\n",
       "      <td>A844350</td>\n",
       "      <td>*Ella</td>\n",
       "      <td>2021-10-15 11:40:00</td>\n",
       "      <td>2021</td>\n",
       "      <td>2112 East William Cannon Drive in Austin (TX)</td>\n",
       "      <td>Stray</td>\n",
       "      <td>Normal</td>\n",
       "      <td>Cat</td>\n",
       "      <td>Intact Female</td>\n",
       "      <td>6 months</td>\n",
       "      <td>Domestic Shorthair</td>\n",
       "      <td>Brown Tabby</td>\n",
       "      <td>StrayCat</td>\n",
       "    </tr>\n",
       "    <tr>\n",
       "      <th>9</th>\n",
       "      <td>A818975</td>\n",
       "      <td>NaN</td>\n",
       "      <td>2020-06-18 14:53:00</td>\n",
       "      <td>2020</td>\n",
       "      <td>Braker Lane And Metric in Travis (TX)</td>\n",
       "      <td>Stray</td>\n",
       "      <td>Normal</td>\n",
       "      <td>Cat</td>\n",
       "      <td>Intact Male</td>\n",
       "      <td>4 weeks</td>\n",
       "      <td>Domestic Shorthair</td>\n",
       "      <td>Cream Tabby</td>\n",
       "      <td>StrayCat</td>\n",
       "    </tr>\n",
       "    <tr>\n",
       "      <th>22</th>\n",
       "      <td>A831808</td>\n",
       "      <td>NaN</td>\n",
       "      <td>2021-04-02 11:16:00</td>\n",
       "      <td>2021</td>\n",
       "      <td>Austin (TX)</td>\n",
       "      <td>Owner Surrender</td>\n",
       "      <td>Normal</td>\n",
       "      <td>Cat</td>\n",
       "      <td>Intact Female</td>\n",
       "      <td>1 month</td>\n",
       "      <td>Domestic Shorthair Mix</td>\n",
       "      <td>Tortie</td>\n",
       "      <td>Owner SurrenderCat</td>\n",
       "    </tr>\n",
       "    <tr>\n",
       "      <th>24</th>\n",
       "      <td>A836850</td>\n",
       "      <td>NaN</td>\n",
       "      <td>2021-06-15 12:37:00</td>\n",
       "      <td>2021</td>\n",
       "      <td>6111 Softwood Drive in Austin (TX)</td>\n",
       "      <td>Public Assist</td>\n",
       "      <td>Pregnant</td>\n",
       "      <td>Dog</td>\n",
       "      <td>Intact Female</td>\n",
       "      <td>4 years</td>\n",
       "      <td>Pit Bull</td>\n",
       "      <td>Blue/White</td>\n",
       "      <td>Public AssistDog</td>\n",
       "    </tr>\n",
       "    <tr>\n",
       "      <th>26</th>\n",
       "      <td>A815227</td>\n",
       "      <td>Baby</td>\n",
       "      <td>2020-03-12 13:52:00</td>\n",
       "      <td>2020</td>\n",
       "      <td>12305 Zeller Lane in Austin (TX)</td>\n",
       "      <td>Stray</td>\n",
       "      <td>Normal</td>\n",
       "      <td>Dog</td>\n",
       "      <td>Intact Female</td>\n",
       "      <td>1 month</td>\n",
       "      <td>Norfolk Terrier</td>\n",
       "      <td>Brown/Cream</td>\n",
       "      <td>StrayDog</td>\n",
       "    </tr>\n",
       "  </tbody>\n",
       "</table>\n",
       "</div>"
      ],
      "text/plain": [
       "   Animal ID   Name             DateTime  Year  \\\n",
       "7    A844350  *Ella  2021-10-15 11:40:00  2021   \n",
       "9    A818975    NaN  2020-06-18 14:53:00  2020   \n",
       "22   A831808    NaN  2021-04-02 11:16:00  2021   \n",
       "24   A836850    NaN  2021-06-15 12:37:00  2021   \n",
       "26   A815227   Baby  2020-03-12 13:52:00  2020   \n",
       "\n",
       "                                   Found Location      Intake Type  \\\n",
       "7   2112 East William Cannon Drive in Austin (TX)            Stray   \n",
       "9           Braker Lane And Metric in Travis (TX)            Stray   \n",
       "22                                    Austin (TX)  Owner Surrender   \n",
       "24             6111 Softwood Drive in Austin (TX)    Public Assist   \n",
       "26               12305 Zeller Lane in Austin (TX)            Stray   \n",
       "\n",
       "   Intake Condition Animal Type Sex upon Intake Age upon Intake  \\\n",
       "7            Normal         Cat   Intact Female        6 months   \n",
       "9            Normal         Cat     Intact Male         4 weeks   \n",
       "22           Normal         Cat   Intact Female         1 month   \n",
       "24         Pregnant         Dog   Intact Female         4 years   \n",
       "26           Normal         Dog   Intact Female         1 month   \n",
       "\n",
       "                     Breed        Color                Type  \n",
       "7       Domestic Shorthair  Brown Tabby            StrayCat  \n",
       "9       Domestic Shorthair  Cream Tabby            StrayCat  \n",
       "22  Domestic Shorthair Mix       Tortie  Owner SurrenderCat  \n",
       "24                Pit Bull   Blue/White    Public AssistDog  \n",
       "26         Norfolk Terrier  Brown/Cream            StrayDog  "
      ]
     },
     "execution_count": 93,
     "metadata": {},
     "output_type": "execute_result"
    }
   ],
   "source": [
    "# But what about our subset dataframe above? It doesn't have an index 0\n",
    "df_2020.head()"
   ]
  },
  {
   "cell_type": "code",
   "execution_count": 94,
   "metadata": {},
   "outputs": [
    {
     "data": {
      "text/plain": [
       "Animal ID                                                 A844350\n",
       "Name                                                        *Ella\n",
       "DateTime                                      2021-10-15 11:40:00\n",
       "Year                                                         2021\n",
       "Found Location      2112 East William Cannon Drive in Austin (TX)\n",
       "Intake Type                                                 Stray\n",
       "Intake Condition                                           Normal\n",
       "Animal Type                                                   Cat\n",
       "Sex upon Intake                                     Intact Female\n",
       "Age upon Intake                                          6 months\n",
       "Breed                                          Domestic Shorthair\n",
       "Color                                                 Brown Tabby\n",
       "Type                                                     StrayCat\n",
       "Name: 7, dtype: object"
      ]
     },
     "execution_count": 94,
     "metadata": {},
     "output_type": "execute_result"
    }
   ],
   "source": [
    "# Try it...\n",
    "df_2020.iloc[0]"
   ]
  },
  {
   "cell_type": "markdown",
   "metadata": {
    "heading_collapsed": true
   },
   "source": [
    "## Series Methods"
   ]
  },
  {
   "cell_type": "markdown",
   "metadata": {
    "heading_collapsed": true,
    "hidden": true
   },
   "source": [
    "### `.value_counts()`"
   ]
  },
  {
   "cell_type": "markdown",
   "metadata": {
    "hidden": true
   },
   "source": [
    "How many different values does the Animal Type column have? What about Breed?"
   ]
  },
  {
   "cell_type": "code",
   "execution_count": 95,
   "metadata": {
    "scrolled": true
   },
   "outputs": [
    {
     "data": {
      "text/plain": [
       "Dog          77098\n",
       "Cat          51752\n",
       "Other         7253\n",
       "Bird           636\n",
       "Livestock       24\n",
       "Name: Animal Type, dtype: int64"
      ]
     },
     "execution_count": 95,
     "metadata": {},
     "output_type": "execute_result"
    }
   ],
   "source": [
    "# Check the value counts for Animal Type\n",
    "# Does not count nulls\n",
    "df['Animal Type'].value_counts()"
   ]
  },
  {
   "cell_type": "code",
   "execution_count": 96,
   "metadata": {
    "hidden": true,
    "scrolled": true
   },
   "outputs": [
    {
     "data": {
      "text/plain": [
       "Domestic Shorthair Mix               32034\n",
       "Domestic Shorthair                   10440\n",
       "Pit Bull Mix                          8913\n",
       "Labrador Retriever Mix                7370\n",
       "Chihuahua Shorthair Mix               6486\n",
       "                                     ...  \n",
       "Bulldog/Australian Cattle Dog            1\n",
       "Miniature Schnauzer/Border Collie        1\n",
       "Cavalier Span/Toy Poodle                 1\n",
       "Otter                                    1\n",
       "Labrador Retriever/Harrier               1\n",
       "Name: Breed, Length: 2734, dtype: int64"
      ]
     },
     "execution_count": 96,
     "metadata": {},
     "output_type": "execute_result"
    }
   ],
   "source": [
    "# Now check Breed\n",
    "df['Breed'].value_counts()"
   ]
  },
  {
   "cell_type": "markdown",
   "metadata": {},
   "source": [
    "Sometimes, this is more useful than others... but, can check the percentage of the total, which might be more useful!"
   ]
  },
  {
   "cell_type": "code",
   "execution_count": 97,
   "metadata": {},
   "outputs": [
    {
     "data": {
      "text/plain": [
       "Domestic Shorthair Mix               0.234230\n",
       "Domestic Shorthair                   0.076336\n",
       "Pit Bull Mix                         0.065171\n",
       "Labrador Retriever Mix               0.053889\n",
       "Chihuahua Shorthair Mix              0.047425\n",
       "                                       ...   \n",
       "Bulldog/Australian Cattle Dog        0.000007\n",
       "Miniature Schnauzer/Border Collie    0.000007\n",
       "Cavalier Span/Toy Poodle             0.000007\n",
       "Otter                                0.000007\n",
       "Labrador Retriever/Harrier           0.000007\n",
       "Name: Breed, Length: 2734, dtype: float64"
      ]
     },
     "execution_count": 97,
     "metadata": {},
     "output_type": "execute_result"
    }
   ],
   "source": [
    "# It is a series method \n",
    "# Use the normalize argument to change how the count is displayed\n",
    "# Gives us the percentages\n",
    "df['Breed'].value_counts(normalize=True)"
   ]
  },
  {
   "cell_type": "markdown",
   "metadata": {
    "heading_collapsed": true,
    "hidden": true
   },
   "source": [
    "### `.sort_values()`\n",
    "\n",
    "As you can imagine, this works differently whether you're using it on a numeric or non-numeric column"
   ]
  },
  {
   "cell_type": "code",
   "execution_count": 98,
   "metadata": {
    "hidden": true
   },
   "outputs": [
    {
     "data": {
      "text/plain": [
       "13061     2013\n",
       "31112     2013\n",
       "74446     2013\n",
       "82804     2013\n",
       "118202    2013\n",
       "          ... \n",
       "135555    2022\n",
       "135554    2022\n",
       "135553    2022\n",
       "135566    2022\n",
       "136762    2022\n",
       "Name: Year, Length: 136763, dtype: int64"
      ]
     },
     "execution_count": 98,
     "metadata": {},
     "output_type": "execute_result"
    }
   ],
   "source": [
    "# Let's sort the year column\n",
    "df['Year'].sort_values()"
   ]
  },
  {
   "cell_type": "code",
   "execution_count": 99,
   "metadata": {},
   "outputs": [
    {
     "data": {
      "text/plain": [
       "57316      Bird\n",
       "79944      Bird\n",
       "10022      Bird\n",
       "130286     Bird\n",
       "105888     Bird\n",
       "          ...  \n",
       "65050     Other\n",
       "123407    Other\n",
       "94470     Other\n",
       "94463     Other\n",
       "41614     Other\n",
       "Name: Animal Type, Length: 136763, dtype: object"
      ]
     },
     "execution_count": 99,
     "metadata": {},
     "output_type": "execute_result"
    }
   ],
   "source": [
    "# Now, sort the Animal Type col\n",
    "df['Animal Type'].sort_values()"
   ]
  },
  {
   "cell_type": "code",
   "execution_count": 102,
   "metadata": {},
   "outputs": [
    {
     "data": {
      "text/html": [
       "<div>\n",
       "<style scoped>\n",
       "    .dataframe tbody tr th:only-of-type {\n",
       "        vertical-align: middle;\n",
       "    }\n",
       "\n",
       "    .dataframe tbody tr th {\n",
       "        vertical-align: top;\n",
       "    }\n",
       "\n",
       "    .dataframe thead th {\n",
       "        text-align: right;\n",
       "    }\n",
       "</style>\n",
       "<table border=\"1\" class=\"dataframe\">\n",
       "  <thead>\n",
       "    <tr style=\"text-align: right;\">\n",
       "      <th></th>\n",
       "      <th>Animal ID</th>\n",
       "      <th>Name</th>\n",
       "      <th>DateTime</th>\n",
       "      <th>Year</th>\n",
       "      <th>Found Location</th>\n",
       "      <th>Intake Type</th>\n",
       "      <th>Intake Condition</th>\n",
       "      <th>Animal Type</th>\n",
       "      <th>Sex upon Intake</th>\n",
       "      <th>Age upon Intake</th>\n",
       "      <th>Breed</th>\n",
       "      <th>Color</th>\n",
       "      <th>Type</th>\n",
       "    </tr>\n",
       "  </thead>\n",
       "  <tbody>\n",
       "    <tr>\n",
       "      <th>13061</th>\n",
       "      <td>A667397</td>\n",
       "      <td>*Gaby</td>\n",
       "      <td>2013-11-17 13:51:00</td>\n",
       "      <td>2013</td>\n",
       "      <td>710 East Ben White Blvd in Austin (TX)</td>\n",
       "      <td>Stray</td>\n",
       "      <td>Normal</td>\n",
       "      <td>Dog</td>\n",
       "      <td>Intact Female</td>\n",
       "      <td>1 year</td>\n",
       "      <td>Chihuahua Shorthair</td>\n",
       "      <td>Tricolor</td>\n",
       "      <td>StrayDog</td>\n",
       "    </tr>\n",
       "    <tr>\n",
       "      <th>31112</th>\n",
       "      <td>A667458</td>\n",
       "      <td>Chino</td>\n",
       "      <td>2013-11-18 13:19:00</td>\n",
       "      <td>2013</td>\n",
       "      <td>8401 Research Blvd. in Austin (TX)</td>\n",
       "      <td>Stray</td>\n",
       "      <td>Normal</td>\n",
       "      <td>Dog</td>\n",
       "      <td>Intact Male</td>\n",
       "      <td>9 months</td>\n",
       "      <td>Pit Bull Mix</td>\n",
       "      <td>Tan/White</td>\n",
       "      <td>StrayDog</td>\n",
       "    </tr>\n",
       "    <tr>\n",
       "      <th>74446</th>\n",
       "      <td>A612281</td>\n",
       "      <td>Luna</td>\n",
       "      <td>2013-12-20 13:37:00</td>\n",
       "      <td>2013</td>\n",
       "      <td>Austin (TX)</td>\n",
       "      <td>Owner Surrender</td>\n",
       "      <td>Normal</td>\n",
       "      <td>Dog</td>\n",
       "      <td>Spayed Female</td>\n",
       "      <td>3 years</td>\n",
       "      <td>Catahoula Mix</td>\n",
       "      <td>Brown Merle/White</td>\n",
       "      <td>Owner SurrenderDog</td>\n",
       "    </tr>\n",
       "    <tr>\n",
       "      <th>82804</th>\n",
       "      <td>A661693</td>\n",
       "      <td>Dino</td>\n",
       "      <td>2013-12-29 15:56:00</td>\n",
       "      <td>2013</td>\n",
       "      <td>Austin (TX)</td>\n",
       "      <td>Public Assist</td>\n",
       "      <td>Normal</td>\n",
       "      <td>Dog</td>\n",
       "      <td>Intact Male</td>\n",
       "      <td>2 years</td>\n",
       "      <td>Chihuahua Shorthair/Dachshund</td>\n",
       "      <td>Black/Tan</td>\n",
       "      <td>Public AssistDog</td>\n",
       "    </tr>\n",
       "    <tr>\n",
       "      <th>118202</th>\n",
       "      <td>A666273</td>\n",
       "      <td>*Jasmine</td>\n",
       "      <td>2013-10-29 16:16:00</td>\n",
       "      <td>2013</td>\n",
       "      <td>1310 Byers in Austin (TX)</td>\n",
       "      <td>Stray</td>\n",
       "      <td>Normal</td>\n",
       "      <td>Dog</td>\n",
       "      <td>Spayed Female</td>\n",
       "      <td>2 years</td>\n",
       "      <td>Boxer/Pit Bull</td>\n",
       "      <td>Brown/White</td>\n",
       "      <td>StrayDog</td>\n",
       "    </tr>\n",
       "    <tr>\n",
       "      <th>...</th>\n",
       "      <td>...</td>\n",
       "      <td>...</td>\n",
       "      <td>...</td>\n",
       "      <td>...</td>\n",
       "      <td>...</td>\n",
       "      <td>...</td>\n",
       "      <td>...</td>\n",
       "      <td>...</td>\n",
       "      <td>...</td>\n",
       "      <td>...</td>\n",
       "      <td>...</td>\n",
       "      <td>...</td>\n",
       "      <td>...</td>\n",
       "    </tr>\n",
       "    <tr>\n",
       "      <th>135555</th>\n",
       "      <td>A849089</td>\n",
       "      <td>*Leon Redbone</td>\n",
       "      <td>2022-01-02 08:02:00</td>\n",
       "      <td>2022</td>\n",
       "      <td>4434 Frontier Trail in Austin (TX)</td>\n",
       "      <td>Stray</td>\n",
       "      <td>Injured</td>\n",
       "      <td>Dog</td>\n",
       "      <td>Intact Male</td>\n",
       "      <td>2 years</td>\n",
       "      <td>Redbone Hound/Greyhound</td>\n",
       "      <td>Brown</td>\n",
       "      <td>StrayDog</td>\n",
       "    </tr>\n",
       "    <tr>\n",
       "      <th>135554</th>\n",
       "      <td>A850252</td>\n",
       "      <td>*Bellabelle</td>\n",
       "      <td>2022-01-21 08:00:00</td>\n",
       "      <td>2022</td>\n",
       "      <td>Austin (TX)</td>\n",
       "      <td>Stray</td>\n",
       "      <td>Sick</td>\n",
       "      <td>Dog</td>\n",
       "      <td>Intact Female</td>\n",
       "      <td>1 year</td>\n",
       "      <td>Labrador Retriever</td>\n",
       "      <td>Black/White</td>\n",
       "      <td>StrayDog</td>\n",
       "    </tr>\n",
       "    <tr>\n",
       "      <th>135553</th>\n",
       "      <td>A770617</td>\n",
       "      <td>*Batgirl</td>\n",
       "      <td>2022-01-20 16:25:00</td>\n",
       "      <td>2022</td>\n",
       "      <td>Austin (TX)</td>\n",
       "      <td>Owner Surrender</td>\n",
       "      <td>Normal</td>\n",
       "      <td>Dog</td>\n",
       "      <td>Spayed Female</td>\n",
       "      <td>6 years</td>\n",
       "      <td>Pit Bull Mix</td>\n",
       "      <td>Fawn/White</td>\n",
       "      <td>Owner SurrenderDog</td>\n",
       "    </tr>\n",
       "    <tr>\n",
       "      <th>135566</th>\n",
       "      <td>A850439</td>\n",
       "      <td>Chai</td>\n",
       "      <td>2022-01-24 15:35:00</td>\n",
       "      <td>2022</td>\n",
       "      <td>Austin (TX)</td>\n",
       "      <td>Owner Surrender</td>\n",
       "      <td>Normal</td>\n",
       "      <td>Other</td>\n",
       "      <td>Intact Male</td>\n",
       "      <td>7 months</td>\n",
       "      <td>Guinea Pig</td>\n",
       "      <td>White/Tricolor</td>\n",
       "      <td>Owner SurrenderOther</td>\n",
       "    </tr>\n",
       "    <tr>\n",
       "      <th>136762</th>\n",
       "      <td>A852194</td>\n",
       "      <td>Queen</td>\n",
       "      <td>2022-02-27 13:44:00</td>\n",
       "      <td>2022</td>\n",
       "      <td>8071 N Lamar Blvd in Austin (TX)</td>\n",
       "      <td>Stray</td>\n",
       "      <td>Normal</td>\n",
       "      <td>Dog</td>\n",
       "      <td>Intact Female</td>\n",
       "      <td>4 months</td>\n",
       "      <td>Cane Corso</td>\n",
       "      <td>Blue Cream</td>\n",
       "      <td>StrayDog</td>\n",
       "    </tr>\n",
       "  </tbody>\n",
       "</table>\n",
       "<p>136763 rows × 13 columns</p>\n",
       "</div>"
      ],
      "text/plain": [
       "       Animal ID           Name             DateTime  Year  \\\n",
       "13061    A667397          *Gaby  2013-11-17 13:51:00  2013   \n",
       "31112    A667458          Chino  2013-11-18 13:19:00  2013   \n",
       "74446    A612281           Luna  2013-12-20 13:37:00  2013   \n",
       "82804    A661693           Dino  2013-12-29 15:56:00  2013   \n",
       "118202   A666273       *Jasmine  2013-10-29 16:16:00  2013   \n",
       "...          ...            ...                  ...   ...   \n",
       "135555   A849089  *Leon Redbone  2022-01-02 08:02:00  2022   \n",
       "135554   A850252    *Bellabelle  2022-01-21 08:00:00  2022   \n",
       "135553   A770617       *Batgirl  2022-01-20 16:25:00  2022   \n",
       "135566   A850439           Chai  2022-01-24 15:35:00  2022   \n",
       "136762   A852194          Queen  2022-02-27 13:44:00  2022   \n",
       "\n",
       "                                Found Location      Intake Type  \\\n",
       "13061   710 East Ben White Blvd in Austin (TX)            Stray   \n",
       "31112       8401 Research Blvd. in Austin (TX)            Stray   \n",
       "74446                              Austin (TX)  Owner Surrender   \n",
       "82804                              Austin (TX)    Public Assist   \n",
       "118202               1310 Byers in Austin (TX)            Stray   \n",
       "...                                        ...              ...   \n",
       "135555      4434 Frontier Trail in Austin (TX)            Stray   \n",
       "135554                             Austin (TX)            Stray   \n",
       "135553                             Austin (TX)  Owner Surrender   \n",
       "135566                             Austin (TX)  Owner Surrender   \n",
       "136762        8071 N Lamar Blvd in Austin (TX)            Stray   \n",
       "\n",
       "       Intake Condition Animal Type Sex upon Intake Age upon Intake  \\\n",
       "13061            Normal         Dog   Intact Female          1 year   \n",
       "31112            Normal         Dog     Intact Male        9 months   \n",
       "74446            Normal         Dog   Spayed Female         3 years   \n",
       "82804            Normal         Dog     Intact Male         2 years   \n",
       "118202           Normal         Dog   Spayed Female         2 years   \n",
       "...                 ...         ...             ...             ...   \n",
       "135555          Injured         Dog     Intact Male         2 years   \n",
       "135554             Sick         Dog   Intact Female          1 year   \n",
       "135553           Normal         Dog   Spayed Female         6 years   \n",
       "135566           Normal       Other     Intact Male        7 months   \n",
       "136762           Normal         Dog   Intact Female        4 months   \n",
       "\n",
       "                                Breed              Color                  Type  \n",
       "13061             Chihuahua Shorthair           Tricolor              StrayDog  \n",
       "31112                    Pit Bull Mix          Tan/White              StrayDog  \n",
       "74446                   Catahoula Mix  Brown Merle/White    Owner SurrenderDog  \n",
       "82804   Chihuahua Shorthair/Dachshund          Black/Tan      Public AssistDog  \n",
       "118202                 Boxer/Pit Bull        Brown/White              StrayDog  \n",
       "...                               ...                ...                   ...  \n",
       "135555        Redbone Hound/Greyhound              Brown              StrayDog  \n",
       "135554             Labrador Retriever        Black/White              StrayDog  \n",
       "135553                   Pit Bull Mix         Fawn/White    Owner SurrenderDog  \n",
       "135566                     Guinea Pig     White/Tricolor  Owner SurrenderOther  \n",
       "136762                     Cane Corso         Blue Cream              StrayDog  \n",
       "\n",
       "[136763 rows x 13 columns]"
      ]
     },
     "execution_count": 102,
     "metadata": {},
     "output_type": "execute_result"
    }
   ],
   "source": [
    "# We can do this on the whole dataframe, it just needs to know what to sort by\n",
    "df.sort_values(by='Year')"
   ]
  },
  {
   "cell_type": "markdown",
   "metadata": {
    "heading_collapsed": true
   },
   "source": [
    "# Extra Credit: Find a .csv file online and experiment with it."
   ]
  },
  {
   "cell_type": "markdown",
   "metadata": {
    "hidden": true
   },
   "source": [
    "Head to [dataportals.org](https://dataportals.org) to find a .csv file."
   ]
  },
  {
   "cell_type": "code",
   "execution_count": null,
   "metadata": {
    "hidden": true
   },
   "outputs": [],
   "source": []
  }
 ],
 "metadata": {
  "kernelspec": {
   "display_name": "Python 3",
   "language": "python",
   "name": "python3"
  },
  "language_info": {
   "codemirror_mode": {
    "name": "ipython",
    "version": 3
   },
   "file_extension": ".py",
   "mimetype": "text/x-python",
   "name": "python",
   "nbconvert_exporter": "python",
   "pygments_lexer": "ipython3",
   "version": "3.8.5"
  },
  "toc": {
   "base_numbering": 1,
   "nav_menu": {},
   "number_sections": true,
   "sideBar": true,
   "skip_h1_title": false,
   "title_cell": "Table of Contents",
   "title_sidebar": "Contents",
   "toc_cell": true,
   "toc_position": {
    "height": "calc(100% - 180px)",
    "left": "10px",
    "top": "150px",
    "width": "384px"
   },
   "toc_section_display": true,
   "toc_window_display": true
  }
 },
 "nbformat": 4,
 "nbformat_minor": 2
}
