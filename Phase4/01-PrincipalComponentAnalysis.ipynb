{
 "cells": [
  {
   "cell_type": "markdown",
   "metadata": {
    "heading_collapsed": true
   },
   "source": [
    "# Principal Component Analysis"
   ]
  },
  {
   "cell_type": "markdown",
   "metadata": {
    "hidden": true
   },
   "source": [
    "## Objectives\n",
    "\n",
    "- Explain the concepts behind principal component analysis (PCA)\n",
    "- Explain how PCA addresses the problem of multicollinearity\n",
    "- Explain the idea of eigendecomposition\n",
    "- Implement PCA using `sklearn`"
   ]
  },
  {
   "cell_type": "markdown",
   "metadata": {
    "heading_collapsed": true
   },
   "source": [
    "# Motivation"
   ]
  },
  {
   "cell_type": "markdown",
   "metadata": {
    "hidden": true
   },
   "source": [
    "So far, you have dealt with datasets with a moderate number of predictors. What would happen if you had thousands of predictors? \n",
    "\n",
    "A few problems can arise:\n",
    "\n",
    "* Requires a ton of computing power/time\n",
    "* Computational problems caused by multicollinearity\n",
    "* Can overfit your data\n",
    "\n",
    "How could we address this problem?\n",
    "\n",
    "* You could drop a bunch of predictors at random, but you would potentially lose useful information that way \n",
    "* You could drop predictors that have weak correlations with your target, but they may still be useful in combination with other features in non-linear models (e.g. interaction terms, decision trees) \n",
    "* You could combine a bunch of features together, such as by multiplying them, but it's not clear how you would do this to best preseve information\n",
    "\n",
    "Principal Component Analysis (PCA) is a tool for reducing the dimensionality of our data in a way that tries to preserve information. It does this by **projecting our data from a higher-dimensional space onto a lower-dimensional space**. The PCA algorithm chooses a lower-dimensional space to project to that will **preserve as much variance as possible** from our original dataset."
   ]
  },
  {
   "cell_type": "markdown",
   "metadata": {},
   "source": [
    "### Steps for Performing PCA\n",
    "\n",
    "The theory behind PCA rests upon many foundational concepts of linear algebra. After all, PCA is re-encoding a dataset into an alternative basis (the axes). Here's the exact steps:\n",
    "\n",
    "1. Recenter each feature of the dataset by subtracting that feature's mean from the feature vector\n",
    "2. Calculate the covariance matrix for your centered dataset\n",
    "3. Calculate the eigenvectors of the covariance matrix\n",
    "4. Project the dataset into the new feature space: Multiply the eigenvectors by the mean centered features"
   ]
  },
  {
   "cell_type": "markdown",
   "metadata": {},
   "source": [
    "<img src=\"https://raw.githubusercontent.com/jirvingphd/dsc-unsupervised-learning-online-ds-pt-100719/master/images/pca.gif\">"
   ]
  },
  {
   "cell_type": "markdown",
   "metadata": {
    "heading_collapsed": true
   },
   "source": [
    "# Scenario: Shipping Costs\n",
    "\n",
    "A bit of a contrived example to showcase what's going on under the hood - this example only has a few predictors, but we can still use PCA in this instance!"
   ]
  },
  {
   "cell_type": "code",
   "execution_count": 1,
   "metadata": {
    "hidden": true
   },
   "outputs": [],
   "source": [
    "# Imports\n",
    "import pandas as pd\n",
    "import numpy as np\n",
    "import matplotlib.pyplot as plt\n",
    "import seaborn as sns\n",
    "\n",
    "from sklearn.preprocessing import StandardScaler\n",
    "from sklearn.decomposition import PCA\n",
    "from sklearn.linear_model import LinearRegression\n",
    "from sklearn.model_selection import train_test_split\n",
    "\n",
    "np.random.seed(123)"
   ]
  },
  {
   "cell_type": "markdown",
   "metadata": {
    "hidden": true
   },
   "source": [
    "Let's say that we want to predict the cost to ship a package based on its properties. "
   ]
  },
  {
   "cell_type": "code",
   "execution_count": 2,
   "metadata": {
    "hidden": true
   },
   "outputs": [
    {
     "data": {
      "text/html": [
       "<div>\n",
       "<style scoped>\n",
       "    .dataframe tbody tr th:only-of-type {\n",
       "        vertical-align: middle;\n",
       "    }\n",
       "\n",
       "    .dataframe tbody tr th {\n",
       "        vertical-align: top;\n",
       "    }\n",
       "\n",
       "    .dataframe thead th {\n",
       "        text-align: right;\n",
       "    }\n",
       "</style>\n",
       "<table border=\"1\" class=\"dataframe\">\n",
       "  <thead>\n",
       "    <tr style=\"text-align: right;\">\n",
       "      <th></th>\n",
       "      <th>Shipping Cost ($)</th>\n",
       "      <th>Length (in)</th>\n",
       "      <th>Width (in)</th>\n",
       "      <th>Height (in)</th>\n",
       "      <th>Weight (lb)</th>\n",
       "      <th>Distance (mi)</th>\n",
       "    </tr>\n",
       "  </thead>\n",
       "  <tbody>\n",
       "    <tr>\n",
       "      <th>0</th>\n",
       "      <td>24</td>\n",
       "      <td>36</td>\n",
       "      <td>32</td>\n",
       "      <td>9</td>\n",
       "      <td>18</td>\n",
       "      <td>1079</td>\n",
       "    </tr>\n",
       "    <tr>\n",
       "      <th>1</th>\n",
       "      <td>38</td>\n",
       "      <td>41</td>\n",
       "      <td>31</td>\n",
       "      <td>12</td>\n",
       "      <td>18</td>\n",
       "      <td>1797</td>\n",
       "    </tr>\n",
       "    <tr>\n",
       "      <th>2</th>\n",
       "      <td>38</td>\n",
       "      <td>34</td>\n",
       "      <td>34</td>\n",
       "      <td>15</td>\n",
       "      <td>24</td>\n",
       "      <td>1722</td>\n",
       "    </tr>\n",
       "    <tr>\n",
       "      <th>3</th>\n",
       "      <td>20</td>\n",
       "      <td>32</td>\n",
       "      <td>22</td>\n",
       "      <td>8</td>\n",
       "      <td>8</td>\n",
       "      <td>461</td>\n",
       "    </tr>\n",
       "    <tr>\n",
       "      <th>4</th>\n",
       "      <td>24</td>\n",
       "      <td>37</td>\n",
       "      <td>24</td>\n",
       "      <td>14</td>\n",
       "      <td>19</td>\n",
       "      <td>491</td>\n",
       "    </tr>\n",
       "    <tr>\n",
       "      <th>5</th>\n",
       "      <td>21</td>\n",
       "      <td>32</td>\n",
       "      <td>20</td>\n",
       "      <td>3</td>\n",
       "      <td>6</td>\n",
       "      <td>1029</td>\n",
       "    </tr>\n",
       "    <tr>\n",
       "      <th>6</th>\n",
       "      <td>27</td>\n",
       "      <td>33</td>\n",
       "      <td>23</td>\n",
       "      <td>7</td>\n",
       "      <td>11</td>\n",
       "      <td>945</td>\n",
       "    </tr>\n",
       "    <tr>\n",
       "      <th>7</th>\n",
       "      <td>31</td>\n",
       "      <td>40</td>\n",
       "      <td>31</td>\n",
       "      <td>16</td>\n",
       "      <td>22</td>\n",
       "      <td>1649</td>\n",
       "    </tr>\n",
       "    <tr>\n",
       "      <th>8</th>\n",
       "      <td>30</td>\n",
       "      <td>37</td>\n",
       "      <td>28</td>\n",
       "      <td>12</td>\n",
       "      <td>20</td>\n",
       "      <td>1310</td>\n",
       "    </tr>\n",
       "    <tr>\n",
       "      <th>9</th>\n",
       "      <td>26</td>\n",
       "      <td>29</td>\n",
       "      <td>29</td>\n",
       "      <td>11</td>\n",
       "      <td>11</td>\n",
       "      <td>161</td>\n",
       "    </tr>\n",
       "  </tbody>\n",
       "</table>\n",
       "</div>"
      ],
      "text/plain": [
       "   Shipping Cost ($)  Length (in)  Width (in)  Height (in)  Weight (lb)  \\\n",
       "0                 24           36          32            9           18   \n",
       "1                 38           41          31           12           18   \n",
       "2                 38           34          34           15           24   \n",
       "3                 20           32          22            8            8   \n",
       "4                 24           37          24           14           19   \n",
       "5                 21           32          20            3            6   \n",
       "6                 27           33          23            7           11   \n",
       "7                 31           40          31           16           22   \n",
       "8                 30           37          28           12           20   \n",
       "9                 26           29          29           11           11   \n",
       "\n",
       "   Distance (mi)  \n",
       "0           1079  \n",
       "1           1797  \n",
       "2           1722  \n",
       "3            461  \n",
       "4            491  \n",
       "5           1029  \n",
       "6            945  \n",
       "7           1649  \n",
       "8           1310  \n",
       "9            161  "
      ]
     },
     "execution_count": 2,
     "metadata": {},
     "output_type": "execute_result"
    }
   ],
   "source": [
    "packages = pd.read_csv('data/packages.csv')\n",
    "packages.head(10)"
   ]
  },
  {
   "cell_type": "markdown",
   "metadata": {
    "heading_collapsed": true,
    "hidden": true
   },
   "source": [
    "## Dimensionality"
   ]
  },
  {
   "cell_type": "markdown",
   "metadata": {
    "hidden": true
   },
   "source": [
    "If we focus on just one input feature, we can easily visualize its relationship with our outcome variable in 2 dimensional space:"
   ]
  },
  {
   "cell_type": "code",
   "execution_count": 3,
   "metadata": {
    "hidden": true
   },
   "outputs": [
    {
     "data": {
      "image/png": "[encoded data removed]",
      "text/plain": [
       "<Figure size 432x288 with 1 Axes>"
      ]
     },
     "metadata": {
      "needs_background": "light"
     },
     "output_type": "display_data"
    }
   ],
   "source": [
    "packages.plot(kind='scatter', y='Shipping Cost ($)', x='Length (in)');"
   ]
  },
  {
   "cell_type": "markdown",
   "metadata": {
    "hidden": true
   },
   "source": [
    "But we have more features! You can think of each package as a point in six-dimensional space - 5 dimensions for our features and 1 for our target."
   ]
  },
  {
   "cell_type": "markdown",
   "metadata": {
    "heading_collapsed": true,
    "hidden": true
   },
   "source": [
    "## Correlation and Covariance Matrices"
   ]
  },
  {
   "cell_type": "markdown",
   "metadata": {
    "hidden": true
   },
   "source": [
    "The first four features in this dataset all relate to package size, so we might expect them to be strongly related."
   ]
  },
  {
   "cell_type": "code",
   "execution_count": 4,
   "metadata": {
    "hidden": true
   },
   "outputs": [
    {
     "data": {
      "image/png": "[encoded data removed]",
      "text/plain": [
       "<Figure size 432x288 with 2 Axes>"
      ]
     },
     "metadata": {
      "needs_background": "light"
     },
     "output_type": "display_data"
    }
   ],
   "source": [
    "sns.heatmap(packages.corr(),\n",
    "            annot=True,\n",
    "            fmt='0.2g',\n",
    "            vmin=-1,\n",
    "            vmax=1,\n",
    "            center=0,\n",
    "            cmap='coolwarm');"
   ]
  },
  {
   "cell_type": "markdown",
   "metadata": {
    "hidden": true
   },
   "source": [
    "PCA does not use this **correlation matrix**, which is conveniently scaled between -1 and 1. Rather, it uses the **covariance matrix**, which is scaled in square units of the original variables. This makes PCA very sensitive to the scale of the variables."
   ]
  },
  {
   "cell_type": "code",
   "execution_count": 5,
   "metadata": {
    "hidden": true
   },
   "outputs": [
    {
     "data": {
      "image/png": "[encoded data removed]",
      "text/plain": [
       "<Figure size 432x288 with 2 Axes>"
      ]
     },
     "metadata": {
      "needs_background": "light"
     },
     "output_type": "display_data"
    }
   ],
   "source": [
    "sns.heatmap(packages.cov(),\n",
    "            annot=True,\n",
    "            fmt='0.4g',\n",
    "            center=0,\n",
    "            cmap='coolwarm');"
   ]
  },
  {
   "cell_type": "markdown",
   "metadata": {
    "hidden": true
   },
   "source": [
    "Let's normalize our variables to mean = 0 & SD = 1 (AKA standard scale), which will make our covariance matrix equal the correlation matrix."
   ]
  },
  {
   "cell_type": "code",
   "execution_count": 6,
   "metadata": {},
   "outputs": [],
   "source": [
    "# Instantiate and fit_transform our data\n",
    "# No need for a train test split here - just exploring\n",
    "scaler = StandardScaler()\n",
    "packages_scaled = scaler.fit_transform(packages)"
   ]
  },
  {
   "cell_type": "code",
   "execution_count": 7,
   "metadata": {
    "hidden": true
   },
   "outputs": [
    {
     "data": {
      "image/png": "[encoded data removed]",
      "text/plain": [
       "<Figure size 432x288 with 2 Axes>"
      ]
     },
     "metadata": {
      "needs_background": "light"
     },
     "output_type": "display_data"
    }
   ],
   "source": [
    "# Note that we need to use np.cov now, since packages_scaled is now a numpy array\n",
    "sns.heatmap(np.cov(packages_scaled, rowvar=False),\n",
    "            annot=True,\n",
    "            fmt='0.4g',\n",
    "            center=0,\n",
    "            cmap='coolwarm');"
   ]
  },
  {
   "cell_type": "markdown",
   "metadata": {
    "hidden": true
   },
   "source": [
    "BECAUSE MATH, and some properties of this kind of matrix, the covariance matrix preserves the information about the spread of our dataset. What we want to do now is to explain that spread, one linear transformation (one **eigenvector**) at a time. For more see [this useful blog post](https://datascienceplus.com/understanding-the-covariance-matrix/).\n",
    "\n",
    "Let's try to reduce the dimensionality of our dataset. Since the features capturing size are strongly correlated, we might expect to be able to reduce our feature dimensions down to two without losing much information (i.e. variance in our features)."
   ]
  },
  {
   "cell_type": "markdown",
   "metadata": {
    "heading_collapsed": true,
    "hidden": true
   },
   "source": [
    "## Eigendecomposition"
   ]
  },
  {
   "cell_type": "markdown",
   "metadata": {
    "hidden": true
   },
   "source": [
    "We will use an **eigendecomposition** of the covariance matrix to create a new set of dimensions. We can then decide how many of these dimensions to keep based on how much variance is captured by each dimension.\n",
    "\n",
    "Here, we show you how to do this using the NumPy `.eig()` function, but we will learn how to do PCA more easily in `sklearn` later."
   ]
  },
  {
   "cell_type": "code",
   "execution_count": 8,
   "metadata": {
    "hidden": true
   },
   "outputs": [],
   "source": [
    "packages_scaled_df = pd.DataFrame(packages_scaled, columns=packages.columns)\n",
    "y_packages_scaled = packages_scaled_df['Shipping Cost ($)']\n",
    "X_packages_scaled = packages_scaled_df.drop('Shipping Cost ($)', axis=1)\n",
    "\n",
    "cov_mat = X_packages_scaled.cov().values\n",
    "eigvals, eigvecs = np.linalg.eig(cov_mat)"
   ]
  },
  {
   "cell_type": "markdown",
   "metadata": {
    "hidden": true
   },
   "source": [
    "This decomposition gives us two things: eigenvalues and eigenvectors."
   ]
  },
  {
   "cell_type": "markdown",
   "metadata": {
    "heading_collapsed": true,
    "hidden": true
   },
   "source": [
    "## Eigenvalues"
   ]
  },
  {
   "cell_type": "markdown",
   "metadata": {
    "hidden": true
   },
   "source": [
    "**Eigenvalues** represent the relative amount of variance captured by each new dimension. The average eigenvalue will be 1, so we look for values over 1 to identify dimensions that capture more variance than average. "
   ]
  },
  {
   "cell_type": "code",
   "execution_count": 9,
   "metadata": {
    "hidden": true
   },
   "outputs": [
    {
     "data": {
      "text/plain": [
       "array([3.51539036, 1.03842995, 0.34539962, 0.08906359, 0.18413027])"
      ]
     },
     "execution_count": 9,
     "metadata": {},
     "output_type": "execute_result"
    }
   ],
   "source": [
    "eigvals"
   ]
  },
  {
   "cell_type": "markdown",
   "metadata": {
    "hidden": true
   },
   "source": [
    "It looks like we have one great dimension capturing 3.4x more variance than average, one OK dimension capturing an average amount of variance, and three other dimensions that don't capture much variance. This is in line with what we were expecting! It means that we can just use the first two dimensions - and drop the last three - without losing much variance/information from our predictors."
   ]
  },
  {
   "cell_type": "markdown",
   "metadata": {
    "heading_collapsed": true,
    "hidden": true
   },
   "source": [
    "### Proportion of Variance"
   ]
  },
  {
   "cell_type": "markdown",
   "metadata": {
    "hidden": true
   },
   "source": [
    "You can also divide your eigenvalues by the number of features and then interpret them as the _proportion of variance in the features_ captured by each dimension."
   ]
  },
  {
   "cell_type": "code",
   "execution_count": 10,
   "metadata": {
    "hidden": true
   },
   "outputs": [
    {
     "data": {
      "text/plain": [
       "array([0.70307807, 0.20768599, 0.06907992, 0.01781272, 0.03682605])"
      ]
     },
     "execution_count": 10,
     "metadata": {},
     "output_type": "execute_result"
    }
   ],
   "source": [
    "eigvals/len(eigvals)"
   ]
  },
  {
   "cell_type": "markdown",
   "metadata": {
    "heading_collapsed": true,
    "hidden": true
   },
   "source": [
    "## Eigenvectors (aka Principal Components)"
   ]
  },
  {
   "cell_type": "markdown",
   "metadata": {
    "hidden": true
   },
   "source": [
    "**Eigenvectors** represent the new dimensions, which we call **principal components** when doing PCA. There is one eigenvector for each dimension, and they are all combined together into one matrix."
   ]
  },
  {
   "cell_type": "code",
   "execution_count": 11,
   "metadata": {
    "hidden": true
   },
   "outputs": [
    {
     "data": {
      "text/plain": [
       "array([[ 0.49219397,  0.04575099, -0.58937372,  0.39011986,  0.50606033],\n",
       "       [ 0.50780159,  0.03152634, -0.38635373, -0.59429315, -0.48855918],\n",
       "       [ 0.5075545 , -0.03825687,  0.38501594,  0.58895092, -0.49580679],\n",
       "       [ 0.49220305, -0.03337828,  0.59133959, -0.38424744,  0.50920864],\n",
       "       [-0.00268878,  0.9971636 ,  0.07382155,  0.01062355, -0.00974944]])"
      ]
     },
     "execution_count": 11,
     "metadata": {},
     "output_type": "execute_result"
    }
   ],
   "source": [
    "eigvecs"
   ]
  },
  {
   "cell_type": "markdown",
   "metadata": {
    "hidden": true
   },
   "source": [
    "In PCA, the values in our eigenvectors are called **component weights**, and they tell us how much variance of each feature is captured by that dimension. These weights range from -1 to 1, but the relative sizes are what matter."
   ]
  },
  {
   "cell_type": "markdown",
   "metadata": {
    "heading_collapsed": true,
    "hidden": true
   },
   "source": [
    "### Orthogonality"
   ]
  },
  {
   "cell_type": "markdown",
   "metadata": {
    "hidden": true
   },
   "source": [
    "These eigenvectors are **orthogonal**, meaning their dot product is zero. Think of it like being at right angles, like the x and y axes of a graph, but in higher-dimensional space. \n",
    "\n",
    "NICE TOUCH: orthogonal vectors are not multicollinear! Always! "
   ]
  },
  {
   "cell_type": "code",
   "execution_count": 12,
   "metadata": {
    "hidden": true
   },
   "outputs": [
    {
     "data": {
      "text/plain": [
       "-6.418476861114186e-17"
      ]
     },
     "execution_count": 12,
     "metadata": {},
     "output_type": "execute_result"
    }
   ],
   "source": [
    "eigvec1 = eigvecs[:, 0]\n",
    "eigvec2 = eigvecs[:, 1]\n",
    "eigvec1.dot(eigvec2)"
   ]
  },
  {
   "cell_type": "markdown",
   "metadata": {
    "heading_collapsed": true,
    "hidden": true
   },
   "source": [
    "### First Principal Component"
   ]
  },
  {
   "cell_type": "markdown",
   "metadata": {
    "hidden": true
   },
   "source": [
    "The first column of `eigvecs` is our first eigenvector, corresponding to the eigenvalue of 3.4. Let's look at it."
   ]
  },
  {
   "cell_type": "code",
   "execution_count": 13,
   "metadata": {
    "hidden": true
   },
   "outputs": [
    {
     "data": {
      "text/plain": [
       "{'Length (in)': 0.4921939702474795,\n",
       " 'Width (in)': 0.5078015906341329,\n",
       " 'Height (in)': 0.5075545014020556,\n",
       " 'Weight (lb)': 0.49220304628817685,\n",
       " 'Distance (mi)': -0.002688779019837671}"
      ]
     },
     "execution_count": 13,
     "metadata": {},
     "output_type": "execute_result"
    }
   ],
   "source": [
    "dict(zip(X_packages_scaled.columns, eigvec1))"
   ]
  },
  {
   "cell_type": "markdown",
   "metadata": {
    "hidden": true
   },
   "source": [
    "Notice that the first four numbers are relatively large, while the fifth is near zero. This means that this first dimension is almost entirely capturing the shared variance in our four size features, as we hoped! It's also interesting to note that the weights for the four features are almost equal, so they are equally represented in this dimension."
   ]
  },
  {
   "cell_type": "markdown",
   "metadata": {
    "heading_collapsed": true,
    "hidden": true
   },
   "source": [
    "### Second Principal Component"
   ]
  },
  {
   "cell_type": "markdown",
   "metadata": {
    "hidden": true
   },
   "source": [
    "Let's look at our second eigenvector and see what features it seems to be capturing."
   ]
  },
  {
   "cell_type": "code",
   "execution_count": 14,
   "metadata": {
    "hidden": true
   },
   "outputs": [
    {
     "data": {
      "text/plain": [
       "{'Length (in)': 0.04575099446953312,\n",
       " 'Width (in)': 0.03152634322501524,\n",
       " 'Height (in)': -0.038256866573917886,\n",
       " 'Weight (lb)': -0.03337828478319767,\n",
       " 'Distance (mi)': 0.9971635966343658}"
      ]
     },
     "execution_count": 14,
     "metadata": {},
     "output_type": "execute_result"
    }
   ],
   "source": [
    "dict(zip(X_packages_scaled.columns, eigvec2))"
   ]
  },
  {
   "cell_type": "markdown",
   "metadata": {
    "hidden": true
   },
   "source": [
    "Looks like it is almost entirely capturing the distance dimension, which makes sense, since that is not related to the package size at all. It has an eigenvalue of 1, which is appropriate, since the eigenvector only captures one feature, which wasn't captured at all in the first principal component."
   ]
  },
  {
   "cell_type": "markdown",
   "metadata": {
    "heading_collapsed": true,
    "hidden": true
   },
   "source": [
    "## Transforming Data"
   ]
  },
  {
   "cell_type": "markdown",
   "metadata": {
    "hidden": true
   },
   "source": [
    "We will now use these principal components to create new features. These features will be weighted sums (aka **linear combinations**) of existing features, using the component weights from the eigenvectors."
   ]
  },
  {
   "cell_type": "markdown",
   "metadata": {
    "heading_collapsed": true,
    "hidden": true
   },
   "source": [
    "### First Component"
   ]
  },
  {
   "cell_type": "markdown",
   "metadata": {
    "hidden": true
   },
   "source": [
    "We will now create a new feature using the first principal component. "
   ]
  },
  {
   "cell_type": "code",
   "execution_count": 15,
   "metadata": {
    "hidden": true
   },
   "outputs": [
    {
     "data": {
      "text/plain": [
       "{'Length (in)': 0.4921939702474795,\n",
       " 'Width (in)': 0.5078015906341329,\n",
       " 'Height (in)': 0.5075545014020556,\n",
       " 'Weight (lb)': 0.49220304628817685,\n",
       " 'Distance (mi)': -0.002688779019837671}"
      ]
     },
     "execution_count": 15,
     "metadata": {},
     "output_type": "execute_result"
    }
   ],
   "source": [
    "dict(zip(X_packages_scaled.columns, eigvec1))"
   ]
  },
  {
   "cell_type": "markdown",
   "metadata": {
    "hidden": true
   },
   "source": [
    "Our first feature will be calculated as follows:\n",
    "\n",
    "**PC1** = 0.492 * Length + 0.508 * Width + 0.508 * Height + 0.492 * Weight - 0.003 * Distance\n",
    "\n",
    "We use a dot product between the data and the eigenvector to do the arithmetic for us."
   ]
  },
  {
   "cell_type": "code",
   "execution_count": 16,
   "metadata": {
    "hidden": true
   },
   "outputs": [
    {
     "data": {
      "text/html": [
       "<div>\n",
       "<style scoped>\n",
       "    .dataframe tbody tr th:only-of-type {\n",
       "        vertical-align: middle;\n",
       "    }\n",
       "\n",
       "    .dataframe tbody tr th {\n",
       "        vertical-align: top;\n",
       "    }\n",
       "\n",
       "    .dataframe thead th {\n",
       "        text-align: right;\n",
       "    }\n",
       "</style>\n",
       "<table border=\"1\" class=\"dataframe\">\n",
       "  <thead>\n",
       "    <tr style=\"text-align: right;\">\n",
       "      <th></th>\n",
       "      <th>PC1</th>\n",
       "    </tr>\n",
       "  </thead>\n",
       "  <tbody>\n",
       "    <tr>\n",
       "      <th>0</th>\n",
       "      <td>1.212899</td>\n",
       "    </tr>\n",
       "    <tr>\n",
       "      <th>1</th>\n",
       "      <td>1.717358</td>\n",
       "    </tr>\n",
       "    <tr>\n",
       "      <th>2</th>\n",
       "      <td>2.272847</td>\n",
       "    </tr>\n",
       "    <tr>\n",
       "      <th>3</th>\n",
       "      <td>-0.295933</td>\n",
       "    </tr>\n",
       "    <tr>\n",
       "      <th>4</th>\n",
       "      <td>1.438280</td>\n",
       "    </tr>\n",
       "  </tbody>\n",
       "</table>\n",
       "</div>"
      ],
      "text/plain": [
       "        PC1\n",
       "0  1.212899\n",
       "1  1.717358\n",
       "2  2.272847\n",
       "3 -0.295933\n",
       "4  1.438280"
      ]
     },
     "execution_count": 16,
     "metadata": {},
     "output_type": "execute_result"
    }
   ],
   "source": [
    "data_array = X_packages_scaled.values\n",
    "pc1 = data_array.dot(eigvec1)\n",
    "X_packages_pca = pd.DataFrame(data=pc1, columns=['PC1'])\n",
    "X_packages_pca.head()"
   ]
  },
  {
   "cell_type": "markdown",
   "metadata": {
    "heading_collapsed": true,
    "hidden": true
   },
   "source": [
    "### All Components\n",
    "\n",
    "You can calculate all the new features at once using a dot product with the `eigvecs` matrix, which has all the eigenvectors in it."
   ]
  },
  {
   "cell_type": "code",
   "execution_count": 21,
   "metadata": {},
   "outputs": [
    {
     "data": {
      "text/plain": [
       "30"
      ]
     },
     "execution_count": 21,
     "metadata": {},
     "output_type": "execute_result"
    }
   ],
   "source": [
    "len(packages)"
   ]
  },
  {
   "cell_type": "code",
   "execution_count": 17,
   "metadata": {
    "hidden": true
   },
   "outputs": [
    {
     "data": {
      "text/html": [
       "<div>\n",
       "<style scoped>\n",
       "    .dataframe tbody tr th:only-of-type {\n",
       "        vertical-align: middle;\n",
       "    }\n",
       "\n",
       "    .dataframe tbody tr th {\n",
       "        vertical-align: top;\n",
       "    }\n",
       "\n",
       "    .dataframe thead th {\n",
       "        text-align: right;\n",
       "    }\n",
       "</style>\n",
       "<table border=\"1\" class=\"dataframe\">\n",
       "  <thead>\n",
       "    <tr style=\"text-align: right;\">\n",
       "      <th></th>\n",
       "      <th>PC1</th>\n",
       "      <th>PC2</th>\n",
       "      <th>PC3</th>\n",
       "      <th>PC4</th>\n",
       "      <th>PC5</th>\n",
       "    </tr>\n",
       "  </thead>\n",
       "  <tbody>\n",
       "    <tr>\n",
       "      <th>0</th>\n",
       "      <td>1.212899</td>\n",
       "      <td>-0.011849</td>\n",
       "      <td>-0.414848</td>\n",
       "      <td>-0.598483</td>\n",
       "      <td>0.166703</td>\n",
       "    </tr>\n",
       "    <tr>\n",
       "      <th>1</th>\n",
       "      <td>1.717358</td>\n",
       "      <td>1.226548</td>\n",
       "      <td>-0.322565</td>\n",
       "      <td>0.041777</td>\n",
       "      <td>0.136238</td>\n",
       "    </tr>\n",
       "    <tr>\n",
       "      <th>2</th>\n",
       "      <td>2.272847</td>\n",
       "      <td>1.023795</td>\n",
       "      <td>0.676236</td>\n",
       "      <td>-0.354703</td>\n",
       "      <td>-0.258341</td>\n",
       "    </tr>\n",
       "    <tr>\n",
       "      <th>3</th>\n",
       "      <td>-0.295933</td>\n",
       "      <td>-1.079836</td>\n",
       "      <td>-0.747722</td>\n",
       "      <td>0.270744</td>\n",
       "      <td>-0.093598</td>\n",
       "    </tr>\n",
       "    <tr>\n",
       "      <th>4</th>\n",
       "      <td>1.438280</td>\n",
       "      <td>-1.097996</td>\n",
       "      <td>0.269804</td>\n",
       "      <td>0.504775</td>\n",
       "      <td>0.184208</td>\n",
       "    </tr>\n",
       "    <tr>\n",
       "      <th>5</th>\n",
       "      <td>-1.079538</td>\n",
       "      <td>-0.052765</td>\n",
       "      <td>-1.163349</td>\n",
       "      <td>-0.112051</td>\n",
       "      <td>0.386725</td>\n",
       "    </tr>\n",
       "    <tr>\n",
       "      <th>6</th>\n",
       "      <td>-0.101911</td>\n",
       "      <td>-0.239155</td>\n",
       "      <td>-0.622347</td>\n",
       "      <td>-0.028424</td>\n",
       "      <td>0.209983</td>\n",
       "    </tr>\n",
       "    <tr>\n",
       "      <th>7</th>\n",
       "      <td>2.370782</td>\n",
       "      <td>0.914950</td>\n",
       "      <td>0.366448</td>\n",
       "      <td>0.290311</td>\n",
       "      <td>-0.051904</td>\n",
       "    </tr>\n",
       "    <tr>\n",
       "      <th>8</th>\n",
       "      <td>1.502014</td>\n",
       "      <td>0.345915</td>\n",
       "      <td>0.128624</td>\n",
       "      <td>-0.034766</td>\n",
       "      <td>0.243188</td>\n",
       "    </tr>\n",
       "    <tr>\n",
       "      <th>9</th>\n",
       "      <td>0.464635</td>\n",
       "      <td>-1.627544</td>\n",
       "      <td>-0.413444</td>\n",
       "      <td>-0.072711</td>\n",
       "      <td>-0.704668</td>\n",
       "    </tr>\n",
       "  </tbody>\n",
       "</table>\n",
       "</div>"
      ],
      "text/plain": [
       "        PC1       PC2       PC3       PC4       PC5\n",
       "0  1.212899 -0.011849 -0.414848 -0.598483  0.166703\n",
       "1  1.717358  1.226548 -0.322565  0.041777  0.136238\n",
       "2  2.272847  1.023795  0.676236 -0.354703 -0.258341\n",
       "3 -0.295933 -1.079836 -0.747722  0.270744 -0.093598\n",
       "4  1.438280 -1.097996  0.269804  0.504775  0.184208\n",
       "5 -1.079538 -0.052765 -1.163349 -0.112051  0.386725\n",
       "6 -0.101911 -0.239155 -0.622347 -0.028424  0.209983\n",
       "7  2.370782  0.914950  0.366448  0.290311 -0.051904\n",
       "8  1.502014  0.345915  0.128624 -0.034766  0.243188\n",
       "9  0.464635 -1.627544 -0.413444 -0.072711 -0.704668"
      ]
     },
     "execution_count": 17,
     "metadata": {},
     "output_type": "execute_result"
    }
   ],
   "source": [
    "pcs = data_array.dot(eigvecs)\n",
    "X_packages_pca = pd.DataFrame(data=pcs, columns=['PC1', 'PC2', 'PC3', 'PC4', 'PC5'])\n",
    "X_packages_pca.head(10)"
   ]
  },
  {
   "cell_type": "markdown",
   "metadata": {
    "heading_collapsed": true,
    "hidden": true
   },
   "source": [
    "## Feature Correlations"
   ]
  },
  {
   "cell_type": "markdown",
   "metadata": {
    "hidden": true
   },
   "source": [
    "I told y'all earlier that each of these components were naturally not correlated - let's prove it!"
   ]
  },
  {
   "cell_type": "code",
   "execution_count": 22,
   "metadata": {
    "hidden": true
   },
   "outputs": [
    {
     "data": {
      "image/png": "[encoded data removed]",
      "text/plain": [
       "<Figure size 432x288 with 2 Axes>"
      ]
     },
     "metadata": {
      "needs_background": "light"
     },
     "output_type": "display_data"
    }
   ],
   "source": [
    "sns.heatmap(X_packages_pca.corr(),\n",
    "            annot=True,\n",
    "            fmt='0.4f',\n",
    "            center=0,\n",
    "            cmap= 'coolwarm');\n",
    "# no multicolinearity among features "
   ]
  },
  {
   "cell_type": "markdown",
   "metadata": {},
   "source": [
    "## Check Performance\n",
    "\n",
    "One of the benefits of using principal component analysis is that using just a few components can perform just as well as using many original columns - reducing complexity and multicollinearity in your models. "
   ]
  },
  {
   "cell_type": "code",
   "execution_count": 19,
   "metadata": {},
   "outputs": [
    {
     "data": {
      "text/plain": [
       "0.8551465133243149"
      ]
     },
     "execution_count": 19,
     "metadata": {},
     "output_type": "execute_result"
    }
   ],
   "source": [
    "# Linear regression using the original features\n",
    "lr_orig = LinearRegression()\n",
    "\n",
    "lr_orig.fit(X_packages_scaled, y_packages_scaled)\n",
    "\n",
    "lr_orig.score(X_packages_scaled, y_packages_scaled)"
   ]
  },
  {
   "cell_type": "code",
   "execution_count": 20,
   "metadata": {},
   "outputs": [
    {
     "data": {
      "text/plain": [
       "0.8520244462637744"
      ]
     },
     "execution_count": 20,
     "metadata": {},
     "output_type": "execute_result"
    }
   ],
   "source": [
    "# Linear regression using just the first two principal components\n",
    "lr_pca = LinearRegression()\n",
    "\n",
    "lr_pca.fit(X_packages_pca[['PC1', 'PC2']], y_packages_scaled)\n",
    "\n",
    "lr_pca.score(X_packages_pca[['PC1', 'PC2']], y_packages_scaled)"
   ]
  },
  {
   "cell_type": "markdown",
   "metadata": {},
   "source": [
    "#### Discuss:\n",
    "\n",
    "- \n"
   ]
  },
  {
   "cell_type": "markdown",
   "metadata": {},
   "source": [
    "# ACTIVITY: USING PCA TO COLLAPSE 1800+ HEALTH FEATURES TO 10"
   ]
  },
  {
   "cell_type": "markdown",
   "metadata": {},
   "source": [
    "\n",
    "- Use all 1100+ features of the [National Health and Nutrition Examination Survey (NHANES)](https://www.kaggle.com/cdc/national-health-and-nutrition-examination-survey) to find clusters of people in 3D space.\n",
    "- Build a Pipeline for data processing.\n",
    "- Get top 10 principal components.\n",
    "- Visualize 3 principal components at a time in 3D.\n"
   ]
  },
  {
   "cell_type": "markdown",
   "metadata": {},
   "source": [
    "## Data\n",
    "- [NHANES Dataset](https://www.kaggle.com/cdc/national-health-and-nutrition-examination-survey)\n",
    "    \n",
    "- [Complete variable list](https://wwwn.cdc.gov/Nchs/Nhanes/Search/variablelist.aspx?Component=Demographics&CycleBeginYear=2013)"
   ]
  },
  {
   "cell_type": "code",
   "execution_count": 23,
   "metadata": {
    "ExecuteTime": {
     "end_time": "2020-10-07T16:43:51.624430Z",
     "start_time": "2020-10-07T16:43:51.621504Z"
    }
   },
   "outputs": [],
   "source": [
    "# more imports\n",
    "import plotly.express as px\n",
    "from sklearn.preprocessing import MinMaxScaler,OneHotEncoder\n",
    "from sklearn.impute import SimpleImputer, MissingIndicator\n",
    "from sklearn.pipeline import Pipeline\n",
    "from sklearn.compose import ColumnTransformer\n",
    "\n",
    "import os, sys\n",
    "import glob"
   ]
  },
  {
   "cell_type": "code",
   "execution_count": 24,
   "metadata": {
    "ExecuteTime": {
     "end_time": "2020-10-07T16:44:15.383504Z",
     "start_time": "2020-10-07T16:44:15.379353Z"
    }
   },
   "outputs": [
    {
     "data": {
      "text/plain": [
       "['medications.csv',\n",
       " 'diet.csv',\n",
       " 'examination.csv',\n",
       " 'demographic.csv',\n",
       " 'labs.csv',\n",
       " 'questionnaire.csv']"
      ]
     },
     "execution_count": 24,
     "metadata": {},
     "output_type": "execute_result"
    }
   ],
   "source": [
    "# Study Group Notebook Folderpath\n",
    "folder = 'data/NHANES/'\n",
    "os.listdir(folder)"
   ]
  },
  {
   "cell_type": "code",
   "execution_count": 25,
   "metadata": {
    "ExecuteTime": {
     "end_time": "2020-10-07T16:44:50.140621Z",
     "start_time": "2020-10-07T16:44:50.135887Z"
    }
   },
   "outputs": [
    {
     "data": {
      "text/plain": [
       "['data/NHANES/medications.csv',\n",
       " 'data/NHANES/diet.csv',\n",
       " 'data/NHANES/examination.csv',\n",
       " 'data/NHANES/demographic.csv',\n",
       " 'data/NHANES/labs.csv',\n",
       " 'data/NHANES/questionnaire.csv']"
      ]
     },
     "execution_count": 25,
     "metadata": {},
     "output_type": "execute_result"
    }
   ],
   "source": [
    "## Use glob to get list of csvs\n",
    "files = glob.glob(folder+'*.csv')\n",
    "files"
   ]
  },
  {
   "cell_type": "code",
   "execution_count": 26,
   "metadata": {
    "ExecuteTime": {
     "end_time": "2020-10-07T16:47:19.676003Z",
     "start_time": "2020-10-07T16:47:17.574642Z"
    }
   },
   "outputs": [
    {
     "data": {
      "text/html": [
       "<div>\n",
       "<style scoped>\n",
       "    .dataframe tbody tr th:only-of-type {\n",
       "        vertical-align: middle;\n",
       "    }\n",
       "\n",
       "    .dataframe tbody tr th {\n",
       "        vertical-align: top;\n",
       "    }\n",
       "\n",
       "    .dataframe thead th {\n",
       "        text-align: right;\n",
       "    }\n",
       "</style>\n",
       "<table border=\"1\" class=\"dataframe\">\n",
       "  <thead>\n",
       "    <tr style=\"text-align: right;\">\n",
       "      <th></th>\n",
       "      <th>WTDRD1</th>\n",
       "      <th>WTDR2D</th>\n",
       "      <th>DR1DRSTZ</th>\n",
       "      <th>DR1EXMER</th>\n",
       "      <th>DRABF</th>\n",
       "      <th>DRDINT</th>\n",
       "      <th>DR1DBIH</th>\n",
       "      <th>DR1DAY</th>\n",
       "      <th>DR1LANG</th>\n",
       "      <th>DR1MNRSP</th>\n",
       "      <th>...</th>\n",
       "      <th>WHD080U</th>\n",
       "      <th>WHD080L</th>\n",
       "      <th>WHD110</th>\n",
       "      <th>WHD120</th>\n",
       "      <th>WHD130</th>\n",
       "      <th>WHD140</th>\n",
       "      <th>WHQ150</th>\n",
       "      <th>WHQ030M</th>\n",
       "      <th>WHQ500</th>\n",
       "      <th>WHQ520</th>\n",
       "    </tr>\n",
       "    <tr>\n",
       "      <th>SEQN</th>\n",
       "      <th></th>\n",
       "      <th></th>\n",
       "      <th></th>\n",
       "      <th></th>\n",
       "      <th></th>\n",
       "      <th></th>\n",
       "      <th></th>\n",
       "      <th></th>\n",
       "      <th></th>\n",
       "      <th></th>\n",
       "      <th></th>\n",
       "      <th></th>\n",
       "      <th></th>\n",
       "      <th></th>\n",
       "      <th></th>\n",
       "      <th></th>\n",
       "      <th></th>\n",
       "      <th></th>\n",
       "      <th></th>\n",
       "      <th></th>\n",
       "      <th></th>\n",
       "    </tr>\n",
       "  </thead>\n",
       "  <tbody>\n",
       "    <tr>\n",
       "      <th>73557</th>\n",
       "      <td>16888.327864</td>\n",
       "      <td>12930.890649</td>\n",
       "      <td>1.0</td>\n",
       "      <td>49.0</td>\n",
       "      <td>2.0</td>\n",
       "      <td>2.0</td>\n",
       "      <td>6.0</td>\n",
       "      <td>2.0</td>\n",
       "      <td>1.0</td>\n",
       "      <td>1.0</td>\n",
       "      <td>...</td>\n",
       "      <td>NaN</td>\n",
       "      <td>40.0</td>\n",
       "      <td>270.0</td>\n",
       "      <td>200.0</td>\n",
       "      <td>69.0</td>\n",
       "      <td>270.0</td>\n",
       "      <td>62.0</td>\n",
       "      <td>NaN</td>\n",
       "      <td>NaN</td>\n",
       "      <td>NaN</td>\n",
       "    </tr>\n",
       "    <tr>\n",
       "      <th>73558</th>\n",
       "      <td>17932.143865</td>\n",
       "      <td>12684.148869</td>\n",
       "      <td>1.0</td>\n",
       "      <td>59.0</td>\n",
       "      <td>2.0</td>\n",
       "      <td>2.0</td>\n",
       "      <td>4.0</td>\n",
       "      <td>1.0</td>\n",
       "      <td>1.0</td>\n",
       "      <td>1.0</td>\n",
       "      <td>...</td>\n",
       "      <td>NaN</td>\n",
       "      <td>NaN</td>\n",
       "      <td>240.0</td>\n",
       "      <td>250.0</td>\n",
       "      <td>72.0</td>\n",
       "      <td>250.0</td>\n",
       "      <td>25.0</td>\n",
       "      <td>NaN</td>\n",
       "      <td>NaN</td>\n",
       "      <td>NaN</td>\n",
       "    </tr>\n",
       "    <tr>\n",
       "      <th>73559</th>\n",
       "      <td>59641.812930</td>\n",
       "      <td>39394.236709</td>\n",
       "      <td>1.0</td>\n",
       "      <td>49.0</td>\n",
       "      <td>2.0</td>\n",
       "      <td>2.0</td>\n",
       "      <td>18.0</td>\n",
       "      <td>6.0</td>\n",
       "      <td>1.0</td>\n",
       "      <td>1.0</td>\n",
       "      <td>...</td>\n",
       "      <td>NaN</td>\n",
       "      <td>NaN</td>\n",
       "      <td>180.0</td>\n",
       "      <td>190.0</td>\n",
       "      <td>70.0</td>\n",
       "      <td>228.0</td>\n",
       "      <td>35.0</td>\n",
       "      <td>NaN</td>\n",
       "      <td>NaN</td>\n",
       "      <td>NaN</td>\n",
       "    </tr>\n",
       "    <tr>\n",
       "      <th>73560</th>\n",
       "      <td>142203.069917</td>\n",
       "      <td>125966.366442</td>\n",
       "      <td>1.0</td>\n",
       "      <td>54.0</td>\n",
       "      <td>2.0</td>\n",
       "      <td>2.0</td>\n",
       "      <td>21.0</td>\n",
       "      <td>3.0</td>\n",
       "      <td>1.0</td>\n",
       "      <td>1.0</td>\n",
       "      <td>...</td>\n",
       "      <td>NaN</td>\n",
       "      <td>NaN</td>\n",
       "      <td>NaN</td>\n",
       "      <td>NaN</td>\n",
       "      <td>NaN</td>\n",
       "      <td>NaN</td>\n",
       "      <td>NaN</td>\n",
       "      <td>3.0</td>\n",
       "      <td>3.0</td>\n",
       "      <td>3.0</td>\n",
       "    </tr>\n",
       "    <tr>\n",
       "      <th>73561</th>\n",
       "      <td>59052.357033</td>\n",
       "      <td>39004.892993</td>\n",
       "      <td>1.0</td>\n",
       "      <td>63.0</td>\n",
       "      <td>2.0</td>\n",
       "      <td>2.0</td>\n",
       "      <td>18.0</td>\n",
       "      <td>1.0</td>\n",
       "      <td>1.0</td>\n",
       "      <td>1.0</td>\n",
       "      <td>...</td>\n",
       "      <td>NaN</td>\n",
       "      <td>NaN</td>\n",
       "      <td>150.0</td>\n",
       "      <td>135.0</td>\n",
       "      <td>67.0</td>\n",
       "      <td>170.0</td>\n",
       "      <td>60.0</td>\n",
       "      <td>NaN</td>\n",
       "      <td>NaN</td>\n",
       "      <td>NaN</td>\n",
       "    </tr>\n",
       "  </tbody>\n",
       "</table>\n",
       "<p>5 rows × 1811 columns</p>\n",
       "</div>"
      ],
      "text/plain": [
       "              WTDRD1         WTDR2D  DR1DRSTZ  DR1EXMER  DRABF  DRDINT  \\\n",
       "SEQN                                                                     \n",
       "73557   16888.327864   12930.890649       1.0      49.0    2.0     2.0   \n",
       "73558   17932.143865   12684.148869       1.0      59.0    2.0     2.0   \n",
       "73559   59641.812930   39394.236709       1.0      49.0    2.0     2.0   \n",
       "73560  142203.069917  125966.366442       1.0      54.0    2.0     2.0   \n",
       "73561   59052.357033   39004.892993       1.0      63.0    2.0     2.0   \n",
       "\n",
       "       DR1DBIH  DR1DAY  DR1LANG  DR1MNRSP  ...  WHD080U  WHD080L  WHD110  \\\n",
       "SEQN                                       ...                             \n",
       "73557      6.0     2.0      1.0       1.0  ...      NaN     40.0   270.0   \n",
       "73558      4.0     1.0      1.0       1.0  ...      NaN      NaN   240.0   \n",
       "73559     18.0     6.0      1.0       1.0  ...      NaN      NaN   180.0   \n",
       "73560     21.0     3.0      1.0       1.0  ...      NaN      NaN     NaN   \n",
       "73561     18.0     1.0      1.0       1.0  ...      NaN      NaN   150.0   \n",
       "\n",
       "       WHD120  WHD130  WHD140  WHQ150  WHQ030M  WHQ500  WHQ520  \n",
       "SEQN                                                            \n",
       "73557   200.0    69.0   270.0    62.0      NaN     NaN     NaN  \n",
       "73558   250.0    72.0   250.0    25.0      NaN     NaN     NaN  \n",
       "73559   190.0    70.0   228.0    35.0      NaN     NaN     NaN  \n",
       "73560     NaN     NaN     NaN     NaN      3.0     3.0     3.0  \n",
       "73561   135.0    67.0   170.0    60.0      NaN     NaN     NaN  \n",
       "\n",
       "[5 rows x 1811 columns]"
      ]
     },
     "execution_count": 26,
     "metadata": {},
     "output_type": "execute_result"
    }
   ],
   "source": [
    "## Load in all CSVs combined \n",
    "df = pd.concat([pd.read_csv(file, index_col='SEQN') for file in files[1:]],axis=1)\n",
    "df.head()"
   ]
  },
  {
   "cell_type": "code",
   "execution_count": 27,
   "metadata": {},
   "outputs": [
    {
     "data": {
      "text/plain": [
       "(10175, 1811)"
      ]
     },
     "execution_count": 27,
     "metadata": {},
     "output_type": "execute_result"
    }
   ],
   "source": [
    "df.shape"
   ]
  },
  {
   "cell_type": "markdown",
   "metadata": {},
   "source": [
    "## Data Processing\n",
    "\n",
    "### First: need to explore and define our column groups"
   ]
  },
  {
   "cell_type": "code",
   "execution_count": 28,
   "metadata": {
    "ExecuteTime": {
     "end_time": "2020-10-07T16:51:57.260872Z",
     "start_time": "2020-10-07T16:51:56.637884Z"
    }
   },
   "outputs": [],
   "source": [
    "# Some columns are mostly null data - let's explore\n",
    "num_rows = len(df)\n",
    "high_null_cols = []\n",
    "\n",
    "for column in df.columns:\n",
    "    num_nulls = df[column].isna().sum()\n",
    "    perc_nulls = num_nulls / num_rows\n",
    "    if perc_nulls > .75:\n",
    "        high_null_cols.append(column)"
   ]
  },
  {
   "cell_type": "code",
   "execution_count": 29,
   "metadata": {
    "scrolled": false
   },
   "outputs": [
    {
     "data": {
      "text/plain": [
       "848"
      ]
     },
     "execution_count": 29,
     "metadata": {},
     "output_type": "execute_result"
    }
   ],
   "source": [
    "len(high_null_cols)"
   ]
  },
  {
   "cell_type": "code",
   "execution_count": 30,
   "metadata": {
    "ExecuteTime": {
     "end_time": "2020-10-07T16:49:19.268359Z",
     "start_time": "2020-10-07T16:49:19.019988Z"
    }
   },
   "outputs": [
    {
     "data": {
      "text/plain": [
       "['OHX02CTC',\n",
       " 'OHX03CTC',\n",
       " 'OHX04CTC',\n",
       " 'OHX05CTC',\n",
       " 'OHX06CTC',\n",
       " 'OHX07CTC',\n",
       " 'OHX08CTC',\n",
       " 'OHX09CTC',\n",
       " 'OHX10CTC',\n",
       " 'OHX11CTC',\n",
       " 'OHX12CTC',\n",
       " 'OHX13CTC',\n",
       " 'OHX14CTC',\n",
       " 'OHX15CTC',\n",
       " 'OHX18CTC',\n",
       " 'OHX19CTC',\n",
       " 'OHX20CTC',\n",
       " 'OHX21CTC',\n",
       " 'OHX22CTC',\n",
       " 'OHX23CTC',\n",
       " 'OHX24CTC',\n",
       " 'OHX25CTC',\n",
       " 'OHX26CTC',\n",
       " 'OHX27CTC',\n",
       " 'OHX28CTC',\n",
       " 'OHX29CTC',\n",
       " 'OHX30CTC',\n",
       " 'OHX31CTC',\n",
       " 'CSXTSEQ']"
      ]
     },
     "execution_count": 30,
     "metadata": {},
     "output_type": "execute_result"
    }
   ],
   "source": [
    "# Get a list of categorical columns \n",
    "cat_cols = [c for c in df.select_dtypes('object').columns if c not in high_null_cols]\n",
    "cat_cols"
   ]
  },
  {
   "cell_type": "code",
   "execution_count": 34,
   "metadata": {},
   "outputs": [
    {
     "data": {
      "text/html": [
       "<div>\n",
       "<style scoped>\n",
       "    .dataframe tbody tr th:only-of-type {\n",
       "        vertical-align: middle;\n",
       "    }\n",
       "\n",
       "    .dataframe tbody tr th {\n",
       "        vertical-align: top;\n",
       "    }\n",
       "\n",
       "    .dataframe thead th {\n",
       "        text-align: right;\n",
       "    }\n",
       "</style>\n",
       "<table border=\"1\" class=\"dataframe\">\n",
       "  <thead>\n",
       "    <tr style=\"text-align: right;\">\n",
       "      <th></th>\n",
       "      <th>DR1SKY</th>\n",
       "      <th>DRQSDT1</th>\n",
       "      <th>DRQSDT2</th>\n",
       "      <th>DRQSDT3</th>\n",
       "      <th>DRQSDT4</th>\n",
       "      <th>DRQSDT5</th>\n",
       "      <th>DRQSDT6</th>\n",
       "      <th>DRQSDT7</th>\n",
       "      <th>DRQSDT8</th>\n",
       "      <th>DRQSDT9</th>\n",
       "      <th>...</th>\n",
       "      <th>WHD080P</th>\n",
       "      <th>WHD080Q</th>\n",
       "      <th>WHD080R</th>\n",
       "      <th>WHD080S</th>\n",
       "      <th>WHD080T</th>\n",
       "      <th>WHD080U</th>\n",
       "      <th>WHD080L</th>\n",
       "      <th>WHQ030M</th>\n",
       "      <th>WHQ500</th>\n",
       "      <th>WHQ520</th>\n",
       "    </tr>\n",
       "  </thead>\n",
       "  <tbody>\n",
       "    <tr>\n",
       "      <th>count</th>\n",
       "      <td>1448.000000</td>\n",
       "      <td>523.0</td>\n",
       "      <td>131.0</td>\n",
       "      <td>121.0</td>\n",
       "      <td>37.0</td>\n",
       "      <td>0.0</td>\n",
       "      <td>4.0</td>\n",
       "      <td>146.0</td>\n",
       "      <td>34.0</td>\n",
       "      <td>67.0</td>\n",
       "      <td>...</td>\n",
       "      <td>19.0</td>\n",
       "      <td>1121.0</td>\n",
       "      <td>1022.0</td>\n",
       "      <td>943.0</td>\n",
       "      <td>996.0</td>\n",
       "      <td>15.0</td>\n",
       "      <td>29.0</td>\n",
       "      <td>1478.000000</td>\n",
       "      <td>1478.000000</td>\n",
       "      <td>1478.000000</td>\n",
       "    </tr>\n",
       "    <tr>\n",
       "      <th>mean</th>\n",
       "      <td>2.180249</td>\n",
       "      <td>1.0</td>\n",
       "      <td>2.0</td>\n",
       "      <td>3.0</td>\n",
       "      <td>4.0</td>\n",
       "      <td>NaN</td>\n",
       "      <td>6.0</td>\n",
       "      <td>7.0</td>\n",
       "      <td>8.0</td>\n",
       "      <td>9.0</td>\n",
       "      <td>...</td>\n",
       "      <td>42.0</td>\n",
       "      <td>43.0</td>\n",
       "      <td>44.0</td>\n",
       "      <td>45.0</td>\n",
       "      <td>46.0</td>\n",
       "      <td>35.0</td>\n",
       "      <td>40.0</td>\n",
       "      <td>2.583221</td>\n",
       "      <td>2.299729</td>\n",
       "      <td>1.746955</td>\n",
       "    </tr>\n",
       "    <tr>\n",
       "      <th>std</th>\n",
       "      <td>10.243948</td>\n",
       "      <td>0.0</td>\n",
       "      <td>0.0</td>\n",
       "      <td>0.0</td>\n",
       "      <td>0.0</td>\n",
       "      <td>NaN</td>\n",
       "      <td>0.0</td>\n",
       "      <td>0.0</td>\n",
       "      <td>0.0</td>\n",
       "      <td>0.0</td>\n",
       "      <td>...</td>\n",
       "      <td>0.0</td>\n",
       "      <td>0.0</td>\n",
       "      <td>0.0</td>\n",
       "      <td>0.0</td>\n",
       "      <td>0.0</td>\n",
       "      <td>0.0</td>\n",
       "      <td>0.0</td>\n",
       "      <td>0.784612</td>\n",
       "      <td>1.213281</td>\n",
       "      <td>0.709430</td>\n",
       "    </tr>\n",
       "    <tr>\n",
       "      <th>min</th>\n",
       "      <td>1.000000</td>\n",
       "      <td>1.0</td>\n",
       "      <td>2.0</td>\n",
       "      <td>3.0</td>\n",
       "      <td>4.0</td>\n",
       "      <td>NaN</td>\n",
       "      <td>6.0</td>\n",
       "      <td>7.0</td>\n",
       "      <td>8.0</td>\n",
       "      <td>9.0</td>\n",
       "      <td>...</td>\n",
       "      <td>42.0</td>\n",
       "      <td>43.0</td>\n",
       "      <td>44.0</td>\n",
       "      <td>45.0</td>\n",
       "      <td>46.0</td>\n",
       "      <td>35.0</td>\n",
       "      <td>40.0</td>\n",
       "      <td>1.000000</td>\n",
       "      <td>1.000000</td>\n",
       "      <td>1.000000</td>\n",
       "    </tr>\n",
       "    <tr>\n",
       "      <th>25%</th>\n",
       "      <td>1.000000</td>\n",
       "      <td>1.0</td>\n",
       "      <td>2.0</td>\n",
       "      <td>3.0</td>\n",
       "      <td>4.0</td>\n",
       "      <td>NaN</td>\n",
       "      <td>6.0</td>\n",
       "      <td>7.0</td>\n",
       "      <td>8.0</td>\n",
       "      <td>9.0</td>\n",
       "      <td>...</td>\n",
       "      <td>42.0</td>\n",
       "      <td>43.0</td>\n",
       "      <td>44.0</td>\n",
       "      <td>45.0</td>\n",
       "      <td>46.0</td>\n",
       "      <td>35.0</td>\n",
       "      <td>40.0</td>\n",
       "      <td>3.000000</td>\n",
       "      <td>1.000000</td>\n",
       "      <td>1.000000</td>\n",
       "    </tr>\n",
       "    <tr>\n",
       "      <th>50%</th>\n",
       "      <td>1.000000</td>\n",
       "      <td>1.0</td>\n",
       "      <td>2.0</td>\n",
       "      <td>3.0</td>\n",
       "      <td>4.0</td>\n",
       "      <td>NaN</td>\n",
       "      <td>6.0</td>\n",
       "      <td>7.0</td>\n",
       "      <td>8.0</td>\n",
       "      <td>9.0</td>\n",
       "      <td>...</td>\n",
       "      <td>42.0</td>\n",
       "      <td>43.0</td>\n",
       "      <td>44.0</td>\n",
       "      <td>45.0</td>\n",
       "      <td>46.0</td>\n",
       "      <td>35.0</td>\n",
       "      <td>40.0</td>\n",
       "      <td>3.000000</td>\n",
       "      <td>2.000000</td>\n",
       "      <td>2.000000</td>\n",
       "    </tr>\n",
       "    <tr>\n",
       "      <th>75%</th>\n",
       "      <td>1.000000</td>\n",
       "      <td>1.0</td>\n",
       "      <td>2.0</td>\n",
       "      <td>3.0</td>\n",
       "      <td>4.0</td>\n",
       "      <td>NaN</td>\n",
       "      <td>6.0</td>\n",
       "      <td>7.0</td>\n",
       "      <td>8.0</td>\n",
       "      <td>9.0</td>\n",
       "      <td>...</td>\n",
       "      <td>42.0</td>\n",
       "      <td>43.0</td>\n",
       "      <td>44.0</td>\n",
       "      <td>45.0</td>\n",
       "      <td>46.0</td>\n",
       "      <td>35.0</td>\n",
       "      <td>40.0</td>\n",
       "      <td>3.000000</td>\n",
       "      <td>3.000000</td>\n",
       "      <td>2.000000</td>\n",
       "    </tr>\n",
       "    <tr>\n",
       "      <th>max</th>\n",
       "      <td>99.000000</td>\n",
       "      <td>1.0</td>\n",
       "      <td>2.0</td>\n",
       "      <td>3.0</td>\n",
       "      <td>4.0</td>\n",
       "      <td>NaN</td>\n",
       "      <td>6.0</td>\n",
       "      <td>7.0</td>\n",
       "      <td>8.0</td>\n",
       "      <td>9.0</td>\n",
       "      <td>...</td>\n",
       "      <td>42.0</td>\n",
       "      <td>43.0</td>\n",
       "      <td>44.0</td>\n",
       "      <td>45.0</td>\n",
       "      <td>46.0</td>\n",
       "      <td>35.0</td>\n",
       "      <td>40.0</td>\n",
       "      <td>9.000000</td>\n",
       "      <td>9.000000</td>\n",
       "      <td>9.000000</td>\n",
       "    </tr>\n",
       "  </tbody>\n",
       "</table>\n",
       "<p>8 rows × 846 columns</p>\n",
       "</div>"
      ],
      "text/plain": [
       "            DR1SKY  DRQSDT1  DRQSDT2  DRQSDT3  DRQSDT4  DRQSDT5  DRQSDT6  \\\n",
       "count  1448.000000    523.0    131.0    121.0     37.0      0.0      4.0   \n",
       "mean      2.180249      1.0      2.0      3.0      4.0      NaN      6.0   \n",
       "std      10.243948      0.0      0.0      0.0      0.0      NaN      0.0   \n",
       "min       1.000000      1.0      2.0      3.0      4.0      NaN      6.0   \n",
       "25%       1.000000      1.0      2.0      3.0      4.0      NaN      6.0   \n",
       "50%       1.000000      1.0      2.0      3.0      4.0      NaN      6.0   \n",
       "75%       1.000000      1.0      2.0      3.0      4.0      NaN      6.0   \n",
       "max      99.000000      1.0      2.0      3.0      4.0      NaN      6.0   \n",
       "\n",
       "       DRQSDT7  DRQSDT8  DRQSDT9  ...  WHD080P  WHD080Q  WHD080R  WHD080S  \\\n",
       "count    146.0     34.0     67.0  ...     19.0   1121.0   1022.0    943.0   \n",
       "mean       7.0      8.0      9.0  ...     42.0     43.0     44.0     45.0   \n",
       "std        0.0      0.0      0.0  ...      0.0      0.0      0.0      0.0   \n",
       "min        7.0      8.0      9.0  ...     42.0     43.0     44.0     45.0   \n",
       "25%        7.0      8.0      9.0  ...     42.0     43.0     44.0     45.0   \n",
       "50%        7.0      8.0      9.0  ...     42.0     43.0     44.0     45.0   \n",
       "75%        7.0      8.0      9.0  ...     42.0     43.0     44.0     45.0   \n",
       "max        7.0      8.0      9.0  ...     42.0     43.0     44.0     45.0   \n",
       "\n",
       "       WHD080T  WHD080U  WHD080L      WHQ030M       WHQ500       WHQ520  \n",
       "count    996.0     15.0     29.0  1478.000000  1478.000000  1478.000000  \n",
       "mean      46.0     35.0     40.0     2.583221     2.299729     1.746955  \n",
       "std        0.0      0.0      0.0     0.784612     1.213281     0.709430  \n",
       "min       46.0     35.0     40.0     1.000000     1.000000     1.000000  \n",
       "25%       46.0     35.0     40.0     3.000000     1.000000     1.000000  \n",
       "50%       46.0     35.0     40.0     3.000000     2.000000     2.000000  \n",
       "75%       46.0     35.0     40.0     3.000000     3.000000     2.000000  \n",
       "max       46.0     35.0     40.0     9.000000     9.000000     9.000000  \n",
       "\n",
       "[8 rows x 846 columns]"
      ]
     },
     "execution_count": 34,
     "metadata": {},
     "output_type": "execute_result"
    }
   ],
   "source": [
    "df[high_null_cols].describe()"
   ]
  },
  {
   "cell_type": "code",
   "execution_count": 31,
   "metadata": {
    "scrolled": true
   },
   "outputs": [
    {
     "data": {
      "text/html": [
       "<div>\n",
       "<style scoped>\n",
       "    .dataframe tbody tr th:only-of-type {\n",
       "        vertical-align: middle;\n",
       "    }\n",
       "\n",
       "    .dataframe tbody tr th {\n",
       "        vertical-align: top;\n",
       "    }\n",
       "\n",
       "    .dataframe thead th {\n",
       "        text-align: right;\n",
       "    }\n",
       "</style>\n",
       "<table border=\"1\" class=\"dataframe\">\n",
       "  <thead>\n",
       "    <tr style=\"text-align: right;\">\n",
       "      <th></th>\n",
       "      <th>OHX02CTC</th>\n",
       "      <th>OHX03CTC</th>\n",
       "      <th>OHX04CTC</th>\n",
       "      <th>OHX05CTC</th>\n",
       "      <th>OHX06CTC</th>\n",
       "      <th>OHX07CTC</th>\n",
       "      <th>OHX08CTC</th>\n",
       "      <th>OHX09CTC</th>\n",
       "      <th>OHX10CTC</th>\n",
       "      <th>OHX11CTC</th>\n",
       "      <th>...</th>\n",
       "      <th>OHX23CTC</th>\n",
       "      <th>OHX24CTC</th>\n",
       "      <th>OHX25CTC</th>\n",
       "      <th>OHX26CTC</th>\n",
       "      <th>OHX27CTC</th>\n",
       "      <th>OHX28CTC</th>\n",
       "      <th>OHX29CTC</th>\n",
       "      <th>OHX30CTC</th>\n",
       "      <th>OHX31CTC</th>\n",
       "      <th>CSXTSEQ</th>\n",
       "    </tr>\n",
       "  </thead>\n",
       "  <tbody>\n",
       "    <tr>\n",
       "      <th>count</th>\n",
       "      <td>8965</td>\n",
       "      <td>8965</td>\n",
       "      <td>8965</td>\n",
       "      <td>8965</td>\n",
       "      <td>8965</td>\n",
       "      <td>8965</td>\n",
       "      <td>8965</td>\n",
       "      <td>8965</td>\n",
       "      <td>8965</td>\n",
       "      <td>8965</td>\n",
       "      <td>...</td>\n",
       "      <td>8965</td>\n",
       "      <td>8965</td>\n",
       "      <td>8965</td>\n",
       "      <td>8965</td>\n",
       "      <td>8965</td>\n",
       "      <td>8965</td>\n",
       "      <td>8965</td>\n",
       "      <td>8965</td>\n",
       "      <td>8965</td>\n",
       "      <td>3234</td>\n",
       "    </tr>\n",
       "    <tr>\n",
       "      <th>unique</th>\n",
       "      <td>11</td>\n",
       "      <td>12</td>\n",
       "      <td>12</td>\n",
       "      <td>14</td>\n",
       "      <td>13</td>\n",
       "      <td>14</td>\n",
       "      <td>14</td>\n",
       "      <td>14</td>\n",
       "      <td>13</td>\n",
       "      <td>13</td>\n",
       "      <td>...</td>\n",
       "      <td>12</td>\n",
       "      <td>12</td>\n",
       "      <td>13</td>\n",
       "      <td>13</td>\n",
       "      <td>12</td>\n",
       "      <td>13</td>\n",
       "      <td>13</td>\n",
       "      <td>11</td>\n",
       "      <td>11</td>\n",
       "      <td>2</td>\n",
       "    </tr>\n",
       "    <tr>\n",
       "      <th>top</th>\n",
       "      <td>S</td>\n",
       "      <td>S</td>\n",
       "      <td>S</td>\n",
       "      <td>S</td>\n",
       "      <td>S</td>\n",
       "      <td>S</td>\n",
       "      <td>S</td>\n",
       "      <td>S</td>\n",
       "      <td>S</td>\n",
       "      <td>S</td>\n",
       "      <td>...</td>\n",
       "      <td>S</td>\n",
       "      <td>S</td>\n",
       "      <td>S</td>\n",
       "      <td>S</td>\n",
       "      <td>S</td>\n",
       "      <td>S</td>\n",
       "      <td>S</td>\n",
       "      <td>Z</td>\n",
       "      <td>Z</td>\n",
       "      <td>B</td>\n",
       "    </tr>\n",
       "    <tr>\n",
       "      <th>freq</th>\n",
       "      <td>2637</td>\n",
       "      <td>3230</td>\n",
       "      <td>3777</td>\n",
       "      <td>3997</td>\n",
       "      <td>5165</td>\n",
       "      <td>5322</td>\n",
       "      <td>5473</td>\n",
       "      <td>5500</td>\n",
       "      <td>5312</td>\n",
       "      <td>5123</td>\n",
       "      <td>...</td>\n",
       "      <td>6734</td>\n",
       "      <td>6991</td>\n",
       "      <td>6964</td>\n",
       "      <td>6719</td>\n",
       "      <td>6044</td>\n",
       "      <td>5045</td>\n",
       "      <td>4148</td>\n",
       "      <td>2955</td>\n",
       "      <td>2735</td>\n",
       "      <td>1658</td>\n",
       "    </tr>\n",
       "  </tbody>\n",
       "</table>\n",
       "<p>4 rows × 29 columns</p>\n",
       "</div>"
      ],
      "text/plain": [
       "       OHX02CTC OHX03CTC OHX04CTC OHX05CTC OHX06CTC OHX07CTC OHX08CTC  \\\n",
       "count      8965     8965     8965     8965     8965     8965     8965   \n",
       "unique       11       12       12       14       13       14       14   \n",
       "top           S        S        S        S        S        S        S   \n",
       "freq       2637     3230     3777     3997     5165     5322     5473   \n",
       "\n",
       "       OHX09CTC OHX10CTC OHX11CTC  ... OHX23CTC OHX24CTC OHX25CTC OHX26CTC  \\\n",
       "count      8965     8965     8965  ...     8965     8965     8965     8965   \n",
       "unique       14       13       13  ...       12       12       13       13   \n",
       "top           S        S        S  ...        S        S        S        S   \n",
       "freq       5500     5312     5123  ...     6734     6991     6964     6719   \n",
       "\n",
       "       OHX27CTC OHX28CTC OHX29CTC OHX30CTC OHX31CTC CSXTSEQ  \n",
       "count      8965     8965     8965     8965     8965    3234  \n",
       "unique       12       13       13       11       11       2  \n",
       "top           S        S        S        Z        Z       B  \n",
       "freq       6044     5045     4148     2955     2735    1658  \n",
       "\n",
       "[4 rows x 29 columns]"
      ]
     },
     "execution_count": 31,
     "metadata": {},
     "output_type": "execute_result"
    }
   ],
   "source": [
    "df[cat_cols].describe()"
   ]
  },
  {
   "cell_type": "code",
   "execution_count": 32,
   "metadata": {},
   "outputs": [],
   "source": [
    "# Now a list of the rest of columns, which should all be numeric\n",
    "num_cols = [c for c in df.columns if c not in [*cat_cols, *high_null_cols]]"
   ]
  },
  {
   "cell_type": "code",
   "execution_count": 33,
   "metadata": {},
   "outputs": [
    {
     "data": {
      "text/plain": [
       "True"
      ]
     },
     "execution_count": 33,
     "metadata": {},
     "output_type": "execute_result"
    }
   ],
   "source": [
    "len([*num_cols, *cat_cols, *high_null_cols]) == len(df.columns)"
   ]
  },
  {
   "cell_type": "markdown",
   "metadata": {},
   "source": [
    "### Pipelines"
   ]
  },
  {
   "cell_type": "code",
   "execution_count": 35,
   "metadata": {},
   "outputs": [],
   "source": [
    "num_transformer = Pipeline(steps=[\n",
    "    ('num_imputer', SimpleImputer(strategy='median')),\n",
    "    ('scaler', MinMaxScaler())])\n",
    "\n",
    "ohe_transformer = Pipeline(steps=[\n",
    "    ('cat_imputer', SimpleImputer(strategy='constant', fill_value='Unknown')),\n",
    "    ('ohe', OneHotEncoder(handle_unknown='ignore'))])\n",
    "\n",
    "high_nulls_transformer = Pipeline(steps=[\n",
    "    ('null_indicator', MissingIndicator())])"
   ]
  },
  {
   "cell_type": "code",
   "execution_count": 36,
   "metadata": {},
   "outputs": [],
   "source": [
    "preprocessor = ColumnTransformer(\n",
    "    transformers=[\n",
    "        ('num', num_transformer, num_cols),\n",
    "        ('cat', ohe_transformer, cat_cols), \n",
    "        ('null', high_nulls_transformer, high_null_cols)])"
   ]
  },
  {
   "cell_type": "code",
   "execution_count": 37,
   "metadata": {
    "ExecuteTime": {
     "end_time": "2020-10-07T17:00:17.651700Z",
     "start_time": "2020-10-07T17:00:15.482792Z"
    }
   },
   "outputs": [],
   "source": [
    "# Fit transform df\n",
    "data = pd.DataFrame(preprocessor.fit_transform(df))"
   ]
  },
  {
   "cell_type": "code",
   "execution_count": 38,
   "metadata": {
    "ExecuteTime": {
     "end_time": "2020-10-07T17:00:18.121116Z",
     "start_time": "2020-10-07T17:00:17.653566Z"
    },
    "scrolled": true
   },
   "outputs": [
    {
     "data": {
      "text/plain": [
       "(10175, 2162)"
      ]
     },
     "execution_count": 38,
     "metadata": {},
     "output_type": "execute_result"
    }
   ],
   "source": [
    "data.shape"
   ]
  },
  {
   "cell_type": "markdown",
   "metadata": {},
   "source": [
    "#### Add PCA!"
   ]
  },
  {
   "cell_type": "code",
   "execution_count": 39,
   "metadata": {
    "ExecuteTime": {
     "end_time": "2020-10-07T17:01:37.313799Z",
     "start_time": "2020-10-07T17:01:37.310798Z"
    }
   },
   "outputs": [],
   "source": [
    "# Define how many components to use\n",
    "n_components = 11\n",
    "\n",
    "# Create a pipeline with your preprocessor and a PCA object\n",
    "pipe = Pipeline(steps=[\n",
    "    ('preprocessor', preprocessor),\n",
    "    ('pca', PCA(n_components=n_components))\n",
    "])"
   ]
  },
  {
   "cell_type": "code",
   "execution_count": 40,
   "metadata": {
    "ExecuteTime": {
     "end_time": "2020-10-07T17:02:28.401180Z",
     "start_time": "2020-10-07T17:02:25.277206Z"
    }
   },
   "outputs": [
    {
     "data": {
      "text/plain": [
       "(10175, 11)"
      ]
     },
     "execution_count": 40,
     "metadata": {},
     "output_type": "execute_result"
    }
   ],
   "source": [
    "# Extract the Principal Components from the pipeline \n",
    "# First - fit and transform your data using your pipeline\n",
    "pc_data = pipe.fit_transform(df)\n",
    "\n",
    "# Verify the # of features\n",
    "pc_data.shape"
   ]
  },
  {
   "cell_type": "code",
   "execution_count": 41,
   "metadata": {
    "ExecuteTime": {
     "end_time": "2020-10-07T17:05:07.172178Z",
     "start_time": "2020-10-07T17:05:07.168424Z"
    }
   },
   "outputs": [],
   "source": [
    "# Let's name these components\n",
    "feature_names = [f\"PC{n}\" for n in range(1, n_components+1)]"
   ]
  },
  {
   "cell_type": "code",
   "execution_count": 42,
   "metadata": {
    "ExecuteTime": {
     "end_time": "2020-10-07T17:05:26.786010Z",
     "start_time": "2020-10-07T17:05:26.757654Z"
    }
   },
   "outputs": [
    {
     "data": {
      "text/html": [
       "<div>\n",
       "<style scoped>\n",
       "    .dataframe tbody tr th:only-of-type {\n",
       "        vertical-align: middle;\n",
       "    }\n",
       "\n",
       "    .dataframe tbody tr th {\n",
       "        vertical-align: top;\n",
       "    }\n",
       "\n",
       "    .dataframe thead th {\n",
       "        text-align: right;\n",
       "    }\n",
       "</style>\n",
       "<table border=\"1\" class=\"dataframe\">\n",
       "  <thead>\n",
       "    <tr style=\"text-align: right;\">\n",
       "      <th></th>\n",
       "      <th>PC1</th>\n",
       "      <th>PC2</th>\n",
       "      <th>PC3</th>\n",
       "      <th>PC4</th>\n",
       "      <th>PC5</th>\n",
       "      <th>PC6</th>\n",
       "      <th>PC7</th>\n",
       "      <th>PC8</th>\n",
       "      <th>PC9</th>\n",
       "      <th>PC10</th>\n",
       "      <th>PC11</th>\n",
       "    </tr>\n",
       "  </thead>\n",
       "  <tbody>\n",
       "    <tr>\n",
       "      <th>0</th>\n",
       "      <td>-1.444760</td>\n",
       "      <td>0.062726</td>\n",
       "      <td>5.371685</td>\n",
       "      <td>-2.163971</td>\n",
       "      <td>-1.361499</td>\n",
       "      <td>-0.662249</td>\n",
       "      <td>3.109942</td>\n",
       "      <td>-1.941349</td>\n",
       "      <td>-2.742614</td>\n",
       "      <td>-0.124725</td>\n",
       "      <td>-3.061041</td>\n",
       "    </tr>\n",
       "    <tr>\n",
       "      <th>1</th>\n",
       "      <td>2.458966</td>\n",
       "      <td>6.418345</td>\n",
       "      <td>1.542705</td>\n",
       "      <td>1.363692</td>\n",
       "      <td>-1.869112</td>\n",
       "      <td>-0.939416</td>\n",
       "      <td>1.545694</td>\n",
       "      <td>1.113180</td>\n",
       "      <td>-1.244247</td>\n",
       "      <td>-3.679200</td>\n",
       "      <td>-0.475175</td>\n",
       "    </tr>\n",
       "    <tr>\n",
       "      <th>2</th>\n",
       "      <td>0.360770</td>\n",
       "      <td>0.277832</td>\n",
       "      <td>2.732029</td>\n",
       "      <td>-3.105924</td>\n",
       "      <td>-0.728588</td>\n",
       "      <td>-1.511496</td>\n",
       "      <td>-2.221117</td>\n",
       "      <td>-0.460325</td>\n",
       "      <td>-1.164667</td>\n",
       "      <td>-3.029197</td>\n",
       "      <td>-0.840324</td>\n",
       "    </tr>\n",
       "    <tr>\n",
       "      <th>3</th>\n",
       "      <td>-3.393447</td>\n",
       "      <td>-0.611855</td>\n",
       "      <td>-2.284848</td>\n",
       "      <td>-1.188195</td>\n",
       "      <td>-0.695225</td>\n",
       "      <td>-1.447118</td>\n",
       "      <td>0.705389</td>\n",
       "      <td>2.262285</td>\n",
       "      <td>-0.978725</td>\n",
       "      <td>1.018551</td>\n",
       "      <td>0.430615</td>\n",
       "    </tr>\n",
       "    <tr>\n",
       "      <th>4</th>\n",
       "      <td>-0.385730</td>\n",
       "      <td>-0.959989</td>\n",
       "      <td>4.543877</td>\n",
       "      <td>-2.397694</td>\n",
       "      <td>-1.654590</td>\n",
       "      <td>-1.428131</td>\n",
       "      <td>-0.710103</td>\n",
       "      <td>0.170752</td>\n",
       "      <td>0.804534</td>\n",
       "      <td>-0.058610</td>\n",
       "      <td>0.290546</td>\n",
       "    </tr>\n",
       "  </tbody>\n",
       "</table>\n",
       "</div>"
      ],
      "text/plain": [
       "        PC1       PC2       PC3       PC4       PC5       PC6       PC7  \\\n",
       "0 -1.444760  0.062726  5.371685 -2.163971 -1.361499 -0.662249  3.109942   \n",
       "1  2.458966  6.418345  1.542705  1.363692 -1.869112 -0.939416  1.545694   \n",
       "2  0.360770  0.277832  2.732029 -3.105924 -0.728588 -1.511496 -2.221117   \n",
       "3 -3.393447 -0.611855 -2.284848 -1.188195 -0.695225 -1.447118  0.705389   \n",
       "4 -0.385730 -0.959989  4.543877 -2.397694 -1.654590 -1.428131 -0.710103   \n",
       "\n",
       "        PC8       PC9      PC10      PC11  \n",
       "0 -1.941349 -2.742614 -0.124725 -3.061041  \n",
       "1  1.113180 -1.244247 -3.679200 -0.475175  \n",
       "2 -0.460325 -1.164667 -3.029197 -0.840324  \n",
       "3  2.262285 -0.978725  1.018551  0.430615  \n",
       "4  0.170752  0.804534 -0.058610  0.290546  "
      ]
     },
     "execution_count": 42,
     "metadata": {},
     "output_type": "execute_result"
    }
   ],
   "source": [
    "# Add the column names and check out the PC data as a dataframe\n",
    "df_pca = pd.DataFrame(pc_data, columns=feature_names)\n",
    "df_pca.head()"
   ]
  },
  {
   "cell_type": "code",
   "execution_count": 44,
   "metadata": {},
   "outputs": [
    {
     "data": {
      "text/plain": [
       "PCA(n_components=11)"
      ]
     },
     "execution_count": 44,
     "metadata": {},
     "output_type": "execute_result"
    }
   ],
   "source": [
    "pipe.named_steps['pca']"
   ]
  },
  {
   "cell_type": "code",
   "execution_count": 45,
   "metadata": {},
   "outputs": [
    {
     "data": {
      "text/plain": [
       "array([0.13662876, 0.11322679, 0.06465982, 0.04895405, 0.04169832,\n",
       "       0.03248961, 0.02340163, 0.01826372, 0.01634478, 0.01462953,\n",
       "       0.01079125])"
      ]
     },
     "execution_count": 45,
     "metadata": {},
     "output_type": "execute_result"
    }
   ],
   "source": [
    "# Grab the PCA part of the Pipeline - it's a named step!\n",
    "pca = pipe.named_steps['pca']\n",
    "\n",
    "# Can use that to explore the explained varaince\n",
    "pca.explained_variance_ratio_"
   ]
  },
  {
   "cell_type": "code",
   "execution_count": 46,
   "metadata": {
    "ExecuteTime": {
     "end_time": "2020-10-07T17:07:43.347953Z",
     "start_time": "2020-10-07T17:07:43.167381Z"
    }
   },
   "outputs": [
    {
     "name": "stdout",
     "output_type": "stream",
     "text": [
      "0.5210882473691668\n"
     ]
    },
    {
     "data": {
      "image/png": "[encoded data removed]",
      "text/plain": [
       "<Figure size 432x288 with 1 Axes>"
      ]
     },
     "metadata": {
      "needs_background": "light"
     },
     "output_type": "display_data"
    }
   ],
   "source": [
    "# Check how much variance is explained by all of our PCs\n",
    "explained_var = pd.Series(pca.explained_variance_ratio_, index=feature_names)\n",
    "explained_var.sort_values().plot(kind='barh')\n",
    "plt.xlabel(\"Percentage of Explained Variance\")\n",
    "print(explained_var.sum())"
   ]
  },
  {
   "cell_type": "markdown",
   "metadata": {},
   "source": [
    "How much of the total variance do these contain?\n",
    "\n",
    "- 52% is captured by the 11 pieces \n"
   ]
  },
  {
   "cell_type": "code",
   "execution_count": 51,
   "metadata": {},
   "outputs": [],
   "source": [
    "pipe2 = Pipeline(steps=[\n",
    "    ('preprocessor', preprocessor),\n",
    "    ('pca_perc', PCA(n_components=.82))\n",
    "])\n",
    "\n",
    "pca_v2 = pipe2.fit_transform(df)"
   ]
  },
  {
   "cell_type": "code",
   "execution_count": 52,
   "metadata": {},
   "outputs": [
    {
     "data": {
      "text/plain": [
       "(10175, 126)"
      ]
     },
     "execution_count": 52,
     "metadata": {},
     "output_type": "execute_result"
    }
   ],
   "source": [
    "pca_v2.shape"
   ]
  },
  {
   "cell_type": "markdown",
   "metadata": {},
   "source": [
    "### So what did we capture?"
   ]
  },
  {
   "cell_type": "code",
   "execution_count": 47,
   "metadata": {},
   "outputs": [
    {
     "data": {
      "text/html": [
       "<div>\n",
       "<style scoped>\n",
       "    .dataframe tbody tr th:only-of-type {\n",
       "        vertical-align: middle;\n",
       "    }\n",
       "\n",
       "    .dataframe tbody tr th {\n",
       "        vertical-align: top;\n",
       "    }\n",
       "\n",
       "    .dataframe thead th {\n",
       "        text-align: right;\n",
       "    }\n",
       "</style>\n",
       "<table border=\"1\" class=\"dataframe\">\n",
       "  <thead>\n",
       "    <tr style=\"text-align: right;\">\n",
       "      <th></th>\n",
       "      <th>PC1</th>\n",
       "      <th>PC2</th>\n",
       "      <th>PC3</th>\n",
       "      <th>PC4</th>\n",
       "      <th>PC5</th>\n",
       "      <th>PC6</th>\n",
       "      <th>PC7</th>\n",
       "      <th>PC8</th>\n",
       "      <th>PC9</th>\n",
       "      <th>PC10</th>\n",
       "      <th>PC11</th>\n",
       "    </tr>\n",
       "  </thead>\n",
       "  <tbody>\n",
       "    <tr>\n",
       "      <th>0</th>\n",
       "      <td>-1.444760</td>\n",
       "      <td>0.062726</td>\n",
       "      <td>5.371685</td>\n",
       "      <td>-2.163971</td>\n",
       "      <td>-1.361499</td>\n",
       "      <td>-0.662249</td>\n",
       "      <td>3.109942</td>\n",
       "      <td>-1.941349</td>\n",
       "      <td>-2.742614</td>\n",
       "      <td>-0.124725</td>\n",
       "      <td>-3.061041</td>\n",
       "    </tr>\n",
       "    <tr>\n",
       "      <th>1</th>\n",
       "      <td>2.458966</td>\n",
       "      <td>6.418345</td>\n",
       "      <td>1.542705</td>\n",
       "      <td>1.363692</td>\n",
       "      <td>-1.869112</td>\n",
       "      <td>-0.939416</td>\n",
       "      <td>1.545694</td>\n",
       "      <td>1.113180</td>\n",
       "      <td>-1.244247</td>\n",
       "      <td>-3.679200</td>\n",
       "      <td>-0.475175</td>\n",
       "    </tr>\n",
       "    <tr>\n",
       "      <th>2</th>\n",
       "      <td>0.360770</td>\n",
       "      <td>0.277832</td>\n",
       "      <td>2.732029</td>\n",
       "      <td>-3.105924</td>\n",
       "      <td>-0.728588</td>\n",
       "      <td>-1.511496</td>\n",
       "      <td>-2.221117</td>\n",
       "      <td>-0.460325</td>\n",
       "      <td>-1.164667</td>\n",
       "      <td>-3.029197</td>\n",
       "      <td>-0.840324</td>\n",
       "    </tr>\n",
       "    <tr>\n",
       "      <th>3</th>\n",
       "      <td>-3.393447</td>\n",
       "      <td>-0.611855</td>\n",
       "      <td>-2.284848</td>\n",
       "      <td>-1.188195</td>\n",
       "      <td>-0.695225</td>\n",
       "      <td>-1.447118</td>\n",
       "      <td>0.705389</td>\n",
       "      <td>2.262285</td>\n",
       "      <td>-0.978725</td>\n",
       "      <td>1.018551</td>\n",
       "      <td>0.430615</td>\n",
       "    </tr>\n",
       "    <tr>\n",
       "      <th>4</th>\n",
       "      <td>-0.385730</td>\n",
       "      <td>-0.959989</td>\n",
       "      <td>4.543877</td>\n",
       "      <td>-2.397694</td>\n",
       "      <td>-1.654590</td>\n",
       "      <td>-1.428131</td>\n",
       "      <td>-0.710103</td>\n",
       "      <td>0.170752</td>\n",
       "      <td>0.804534</td>\n",
       "      <td>-0.058610</td>\n",
       "      <td>0.290546</td>\n",
       "    </tr>\n",
       "    <tr>\n",
       "      <th>...</th>\n",
       "      <td>...</td>\n",
       "      <td>...</td>\n",
       "      <td>...</td>\n",
       "      <td>...</td>\n",
       "      <td>...</td>\n",
       "      <td>...</td>\n",
       "      <td>...</td>\n",
       "      <td>...</td>\n",
       "      <td>...</td>\n",
       "      <td>...</td>\n",
       "      <td>...</td>\n",
       "    </tr>\n",
       "    <tr>\n",
       "      <th>10170</th>\n",
       "      <td>1.069354</td>\n",
       "      <td>5.420934</td>\n",
       "      <td>-1.557212</td>\n",
       "      <td>0.938435</td>\n",
       "      <td>0.537694</td>\n",
       "      <td>-0.451399</td>\n",
       "      <td>-0.207461</td>\n",
       "      <td>-1.432931</td>\n",
       "      <td>-0.536984</td>\n",
       "      <td>1.663946</td>\n",
       "      <td>0.089143</td>\n",
       "    </tr>\n",
       "    <tr>\n",
       "      <th>10171</th>\n",
       "      <td>-4.996754</td>\n",
       "      <td>-1.405603</td>\n",
       "      <td>-0.107241</td>\n",
       "      <td>2.209427</td>\n",
       "      <td>-2.355092</td>\n",
       "      <td>0.965557</td>\n",
       "      <td>-0.550115</td>\n",
       "      <td>-2.019579</td>\n",
       "      <td>0.526443</td>\n",
       "      <td>-0.378827</td>\n",
       "      <td>0.030828</td>\n",
       "    </tr>\n",
       "    <tr>\n",
       "      <th>10172</th>\n",
       "      <td>3.668946</td>\n",
       "      <td>-2.954731</td>\n",
       "      <td>-0.860676</td>\n",
       "      <td>0.511957</td>\n",
       "      <td>-0.490521</td>\n",
       "      <td>-1.962672</td>\n",
       "      <td>-1.776645</td>\n",
       "      <td>0.043462</td>\n",
       "      <td>-0.703045</td>\n",
       "      <td>0.174914</td>\n",
       "      <td>-1.188923</td>\n",
       "    </tr>\n",
       "    <tr>\n",
       "      <th>10173</th>\n",
       "      <td>-4.138804</td>\n",
       "      <td>-0.926078</td>\n",
       "      <td>-2.109125</td>\n",
       "      <td>-0.603035</td>\n",
       "      <td>-1.281605</td>\n",
       "      <td>-0.252294</td>\n",
       "      <td>-0.052355</td>\n",
       "      <td>3.078760</td>\n",
       "      <td>-0.820485</td>\n",
       "      <td>0.812098</td>\n",
       "      <td>-0.440450</td>\n",
       "    </tr>\n",
       "    <tr>\n",
       "      <th>10174</th>\n",
       "      <td>-2.525200</td>\n",
       "      <td>-0.329980</td>\n",
       "      <td>-2.341968</td>\n",
       "      <td>-1.742452</td>\n",
       "      <td>0.042218</td>\n",
       "      <td>-0.618184</td>\n",
       "      <td>-0.106525</td>\n",
       "      <td>1.537698</td>\n",
       "      <td>-0.458748</td>\n",
       "      <td>0.163395</td>\n",
       "      <td>-0.580755</td>\n",
       "    </tr>\n",
       "  </tbody>\n",
       "</table>\n",
       "<p>10175 rows × 11 columns</p>\n",
       "</div>"
      ],
      "text/plain": [
       "            PC1       PC2       PC3       PC4       PC5       PC6       PC7  \\\n",
       "0     -1.444760  0.062726  5.371685 -2.163971 -1.361499 -0.662249  3.109942   \n",
       "1      2.458966  6.418345  1.542705  1.363692 -1.869112 -0.939416  1.545694   \n",
       "2      0.360770  0.277832  2.732029 -3.105924 -0.728588 -1.511496 -2.221117   \n",
       "3     -3.393447 -0.611855 -2.284848 -1.188195 -0.695225 -1.447118  0.705389   \n",
       "4     -0.385730 -0.959989  4.543877 -2.397694 -1.654590 -1.428131 -0.710103   \n",
       "...         ...       ...       ...       ...       ...       ...       ...   \n",
       "10170  1.069354  5.420934 -1.557212  0.938435  0.537694 -0.451399 -0.207461   \n",
       "10171 -4.996754 -1.405603 -0.107241  2.209427 -2.355092  0.965557 -0.550115   \n",
       "10172  3.668946 -2.954731 -0.860676  0.511957 -0.490521 -1.962672 -1.776645   \n",
       "10173 -4.138804 -0.926078 -2.109125 -0.603035 -1.281605 -0.252294 -0.052355   \n",
       "10174 -2.525200 -0.329980 -2.341968 -1.742452  0.042218 -0.618184 -0.106525   \n",
       "\n",
       "            PC8       PC9      PC10      PC11  \n",
       "0     -1.941349 -2.742614 -0.124725 -3.061041  \n",
       "1      1.113180 -1.244247 -3.679200 -0.475175  \n",
       "2     -0.460325 -1.164667 -3.029197 -0.840324  \n",
       "3      2.262285 -0.978725  1.018551  0.430615  \n",
       "4      0.170752  0.804534 -0.058610  0.290546  \n",
       "...         ...       ...       ...       ...  \n",
       "10170 -1.432931 -0.536984  1.663946  0.089143  \n",
       "10171 -2.019579  0.526443 -0.378827  0.030828  \n",
       "10172  0.043462 -0.703045  0.174914 -1.188923  \n",
       "10173  3.078760 -0.820485  0.812098 -0.440450  \n",
       "10174  1.537698 -0.458748  0.163395 -0.580755  \n",
       "\n",
       "[10175 rows x 11 columns]"
      ]
     },
     "execution_count": 47,
     "metadata": {},
     "output_type": "execute_result"
    }
   ],
   "source": [
    "df_pca"
   ]
  },
  {
   "cell_type": "code",
   "execution_count": 48,
   "metadata": {},
   "outputs": [
    {
     "data": {
      "text/plain": [
       "Index(['PC1', 'PC2', 'PC3', 'PC4', 'PC5', 'PC6', 'PC7', 'PC8', 'PC9', 'PC10',\n",
       "       'PC11'],\n",
       "      dtype='object')"
      ]
     },
     "execution_count": 48,
     "metadata": {},
     "output_type": "execute_result"
    }
   ],
   "source": [
    "df_pca.columns"
   ]
  },
  {
   "cell_type": "code",
   "execution_count": 49,
   "metadata": {
    "ExecuteTime": {
     "end_time": "2020-10-07T17:10:54.451065Z",
     "start_time": "2020-10-07T17:10:54.086821Z"
    }
   },
   "outputs": [
    {
     "data": {
      "image/png": "[encoded data removed]",
      "text/plain": [
       "<Figure size 432x288 with 1 Axes>"
      ]
     },
     "metadata": {
      "needs_background": "light"
     },
     "output_type": "display_data"
    }
   ],
   "source": [
    "# Plot PC1 vs PC2\n",
    "\n",
    "x = 'PC1'\n",
    "y = 'PC2'\n",
    "\n",
    "plt.scatter(df_pca[x], df_pca[y])\n",
    "plt.xlabel(x)\n",
    "plt.ylabel(y)\n",
    "plt.title(f\"{x} vs {y}\")\n",
    "plt.show()\n"
   ]
  },
  {
   "cell_type": "markdown",
   "metadata": {},
   "source": [
    "### Make an Interactive Function for Exploring"
   ]
  },
  {
   "cell_type": "code",
   "execution_count": 53,
   "metadata": {},
   "outputs": [
    {
     "name": "stdout",
     "output_type": "stream",
     "text": [
      "Enabling notebook extension jupyter-js-widgets/extension...\r\n",
      "      - Validating: \u001b[32mOK\u001b[0m\r\n"
     ]
    }
   ],
   "source": [
    "from ipywidgets import interact\n",
    "\n",
    "# May need to run the following code and refresh...\n",
    "!jupyter nbextension enable --py widgetsnbextension"
   ]
  },
  {
   "cell_type": "code",
   "execution_count": 54,
   "metadata": {
    "ExecuteTime": {
     "end_time": "2020-10-07T17:14:59.796983Z",
     "start_time": "2020-10-07T17:14:59.405964Z"
    }
   },
   "outputs": [
    {
     "data": {
      "application/vnd.jupyter.widget-view+json": {
       "model_id": "0e32dec432fc4cd9b39b57c9c6e048c5",
       "version_major": 2,
       "version_minor": 0
      },
      "text/plain": [
       "interactive(children=(Dropdown(description='x', options=('PC1', 'PC2', 'PC3', 'PC4', 'PC5', 'PC6', 'PC7', 'PC8…"
      ]
     },
     "metadata": {},
     "output_type": "display_data"
    }
   ],
   "source": [
    "# Make interactive function to show any comparison\n",
    "@interact(x=feature_names, y=feature_names)\n",
    "def plot_2D_PC(x='PC1', y='PC2'): \n",
    "    \"\"\"Plot two principal components against each other\"\"\"\n",
    "    plt.scatter(df_pca[x], df_pca[y])\n",
    "    plt.xlabel(x)\n",
    "    plt.ylabel(y)\n",
    "    plt.title(f\"{x} vs {y}\")\n",
    "    plt.show()"
   ]
  },
  {
   "cell_type": "markdown",
   "metadata": {},
   "source": [
    "## We are only visualizing a small portion of our PC data, lets add another dimension"
   ]
  },
  {
   "cell_type": "markdown",
   "metadata": {},
   "source": [
    "### Make an interactive plotly scatter3d"
   ]
  },
  {
   "cell_type": "code",
   "execution_count": 55,
   "metadata": {
    "ExecuteTime": {
     "end_time": "2020-10-07T17:18:15.577651Z",
     "start_time": "2020-10-07T17:18:15.172708Z"
    },
    "scrolled": false
   },
   "outputs": [
    {
     "data": {
      "application/vnd.jupyter.widget-view+json": {
       "model_id": "d9028c3627614ce28259201d80b4faee",
       "version_major": 2,
       "version_minor": 0
      },
      "text/plain": [
       "interactive(children=(Dropdown(description='x', options=('PC1', 'PC2', 'PC3', 'PC4', 'PC5', 'PC6', 'PC7', 'PC8…"
      ]
     },
     "metadata": {},
     "output_type": "display_data"
    }
   ],
   "source": [
    "@interact(x=feature_names, y=feature_names, z=feature_names)\n",
    "def plot_3D_pc(x='PC1', y='PC2', z='PC3'):\n",
    "    fig = px.scatter_3d(df_pca, x=x, y=y, z=z)\n",
    "    fig.update_traces(marker={'size': 2})\n",
    "    return fig"
   ]
  },
  {
   "cell_type": "markdown",
   "metadata": {},
   "source": [
    "## PCA Summary\n",
    "\n",
    "#### Type of Learning\n",
    "- Unsupervised\n",
    "\n",
    "#### Assumptions\n",
    "- Correlation among features\n",
    "\n",
    "#### Advantages\n",
    "- Captures most of the variance in a smaller number of features\n",
    "\n",
    "#### Disadvantages\n",
    "- Number of principal components that explain most of the variance are determined by the USER\n",
    "\n",
    "#### Requirements \n",
    "\n",
    "- Features must be scaled (StandardScaler)\n",
    "- Sensitive to missing data.\n",
    "- Sensitive to outliers.\n",
    "\n",
    "#### Example Use\n",
    "- Reducing feature space\n",
    "- Preprocessing\n",
    "- Creating a few, informative variables from tons of data"
   ]
  },
  {
   "cell_type": "markdown",
   "metadata": {
    "heading_collapsed": true,
    "hidden": true
   },
   "source": [
    "## Extra Resource"
   ]
  },
  {
   "cell_type": "markdown",
   "metadata": {
    "hidden": true
   },
   "source": [
    "[Here's](https://www.youtube.com/watch?v=_UVHneBUBW0) a helpful video introduction to PCA if you're itching for more!"
   ]
  },
  {
   "cell_type": "markdown",
   "metadata": {
    "heading_collapsed": true,
    "hidden": true
   },
   "source": [
    "----\n",
    "\n",
    "## Level Up: Relation to Linear Regression"
   ]
  },
  {
   "cell_type": "markdown",
   "metadata": {
    "heading_collapsed": true
   },
   "source": [
    "### New Scenario: Car Properties"
   ]
  },
  {
   "cell_type": "code",
   "execution_count": 56,
   "metadata": {
    "hidden": true,
    "scrolled": true
   },
   "outputs": [],
   "source": [
    "cars = pd.read_csv('data/cars.csv')"
   ]
  },
  {
   "cell_type": "code",
   "execution_count": 57,
   "metadata": {
    "hidden": true
   },
   "outputs": [],
   "source": [
    "cars[' cubicinches'].replace(' ', np.nan, inplace=True)\n",
    "cars[' cubicinches'] = cars[' cubicinches'].astype(float)\n",
    "\n",
    "cars[' weightlbs'].replace(' ', np.nan, inplace=True)\n",
    "cars[' weightlbs'] = cars[' weightlbs'].astype(float)"
   ]
  },
  {
   "cell_type": "code",
   "execution_count": 58,
   "metadata": {
    "hidden": true
   },
   "outputs": [],
   "source": [
    "X_train, X_test, y_train, y_test = train_test_split(cars.drop('mpg', axis=1),\n",
    "                                                    cars['mpg'],\n",
    "                                                    random_state=20)"
   ]
  },
  {
   "cell_type": "code",
   "execution_count": 59,
   "metadata": {
    "hidden": true
   },
   "outputs": [],
   "source": [
    "ct1 = ColumnTransformer(transformers=[\n",
    "    ('imputer', SimpleImputer(), [1, 3])],\n",
    "    remainder='passthrough')"
   ]
  },
  {
   "cell_type": "code",
   "execution_count": 60,
   "metadata": {
    "hidden": true
   },
   "outputs": [],
   "source": [
    "ct2 = ColumnTransformer(transformers=[\n",
    "    ('scaler', StandardScaler(), [0, 1, 2, 3, 4, 5]),\n",
    "    ('ohe', OneHotEncoder(), [6])],\n",
    "    remainder='passthrough')"
   ]
  },
  {
   "cell_type": "code",
   "execution_count": 61,
   "metadata": {
    "hidden": true
   },
   "outputs": [],
   "source": [
    "pipe = Pipeline(steps=[\n",
    "    ('ct1', ct1),\n",
    "    ('ct2', ct2)\n",
    "])"
   ]
  },
  {
   "cell_type": "code",
   "execution_count": 62,
   "metadata": {
    "hidden": true
   },
   "outputs": [
    {
     "data": {
      "text/plain": [
       "Pipeline(steps=[('ct1',\n",
       "                 ColumnTransformer(remainder='passthrough',\n",
       "                                   transformers=[('imputer', SimpleImputer(),\n",
       "                                                  [1, 3])])),\n",
       "                ('ct2',\n",
       "                 ColumnTransformer(remainder='passthrough',\n",
       "                                   transformers=[('scaler', StandardScaler(),\n",
       "                                                  [0, 1, 2, 3, 4, 5]),\n",
       "                                                 ('ohe', OneHotEncoder(),\n",
       "                                                  [6])]))])"
      ]
     },
     "execution_count": 62,
     "metadata": {},
     "output_type": "execute_result"
    }
   ],
   "source": [
    "pipe.fit(X_train)"
   ]
  },
  {
   "cell_type": "code",
   "execution_count": 63,
   "metadata": {
    "hidden": true
   },
   "outputs": [],
   "source": [
    "X_tr_pp = pipe.transform(X_train)\n",
    "X_te_pp = pipe.transform(X_test)"
   ]
  },
  {
   "cell_type": "markdown",
   "metadata": {
    "hidden": true
   },
   "source": [
    "### Question: Is the first principal component the same line we would get if we constructed an ordinary least-squares regression line?\n",
    "\n",
    "Answer: No. The best-fit line minimizes the sum of squared errors, i.e. the minimum sum of (\"vertical\") distances between the predictions and the real values of the dependent variable. Principal Component Analysis, by contrast, is not a modeling procedure and so has no target. The first principal component thus cannot minimize the sum of distances between predictions and real values; instead, it minimizes the sum of (\"perpendicular\") distances between the data points and *it (the line) itself*.\n",
    "\n",
    "Suppose we look at MPG vs. z-scores of weight in lbs. Let's make a scatter plot:"
   ]
  },
  {
   "cell_type": "code",
   "execution_count": 64,
   "metadata": {
    "hidden": true
   },
   "outputs": [
    {
     "data": {
      "image/png": "[encoded data removed]",
      "text/plain": [
       "<Figure size 432x288 with 1 Axes>"
      ]
     },
     "metadata": {
      "needs_background": "light"
     },
     "output_type": "display_data"
    }
   ],
   "source": [
    "f, a = plt.subplots()\n",
    "\n",
    "a.scatter(X_tr_pp[:, 1], y_train)\n",
    "a.set_xlabel('weight z-scores (lbs.)')\n",
    "a.set_ylabel('efficiency (MPG)')\n",
    "a.set_title('MPG vs. Weight');"
   ]
  },
  {
   "cell_type": "markdown",
   "metadata": {
    "hidden": true
   },
   "source": [
    "Let's add the best-fit line:"
   ]
  },
  {
   "cell_type": "code",
   "execution_count": 65,
   "metadata": {
    "hidden": true
   },
   "outputs": [],
   "source": [
    "beta1 = LinearRegression().fit(X_tr_pp[:, 1].reshape(-1, 1),\n",
    "                               y_train).coef_\n",
    "beta0 = LinearRegression().fit(X_tr_pp[:, 1].reshape(-1, 1),\n",
    "                               y_train).intercept_"
   ]
  },
  {
   "cell_type": "code",
   "execution_count": 66,
   "metadata": {
    "hidden": true
   },
   "outputs": [
    {
     "data": {
      "image/png": "[encoded data removed]",
      "text/plain": [
       "<Figure size 432x288 with 1 Axes>"
      ]
     },
     "metadata": {
      "needs_background": "light"
     },
     "output_type": "display_data"
    }
   ],
   "source": [
    "f, a = plt.subplots()\n",
    "\n",
    "a.scatter(X_tr_pp[:, 1], y_train)\n",
    "a.plot(X_tr_pp[:, 1],\n",
    "       beta1[0] * X_tr_pp[:, 1] + beta0,\n",
    "      c='r', label='best-fit line')\n",
    "a.set_xlabel('weight z-scores (lbs.)')\n",
    "a.set_ylabel('efficiency (MPG)')\n",
    "a.set_title('MPG vs. Weight')\n",
    "plt.legend();"
   ]
  },
  {
   "cell_type": "markdown",
   "metadata": {
    "hidden": true
   },
   "source": [
    "Now let's see what the principal component looks like. We'll make use of the `inverse_transform()` method of `PCA()` objects."
   ]
  },
  {
   "cell_type": "code",
   "execution_count": 67,
   "metadata": {
    "hidden": true
   },
   "outputs": [],
   "source": [
    "pc1 = PCA(n_components=1).fit(np.concatenate((X_tr_pp[:, 1].reshape(-1, 1),\n",
    "                                 y_train.values.reshape(-1, 1)),\n",
    "                                axis=1))\n",
    "\n",
    "pc = pc1.transform(np.concatenate((X_tr_pp[:, 1].reshape(-1, 1),\n",
    "                                   y_train.values.reshape(-1, 1)),\n",
    "                                  axis=1))\n",
    "\n",
    "pc_inv = pc1.inverse_transform(pc)"
   ]
  },
  {
   "cell_type": "code",
   "execution_count": 68,
   "metadata": {
    "hidden": true
   },
   "outputs": [
    {
     "data": {
      "image/png": "[encoded data removed]",
      "text/plain": [
       "<Figure size 432x288 with 1 Axes>"
      ]
     },
     "metadata": {
      "needs_background": "light"
     },
     "output_type": "display_data"
    }
   ],
   "source": [
    "f, a = plt.subplots()\n",
    "\n",
    "a.scatter(X_tr_pp[:, 1], y_train)\n",
    "a.plot(X_tr_pp[:, 1],\n",
    "       beta1[0] * X_tr_pp[:, 1] + beta0,\n",
    "       c='r', label='best-fit line')\n",
    "a.plot(pc_inv[:, 0],\n",
    "       pc_inv[:, 1],\n",
    "       c='b', label='principal component')\n",
    "a.set_xlabel('weight z-scores (lbs.)')\n",
    "a.set_ylabel('efficiency (MPG)')\n",
    "a.set_title('MPG vs. Weight')\n",
    "plt.legend();"
   ]
  },
  {
   "cell_type": "markdown",
   "metadata": {
    "hidden": true
   },
   "source": [
    "Check out this post, to which the preceding is indebted, for more on this subtle point: https://shankarmsy.github.io/posts/pca-vs-lr.html"
   ]
  },
  {
   "cell_type": "markdown",
   "metadata": {
    "heading_collapsed": true,
    "hidden": true
   },
   "source": [
    "## Level Up: Diagonalization"
   ]
  },
  {
   "cell_type": "markdown",
   "metadata": {
    "hidden": true
   },
   "source": [
    "The key idea is to diagonalize (i.e. find the eigendecomposition of) the covariance matrix. The decomposition will produce a set of orthogonal vectors that explain as much of the remaining variance as possible. These are our [principal components](https://math.stackexchange.com/questions/23596/why-is-the-eigenvector-of-a-covariance-matrix-equal-to-a-principal-component).\n",
    "\n",
    "Let's say a word about eigenvalues and eigenvectors. It turns out that eigenvalues and -vectors have a dizzying number of applications. But the basic idea is that, if we can split a bunch of vectors (i.e. a matrix) into a set of mutually orthogonal vectors, then we can isolate the force of the bunch into discrete bits, each of which by itself acts like a simple linear transformation.\n",
    "\n",
    "That is, the vector is oriented in just such a direction that multiplying the matrix by it serves only to lengthen or shorten it."
   ]
  },
  {
   "cell_type": "markdown",
   "metadata": {
    "hidden": true
   },
   "source": [
    "The diagonalization looks like this:\n",
    "\n",
    "$A = Q\\Lambda Q^{-1}$, where $Q$ is a matrix comprising the **eigenvectors** of $A$ and $\\Lambda$ has non-zero elements only along its main diagonal (hence the \"diagonalization\" of $A$). These non-zero elements are the **eigenvalues** of $A$. We'll return to eigendecomposition later when we discuss recommendation systems and the singular value decomposition, which is a related matrix factorization."
   ]
  },
  {
   "cell_type": "markdown",
   "metadata": {
    "hidden": true
   },
   "source": [
    "Suppose we have the matrix\n",
    "$A =\n",
    "\\begin{bmatrix}\n",
    "a_{11} & a_{12} \\\\\n",
    "a_{21} & a_{22} \\\\\n",
    "\\end{bmatrix}\n",
    "$.\n",
    "\n",
    "Let's calculate the eigendecomposition of this matrix.\n",
    "\n",
    "In order to do this, we set $(A - \\lambda I)\\vec{x} = 0$. One trivial solution is $\\vec{x} = \\vec{0}$, but if there are more interesting solutions, then it must be that $|A - \\lambda I| = 0$, which is to say that some column vector in $A - \\lambda I$ must be expressible as a linear combination of the other columns. (Otherwise, there would be no way to \"undo\" the multiplicative effect of a column vector on $\\vec{x}$!) For more on this point, see [this page](http://www2.math.uconn.edu/~troby/math2210f16/LT/sec1_7.pdf).\n",
    "\n",
    "So we have:\n",
    "\n",
    "$\\begin{vmatrix}\n",
    "a_{11} - \\lambda & a_{12} \\\\\n",
    "a_{21} & a_{22} - \\lambda\n",
    "\\end{vmatrix} = 0$\n",
    "\n",
    "$(a_{11} - \\lambda)(a_{22} - \\lambda) - a_{12}a_{21} = 0$\n",
    "\n",
    "$\\lambda^2 - (a_{11} + a_{22})\\lambda + a_{11}a_{22} - a_{12}a_{21}$\n",
    "\n",
    "$\\lambda = \\frac{a_{11} + a_{22}\\pm\\sqrt{(a_{11} + a_{22})^2 + 4(a_{12}a_{21} - a_{11}a_{22})}}{2}$\n",
    "\n",
    "Suppose e.g. we had\n",
    "\n",
    "$A = \\begin{bmatrix}\n",
    "5 & 3 \\\\\n",
    "3 & 5\n",
    "\\end{bmatrix}$.\n",
    "\n",
    "We can use the equation we just derived to solve for the eigenvalues of this matrix. Then we can plug *those* into our eigenvector definition to solve for the eigenvectors"
   ]
  },
  {
   "cell_type": "markdown",
   "metadata": {
    "heading_collapsed": true,
    "hidden": true
   },
   "source": [
    "### Eigenvalues"
   ]
  },
  {
   "cell_type": "markdown",
   "metadata": {
    "hidden": true
   },
   "source": [
    "$\\lambda = \\frac{5+5\\pm\\sqrt{(5+5)^2+4(3\\times 3 - 5\\times 5)}}{2} = 5\\pm\\frac{\\sqrt{36}}{2} = 2, 8$."
   ]
  },
  {
   "cell_type": "markdown",
   "metadata": {
    "heading_collapsed": true,
    "hidden": true
   },
   "source": [
    "### Eigenvectors"
   ]
  },
  {
   "cell_type": "markdown",
   "metadata": {
    "hidden": true
   },
   "source": [
    "Now we can plug those in. If we plug in $\\lambda = 8$, then we get:\n",
    "\n",
    "$\\begin{bmatrix}\n",
    "5-8 & 3 \\\\\n",
    "3 & 5-8\n",
    "\\end{bmatrix}\n",
    "\\begin{bmatrix}\n",
    "x_1 \\\\\n",
    "x_2\n",
    "\\end{bmatrix}\n",
    "=\n",
    "\\begin{bmatrix}\n",
    "-3 & 3 \\\\\n",
    "3 & -3\n",
    "\\end{bmatrix}\n",
    "\\begin{bmatrix}\n",
    "x_1 \\\\\n",
    "x_2\n",
    "\\end{bmatrix} = 0.$\n",
    "\n",
    "So:\n",
    "\n",
    "$-3x_1 + 3x_2 = 0$ (or $3x_1 - 3x_2 = 0$)\n",
    "\n",
    "$x_1 = x_2$.\n",
    "\n",
    "It is standard to scale eigenvectors to a magnitude of 1, and so we would write this eigenvector as\n",
    "$\\begin{bmatrix}\n",
    "\\frac{\\sqrt{2}}{2} \\\\\n",
    "\\frac{\\sqrt{2}}{2}\n",
    "\\end{bmatrix}$.\n",
    "\n",
    "If we plug in $\\lambda = 2$, we find a second eigenvector equal to\n",
    "$\\begin{bmatrix}\n",
    "-\\frac{\\sqrt{2}}{2} \\\\\n",
    "\\frac{\\sqrt{2}}{2}\n",
    "\\end{bmatrix}$. (I'll leave this as an exercise.)\n",
    "\n",
    "**Thus we can express the full diagonalization of our matrix as follows**:\n",
    "\n",
    "$A = \\begin{bmatrix}\n",
    "5 & 3 \\\\\n",
    "3 & 5\n",
    "\\end{bmatrix} =\n",
    "\\begin{bmatrix}\n",
    "\\frac{\\sqrt{2}}{2} & -\\frac{\\sqrt{2}}{2} \\\\\n",
    "\\frac{\\sqrt{2}}{2} & \\frac{\\sqrt{2}}{2}\n",
    "\\end{bmatrix}\n",
    "\\begin{bmatrix}\n",
    "8 & 0 \\\\\n",
    "0 & 2\n",
    "\\end{bmatrix}\n",
    "\\begin{bmatrix}\n",
    "\\frac{\\sqrt{2}}{2} & \\frac{\\sqrt{2}}{2} \\\\\n",
    "-\\frac{\\sqrt{2}}{2} & \\frac{\\sqrt{2}}{2}\n",
    "\\end{bmatrix}$"
   ]
  },
  {
   "cell_type": "markdown",
   "metadata": {
    "heading_collapsed": true,
    "hidden": true
   },
   "source": [
    "### Level Up: Diagonalization In Code"
   ]
  },
  {
   "cell_type": "code",
   "execution_count": 69,
   "metadata": {
    "hidden": true
   },
   "outputs": [
    {
     "data": {
      "text/plain": [
       "(array([8., 2.]),\n",
       " array([[ 0.70710678, -0.70710678],\n",
       "        [ 0.70710678,  0.70710678]]))"
      ]
     },
     "execution_count": 69,
     "metadata": {},
     "output_type": "execute_result"
    }
   ],
   "source": [
    "# We can use np.linalg.eig()\n",
    "\n",
    "A = np.array([[5, 3], [3, 5]])\n",
    "np.linalg.eig(A)"
   ]
  },
  {
   "cell_type": "code",
   "execution_count": 70,
   "metadata": {
    "hidden": true
   },
   "outputs": [],
   "source": [
    "# np.linalg.eig(X) returns a double of NumPy arrays, the first containing\n",
    "# the eigenvalues of X and the second containing the eigenvectors of X.\n",
    "\n",
    "v, q = np.linalg.eig(A)"
   ]
  },
  {
   "cell_type": "code",
   "execution_count": 71,
   "metadata": {
    "hidden": true
   },
   "outputs": [
    {
     "data": {
      "text/plain": [
       "array([8., 2.])"
      ]
     },
     "execution_count": 71,
     "metadata": {},
     "output_type": "execute_result"
    }
   ],
   "source": [
    "v"
   ]
  },
  {
   "cell_type": "code",
   "execution_count": 72,
   "metadata": {
    "hidden": true
   },
   "outputs": [
    {
     "data": {
      "text/plain": [
       "array([[8., 0.],\n",
       "       [0., 2.]])"
      ]
     },
     "execution_count": 72,
     "metadata": {},
     "output_type": "execute_result"
    }
   ],
   "source": [
    "# np.diag()\n",
    "\n",
    "np.diag(v)"
   ]
  },
  {
   "cell_type": "code",
   "execution_count": 73,
   "metadata": {
    "hidden": true
   },
   "outputs": [
    {
     "data": {
      "text/plain": [
       "array([[5., 3.],\n",
       "       [3., 5.]])"
      ]
     },
     "execution_count": 73,
     "metadata": {},
     "output_type": "execute_result"
    }
   ],
   "source": [
    "# Reconstruct A by multiplication\n",
    "\n",
    "q.dot(np.diag(v)).dot(q.T)"
   ]
  },
  {
   "cell_type": "code",
   "execution_count": 74,
   "metadata": {
    "hidden": true
   },
   "outputs": [
    {
     "name": "stdout",
     "output_type": "stream",
     "text": [
      "True\n",
      "True\n"
     ]
    }
   ],
   "source": [
    "# Illustration that the columns of q\n",
    "# are eigenvectors of A, where\n",
    "# multiplication by A scales them by\n",
    "# the eigenvalues\n",
    "\n",
    "print(np.allclose(A.dot(q.T[0]), v[0]*q.T[0]))\n",
    "print(np.allclose(A.dot(q.T[1]), v[1]*q.T[1]))"
   ]
  },
  {
   "cell_type": "code",
   "execution_count": null,
   "metadata": {},
   "outputs": [],
   "source": []
  }
 ],
 "metadata": {
  "kernelspec": {
   "display_name": "Python (learn-env)",
   "language": "python",
   "name": "learn-env"
  },
  "language_info": {
   "codemirror_mode": {
    "name": "ipython",
    "version": 3
   },
   "file_extension": ".py",
   "mimetype": "text/x-python",
   "name": "python",
   "nbconvert_exporter": "python",
   "pygments_lexer": "ipython3",
   "version": "3.8.5"
  },
  "toc": {
   "base_numbering": 1,
   "nav_menu": {},
   "number_sections": true,
   "sideBar": true,
   "skip_h1_title": false,
   "title_cell": "Table of Contents",
   "title_sidebar": "Contents",
   "toc_cell": true,
   "toc_position": {
    "height": "calc(100% - 180px)",
    "left": "10px",
    "top": "150px",
    "width": "294px"
   },
   "toc_section_display": true,
   "toc_window_display": true
  }
 },
 "nbformat": 4,
 "nbformat_minor": 2
}
